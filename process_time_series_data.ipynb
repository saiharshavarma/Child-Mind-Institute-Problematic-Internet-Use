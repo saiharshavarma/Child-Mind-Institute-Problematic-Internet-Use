{
 "cells": [
  {
   "cell_type": "markdown",
   "metadata": {},
   "source": [
    "Step 1: Some initial view of the parquet data - overall we know that there may be some gaps even in the data available"
   ]
  },
  {
   "cell_type": "code",
   "execution_count": 5,
   "metadata": {},
   "outputs": [],
   "source": [
    "import pandas as pd\n",
    "import os"
   ]
  },
  {
   "cell_type": "code",
   "execution_count": 6,
   "metadata": {},
   "outputs": [],
   "source": [
    "file_path = '/Users/naliniramanathan/projects/ml_course/final_project/kaggle/input/cmi-piu'"
   ]
  },
  {
   "cell_type": "code",
   "execution_count": 7,
   "metadata": {},
   "outputs": [],
   "source": [
    "SERIES_TRAIN_DIR = f'{file_path}/series_train.parquet'\n",
    "SERIES_TEST_DIR = f'{file_path}/series_test.parquet'"
   ]
  },
  {
   "cell_type": "code",
   "execution_count": 8,
   "metadata": {},
   "outputs": [],
   "source": [
    "train_parquet_path = f'{SERIES_TRAIN_DIR}/id=0a418b57/part-0.parquet'\n",
    "file = pd.read_parquet(train_parquet_path)"
   ]
  },
  {
   "cell_type": "code",
   "execution_count": 10,
   "metadata": {},
   "outputs": [
    {
     "data": {
      "text/html": [
       "<div>\n",
       "<style scoped>\n",
       "    .dataframe tbody tr th:only-of-type {\n",
       "        vertical-align: middle;\n",
       "    }\n",
       "\n",
       "    .dataframe tbody tr th {\n",
       "        vertical-align: top;\n",
       "    }\n",
       "\n",
       "    .dataframe thead th {\n",
       "        text-align: right;\n",
       "    }\n",
       "</style>\n",
       "<table border=\"1\" class=\"dataframe\">\n",
       "  <thead>\n",
       "    <tr style=\"text-align: right;\">\n",
       "      <th></th>\n",
       "      <th>step</th>\n",
       "      <th>X</th>\n",
       "      <th>Y</th>\n",
       "      <th>Z</th>\n",
       "      <th>enmo</th>\n",
       "      <th>anglez</th>\n",
       "      <th>non-wear_flag</th>\n",
       "      <th>light</th>\n",
       "      <th>battery_voltage</th>\n",
       "      <th>time_of_day</th>\n",
       "      <th>weekday</th>\n",
       "      <th>quarter</th>\n",
       "      <th>relative_date_PCIAT</th>\n",
       "    </tr>\n",
       "  </thead>\n",
       "  <tbody>\n",
       "    <tr>\n",
       "      <th>0</th>\n",
       "      <td>0</td>\n",
       "      <td>-0.075242</td>\n",
       "      <td>-0.256743</td>\n",
       "      <td>-0.973791</td>\n",
       "      <td>0.038081</td>\n",
       "      <td>-72.952141</td>\n",
       "      <td>0.0</td>\n",
       "      <td>5.0</td>\n",
       "      <td>4202.000000</td>\n",
       "      <td>51250000000000</td>\n",
       "      <td>2</td>\n",
       "      <td>4</td>\n",
       "      <td>-9.0</td>\n",
       "    </tr>\n",
       "    <tr>\n",
       "      <th>1</th>\n",
       "      <td>1</td>\n",
       "      <td>-0.265893</td>\n",
       "      <td>-0.270508</td>\n",
       "      <td>-0.765470</td>\n",
       "      <td>0.077430</td>\n",
       "      <td>-52.849220</td>\n",
       "      <td>0.0</td>\n",
       "      <td>0.5</td>\n",
       "      <td>4185.333496</td>\n",
       "      <td>51255000000000</td>\n",
       "      <td>2</td>\n",
       "      <td>4</td>\n",
       "      <td>-9.0</td>\n",
       "    </tr>\n",
       "    <tr>\n",
       "      <th>2</th>\n",
       "      <td>2</td>\n",
       "      <td>0.334517</td>\n",
       "      <td>-0.548602</td>\n",
       "      <td>-0.588596</td>\n",
       "      <td>0.039162</td>\n",
       "      <td>-44.118084</td>\n",
       "      <td>0.0</td>\n",
       "      <td>11.5</td>\n",
       "      <td>4185.500000</td>\n",
       "      <td>51260000000000</td>\n",
       "      <td>2</td>\n",
       "      <td>4</td>\n",
       "      <td>-9.0</td>\n",
       "    </tr>\n",
       "    <tr>\n",
       "      <th>3</th>\n",
       "      <td>3</td>\n",
       "      <td>0.000193</td>\n",
       "      <td>-0.021069</td>\n",
       "      <td>-0.999681</td>\n",
       "      <td>0.001450</td>\n",
       "      <td>-88.759613</td>\n",
       "      <td>0.0</td>\n",
       "      <td>0.0</td>\n",
       "      <td>4185.666504</td>\n",
       "      <td>51265000000000</td>\n",
       "      <td>2</td>\n",
       "      <td>4</td>\n",
       "      <td>-9.0</td>\n",
       "    </tr>\n",
       "    <tr>\n",
       "      <th>4</th>\n",
       "      <td>4</td>\n",
       "      <td>-0.000685</td>\n",
       "      <td>-0.020681</td>\n",
       "      <td>-0.997677</td>\n",
       "      <td>0.000491</td>\n",
       "      <td>-88.756958</td>\n",
       "      <td>0.0</td>\n",
       "      <td>8.5</td>\n",
       "      <td>4185.833496</td>\n",
       "      <td>51270000000000</td>\n",
       "      <td>2</td>\n",
       "      <td>4</td>\n",
       "      <td>-9.0</td>\n",
       "    </tr>\n",
       "    <tr>\n",
       "      <th>...</th>\n",
       "      <td>...</td>\n",
       "      <td>...</td>\n",
       "      <td>...</td>\n",
       "      <td>...</td>\n",
       "      <td>...</td>\n",
       "      <td>...</td>\n",
       "      <td>...</td>\n",
       "      <td>...</td>\n",
       "      <td>...</td>\n",
       "      <td>...</td>\n",
       "      <td>...</td>\n",
       "      <td>...</td>\n",
       "      <td>...</td>\n",
       "    </tr>\n",
       "    <tr>\n",
       "      <th>213418</th>\n",
       "      <td>213418</td>\n",
       "      <td>0.391111</td>\n",
       "      <td>0.658119</td>\n",
       "      <td>-0.511350</td>\n",
       "      <td>0.060158</td>\n",
       "      <td>-35.455124</td>\n",
       "      <td>0.0</td>\n",
       "      <td>22.0</td>\n",
       "      <td>3817.430664</td>\n",
       "      <td>38745000000000</td>\n",
       "      <td>1</td>\n",
       "      <td>4</td>\n",
       "      <td>25.0</td>\n",
       "    </tr>\n",
       "    <tr>\n",
       "      <th>213419</th>\n",
       "      <td>213419</td>\n",
       "      <td>0.551039</td>\n",
       "      <td>0.078267</td>\n",
       "      <td>-0.787324</td>\n",
       "      <td>0.094029</td>\n",
       "      <td>-52.621586</td>\n",
       "      <td>0.0</td>\n",
       "      <td>22.0</td>\n",
       "      <td>3817.430664</td>\n",
       "      <td>38750000000000</td>\n",
       "      <td>1</td>\n",
       "      <td>4</td>\n",
       "      <td>25.0</td>\n",
       "    </tr>\n",
       "    <tr>\n",
       "      <th>213420</th>\n",
       "      <td>213420</td>\n",
       "      <td>0.667007</td>\n",
       "      <td>-0.126560</td>\n",
       "      <td>-0.751950</td>\n",
       "      <td>0.013104</td>\n",
       "      <td>-47.961002</td>\n",
       "      <td>0.0</td>\n",
       "      <td>22.0</td>\n",
       "      <td>3817.430664</td>\n",
       "      <td>39015000000000</td>\n",
       "      <td>1</td>\n",
       "      <td>4</td>\n",
       "      <td>25.0</td>\n",
       "    </tr>\n",
       "    <tr>\n",
       "      <th>213421</th>\n",
       "      <td>213421</td>\n",
       "      <td>0.666465</td>\n",
       "      <td>-0.125810</td>\n",
       "      <td>-0.749048</td>\n",
       "      <td>0.010495</td>\n",
       "      <td>-47.928806</td>\n",
       "      <td>0.0</td>\n",
       "      <td>22.0</td>\n",
       "      <td>3817.430664</td>\n",
       "      <td>39020000000000</td>\n",
       "      <td>1</td>\n",
       "      <td>4</td>\n",
       "      <td>25.0</td>\n",
       "    </tr>\n",
       "    <tr>\n",
       "      <th>213422</th>\n",
       "      <td>213422</td>\n",
       "      <td>0.666620</td>\n",
       "      <td>-0.125483</td>\n",
       "      <td>-0.747113</td>\n",
       "      <td>0.009121</td>\n",
       "      <td>-47.806187</td>\n",
       "      <td>0.0</td>\n",
       "      <td>22.0</td>\n",
       "      <td>3817.430664</td>\n",
       "      <td>39025000000000</td>\n",
       "      <td>1</td>\n",
       "      <td>4</td>\n",
       "      <td>25.0</td>\n",
       "    </tr>\n",
       "  </tbody>\n",
       "</table>\n",
       "<p>213423 rows × 13 columns</p>\n",
       "</div>"
      ],
      "text/plain": [
       "          step         X         Y         Z      enmo     anglez  \\\n",
       "0            0 -0.075242 -0.256743 -0.973791  0.038081 -72.952141   \n",
       "1            1 -0.265893 -0.270508 -0.765470  0.077430 -52.849220   \n",
       "2            2  0.334517 -0.548602 -0.588596  0.039162 -44.118084   \n",
       "3            3  0.000193 -0.021069 -0.999681  0.001450 -88.759613   \n",
       "4            4 -0.000685 -0.020681 -0.997677  0.000491 -88.756958   \n",
       "...        ...       ...       ...       ...       ...        ...   \n",
       "213418  213418  0.391111  0.658119 -0.511350  0.060158 -35.455124   \n",
       "213419  213419  0.551039  0.078267 -0.787324  0.094029 -52.621586   \n",
       "213420  213420  0.667007 -0.126560 -0.751950  0.013104 -47.961002   \n",
       "213421  213421  0.666465 -0.125810 -0.749048  0.010495 -47.928806   \n",
       "213422  213422  0.666620 -0.125483 -0.747113  0.009121 -47.806187   \n",
       "\n",
       "        non-wear_flag  light  battery_voltage     time_of_day  weekday  \\\n",
       "0                 0.0    5.0      4202.000000  51250000000000        2   \n",
       "1                 0.0    0.5      4185.333496  51255000000000        2   \n",
       "2                 0.0   11.5      4185.500000  51260000000000        2   \n",
       "3                 0.0    0.0      4185.666504  51265000000000        2   \n",
       "4                 0.0    8.5      4185.833496  51270000000000        2   \n",
       "...               ...    ...              ...             ...      ...   \n",
       "213418            0.0   22.0      3817.430664  38745000000000        1   \n",
       "213419            0.0   22.0      3817.430664  38750000000000        1   \n",
       "213420            0.0   22.0      3817.430664  39015000000000        1   \n",
       "213421            0.0   22.0      3817.430664  39020000000000        1   \n",
       "213422            0.0   22.0      3817.430664  39025000000000        1   \n",
       "\n",
       "        quarter  relative_date_PCIAT  \n",
       "0             4                 -9.0  \n",
       "1             4                 -9.0  \n",
       "2             4                 -9.0  \n",
       "3             4                 -9.0  \n",
       "4             4                 -9.0  \n",
       "...         ...                  ...  \n",
       "213418        4                 25.0  \n",
       "213419        4                 25.0  \n",
       "213420        4                 25.0  \n",
       "213421        4                 25.0  \n",
       "213422        4                 25.0  \n",
       "\n",
       "[213423 rows x 13 columns]"
      ]
     },
     "execution_count": 10,
     "metadata": {},
     "output_type": "execute_result"
    }
   ],
   "source": [
    "file"
   ]
  },
  {
   "cell_type": "code",
   "execution_count": null,
   "metadata": {},
   "outputs": [
    {
     "name": "stdout",
     "output_type": "stream",
     "text": [
      "['0d01bbf2', 'cefdb7fe', '58391429', '2ca2206f', '19455336', 'ca33a5e7', '92bb8516', '2812951b', '6b6467f4', '9d6b1410', '22c72c4e', 'b3b200af', 'ebf30e46', '2a0b8386', '71c1b1d2', 'e683d2c9', 'bebff291', 'd4d2f272', '81d3ab22', '051680a0', '1aff6762', 'a0522c83', 'b447e66d', '90161e10', 'adbd6839', '3e5d5b58', 'cd68643b', 'af4f064e', '554e46e9', '8f21c613', '3826be66', '2898269f', '43f5d3c5', '76fb4afb', 'fc2c2c08', '1837456f', '4bc2bee9', 'a402c6c8', '035c96dd', '29587a31', 'ab16a20d', 'fa34f945', 'c9600298', '070386b2', '91656d27', '3f1f23e7', 'e46417a7', '7b0a4060', '5f574f3d', '8c1f9196', '5e57bd12', 'd3da09e8', '4a9f92ca', '7e87087b', '8a77c3e9', '5779f2e9', '93904b23', '98413061', 'fa633e39', 'c3d46daf', 'd8037389', 'b7c410a9', 'bc66f41d', '6a4df6ff', '641697e6', '089a6b19', '1f65fa82', '66f619e3', 'c79039af', '0bd89878', 'cb2752bc', '1c5ba087', '54945f30', '5132511c', '0a431608', 'b1de4423', 'a3bd8858', 'e1ccc3d1', '94a1053b', 'fa9a0add', '09331bb8', '18b8b2f6', '045a0a94', 'e21255e2', '930c567c', 'fd028ecc', 'e51193d1', '9d65adbf', '1cd37b36', 'a0182b17', '87050a09', '649ff6d9', '6f5677b7', '6e1d28b6', '4d5a8ce7', '9ebb73c7', 'e0db55b1', 'f47a67cc', '7494989e', '0a418b57', '807d8908', '5ed5f205', 'c9e419e7', 'eef79620', '5b2c9b83', '966161e7', '687c85e7', '9e171735', 'e328a032', 'b3f5c066', '23e024bd', 'f9384fa2', '408bed19', '13eee030', 'b4e69f09', 'a5710c0a', '33fe1b04', 'cfcf9dc9', '893293dd', '3d3dd3ae', '2760be91', '4570c8b8', 'e3bce7e1', '1eea8df2', '35fa2ebf', '56cb7161', 'ed0b3906', '48db8ecf', '428970d4', '3c2cf08e', 'e9d94c4e', '12a607f6', '8cab7bc4', 'eeedcd5e', '8f9c03c6', 'a4530b41', '01085eb3', 'c829500d', '8a4e5d1a', 'f028534c', '37995242', 'e9ca5586', '8c6c52a2', '64b4005d', '00f332d1', '7b543871', '4decbcd8', '98ed2153', 'c6313b18', 'd6251195', '221e37e0', '1b5b34bc', '1aae1de3', '9f9be55c', 'bdbff28b', '7f2715b4', 'ee2bf575', '9d1b2d2c', '6c2edc91', '87af775e', 'f7b1374e', '1e87baed', '697c41d7', 'c294b507', 'c3a86e3e', 'f1baae47', 'cda90e9e', 'd506f4c7', '2e17c497', '397efe7a', '5e55e9fd', '948a7025', '2e5f5207', 'f9334e08', '721ea536', '429cc266', '7f44236f', 'ad9f821d', '6e9beaee', '1314bc8c', '15f2e240', '0bfe4fc9', '26190ddd', '9fa5cdfd', '224fc39a', '4a4a0f78', '351cd4ec', '6826f0be', 'c3dde859', 'ef9617e7', '3d6143f3', 'd5b089a4', 'db9eae59', '4a475a9f', 'fecc07d6', '3875d4de', '012cadd8', 'dd747bba', '36c060b9', '2bbcfd43', '73ec551e', 'ed711416', '215ca39b', '1c063ebc', '1e5f6199', 'd19e1025', '73ffa609', 'd0ac4f1c', '350cf38b', '6dfe4a75', '25a3a723', '8a645723', '68be3d5c', '709457f3', '4aa87859', '47350ac6', 'b7a61f8d', '4950e24c', 'bb0d7d92', '08660d12', '1957153d', 'da19c97e', 'c8fbbc8a', 'ffcd4dbd', '9fb96ae3', '38cccd6d', '19098ef0', 'cb3b7c3c', '11739de2', 'fdc11b96', '6247cc15', '1911731d', 'f8ff0bc8', '080698b7', '7dc65b92', '7b8842c3', 'fc8e4de4', '6d707ac3', 'ac3ba541', 'f5ad7abc', 'ebd6f819', '3f1cf5ba', '4442c376', '3c8f474a', '83846d0c', '001f3379', '948e1435', 'bd4ccd4c', '5ee595e8', 'b9c085ab', '2bac0893', '5ddbac80', 'e4762a2b', '2f154763', '0983654b', 'f6d879aa', 'c5cfaeae', 'a9b84b96', 'cd703872', '898096eb', '14391970', '677038b5', 'ea544af3', 'ec6b57b4', '69b65679', 'e4d396d7', 'eb93a46a', '9eb283e4', 'aa1700c7', '154d1191', '04afb6f9', '6197a2ce', 'b41cee02', '24398aed', 'f3020788', 'a922ef3f', 'ce6eeadf', '8078b7de', '7e46b693', '4d61a44e', 'e0283d3d', 'c5462e87', 'f44f1227', '5ef3d64e', 'fdf4691f', '83eda373', '0f6b71c4', '5264bb0e', '8e59a69a', '0d279d77', 'db3b1dd1', 'af485add', '7c21ad67', '4307d287', '7265f1e5', 'cba39753', '75ad73ee', 'ac1ad4a7', 'c1373df0', '8376acc5', '481a1861', 'e0869709', '0eddd8e5', 'dc33dcef', '745e6065', '58dfccdb', 'bf31e0a7', '1eda934b', 'f35b607c', 'de91310c', '063b16fc', 'a40c8316', '03a9019b', '58ada72e', '9d0670dd', 'b95aad8d', '75b0446f', '02cebf33', '6b773506', '43f44f6c', '15dbc929', 'ab36aa48', 'a774c63b', '63fc9770', 'ae712150', '5c2c136d', 'a1942b0b', '15f217a6', '29c54890', '7a6d26a2', '1fed3943', '2a9e0dee', 'f8bf4a1c', '806d877f', 'e28c0bfa', '24ab10c6', '1d78b3c3', '0745c390', '99b15811', 'bea525dc', '08577722', 'e4614ec6', 'e1e02e28', 'c8270746', '2496c491', '4b0f961e', '0d4fa8f4', '92622443', 'd6cca65e', 'e4e58096', '419d05c6', '11f9b26c', '7bdbf66f', '6d5944a9', '5f78f7b9', 'f75c957f', '2a3fcf9a', 'df98fbb4', '678598dd', 'efa35d35', '06eb8adb', 'a614af1b', 'cd8f3c61', '331733c7', '416b6ba2', 'cbcf8cf2', '04f094a8', '0e3b0bd2', '48df987b', 'a00c85e7', '0ec403df', 'd05f5d71', '9e027e04', 'b9cf3f7c', '34ec5de4', '659fec57', 'f6c20447', 'a6969e1a', '7800a084', 'b802aec3', '43629a34', 'a08ebf6e', '22e44415', '3950aa00', 'a4e0447e', '836b4de3', 'd77ac332', '764d8b42', '3d736110', 'ca3204b0', '108b8659', 'c73dd2e4', '064e8da5', '6f49c8d0', 'c6da0d4b', '3d48430d', 'c8cc2e1b', 'e8e82627', '72c9c38d', '51f38b37', '79bd36b6', '0c4eabac', '1606f203', 'bd8397cb', '93fda84a', '4d19854c', '9e4385f7', '9cee3c19', 'a8d9de72', 'a5099438', 'ebf2b0c9', '440acf4f', 'f11e17c0', '5e359a08', '86a8e0d6', '9aa1a2ae', 'fe9c71d8', '92293b06', '3fcef947', 'f869d220', '00115b9f', 'bba6ff20', 'a3391798', '0d570d3e', '55f9338e', 'f1bd0f59', 'fb04f7dd', '52e9e467', 'd2d9b474', 'a65b2226', '24a3b16d', '0cbe4e54', '50707f1e', 'e4ab3b12', '7f26f78c', '35198c2d', '23e71e7c', 'f584742f', '6c0fe935', '5ea2c305', '14b3d6e5', '76781cd8', 'd661ddf7', '3acb5be3', '4177e5e5', '8f2d131f', '14a6e58e', '8823b020', '4280076d', '05db1b9b', 'a4f13c0d', '4b3c7594', '93c93585', '2cd9b5a3', 'bbe5bedd', '9e052412', '3216b978', 'b074f33b', '579e50bd', '9540fa8e', '2cda86bd', 'f47abc42', 'c2b40d6f', '6c737069', 'c9902f48', '47240aa3', '5f9dddb4', '6774ba64', '325afd3d', '84875079', '1f2164a4', 'c73f149c', '53905a2c', '1eedf45e', '3ba48ca7', 'c38a5c9b', '7c194077', 'c09d41cd', 'f1049268', 'aaefeff0', '63d4ab9a', '432aff11', '40087bc5', '067b9287', 'abaf745c', 'f6c0e2b7', '055156e2', '9052579b', '119e181e', '4a17b463', '3c0aba64', '9f70688f', '23567787', '380029ef', 'f6d6f400', '613fc399', 'ee21612e', '9ddfb9e6', 'cadd4ae5', 'abac67cc', 'db38d1f9', '97bb0cc0', 'd445fb74', '4e85505f', 'f81598bf', '21a76448', '6a16089d', '1b32427b', 'cd39e576', '1e08b1dc', '2fba6cf4', '5d885b20', '0c98f822', 'bc6bd8b2', '101c27f1', 'ef07f833', '3983d3cd', '9570bfb7', 'c6ead822', '43720c15', '22f43a12', '26aeacdf', 'f0957ca1', '5b9ff85e', '07048067', 'c446e1c5', '02cf7384', 'ec9195be', '39fb1ad0', 'f57de847', '32dcc8ab', 'a5974a7d', 'a808ad0a', '913bea9f', 'c96b9609', '685cc0f1', '65fe69c0', 'aae9800e', 'f32a9580', '994ee014', '855c6099', '5b66b6f2', 'f0d76b32', 'b37281d5', '83711ef5', '26d541c2', '6699c999', '6e128c6b', 'c6d4b453', '8e749c85', 'a49eda7f', '2cb0db2c', '119d7562', '13fca10c', 'f5b2acf0', 'eaab7a96', '10ad8c48', '31648caa', 'b08f0ca4', 'e892aec6', '7d8f1716', '0720320e', '2afea280', '7ce36c38', 'ad380962', '113f5798', 'b9e90f7f', 'a302a015', '2a6a6b92', '7c39c8e5', '8abbbc38', '72a0c969', '57f6fa6c', 'e072b994', 'c7d9e964', 'a95b4487', 'e63000c5', 'b823508b', 'ea7277b4', '9061cc9c', '60c1ff37', '9105b812', '260f542b', '3ca35642', 'bfb421f9', '75b53bd4', '95cc96cc', '6795027a', '5f7537cf', '338146bd', '2da6bf6e', '1f7bd44c', 'ea7adcd6', '4940a214', '86bd716a', '95d57ff9', '85d99199', '857baaa6', 'ab54c39e', '27d7e5e4', 'a814e825', '8ec2cc63', '8148c785', '9ce139d3', 'bbd71a7c', 'c3adae87', 'fdea7d9e', '0b4014f0', '2ac0bd9f', '56d9dead', 'd6776176', 'ce379a6a', '6a864b11', 'f8674e15', 'fa3e1e21', '812f6873', 'c3a3f61e', '3d36fe8b', 'ab2ad965', 'c9879365', 'f6cc80a9', 'fb3c2c87', '80b46ffb', '53814642', '71852781', '2fef897e', '563ebc00', '6187d0dc', '37bcfa7e', '35d2aa41', 'de742c5c', '33d60f7d', '436dd613', '3e5ee48c', 'cf1b9d44', '34362a9a', 'db23fbe4', '860f4f9c', '8875387b', '137baaec', '2f8ec752', '62cd5c74', '5f37ceb1', 'f4114031', '8f015125', 'e88aa867', 'bc4eaf77', '384c3f27', '6ac5763a', '2c406043', '70de1c63', 'c38585c5', 'e23a8a0a', '38d53b92', 'e5349ce2', '5124169c', 'd74e4d7c', 'c45068a1', 'c6cc7467', 'a8c1aab5', 'ecd25dd1', '4b71830a', '1fc07a80', '0b7d9da6', 'e1ea8dd7', 'f62b317d', 'a221c60c', '4cabd7aa', '2a88cbe9', 'f4d2f5af', '9130a22e', 'b08423c5', 'b452f767', 'c0442863', '9c1ea003', 'c0a7d046', 'a28c7891', 'e4b47411', '1649ce22', '082df556', 'be210bc7', '51364c23', '64ed48c4', '621066ff', '0ed2a3c8', 'f2d4efd8', 'b712b69b', '89739b1a', '4a62661a', '04d06a9c', 'da09ed4b', '2f1af08a', 'f6b719ee', '28e973b1', '6fb28c2a', 'd57f6c9e', '05bbed1b', '7fa51811', 'dcfcd574', 'a6fbb2e7', '54391716', '1a803bfe', '3b1b9538', 'c4c2076b', '2f16cad4', 'b2987a65', '2a922ca4', '5f1b07e1', '2c54d6c5', 'ef58dd3c', 'd4d9f7f9', 'a1ab89aa', 'f285b43c', 'e3f71f7a', 'd791703f', '1470a1df', '1301f65d', '012e3869', '5cd83147', '9f3ca269', 'c308b134', '5af79adb', '9a5aed6c', 'c00c663c', 'fe3cbf02', '863e40c7', '5985f299', 'adba23f0', '2c3b09db', 'e8b64419', '2ee0a1e8', 'c274a243', '233b9425', '15227eef', 'fad07fce', 'e37d000b', '4dfb4e1d', '54fef303', 'e0655da2', 'f09e7b33', '93559639', '8f753551', '04bb1a76', 'e7401605', '9a7e4c38', '2b34dcf3', 'd28f0d44', '2c2dc20d', '464a75fb', '8e80deb7', '6e85a624', '6282e693', '5c22f241', 'bdcc7d10', '7187caec', 'a148b46f', '7015528d', '9ddb06db', 'ee67eb55', '6fcdcb2a', 'ad0bbf35', 'edb9d0f3', '4926b18a', '427037b2', 'fc49ba65', '0b7d7aec', 'e754411f', 'b23b9220', '81feecad', 'a7b9546a', '0668373f', 'b69bf1f7', '49e4eade', '9dc74359', '8a6b6912', '949f94e5', '3268c574', '732b2327', '0d4800c8', 'd859115e', 'e1958a83', 'b308c03e', 'f74eda33', 'db746de0', '4859a9f9', '31f01671', '372a7950', 'ffed1dd5', '526f719b', 'da5a8921', 'c3061b23', '8a44ea3a', 'dacc2f83', '71850348', '9402b885', '3065aa2f', '7a0136e0', 'd9c82502', '218faf6f', '0c4e2d68', '50b2b84b', '25eba023', 'c0f2a046', 'f64ae747', '7860b64c', 'd87e2d01', '0417c91e', 'a8926a86', '12380b06', 'f015a18c', '68fa4631', '06c8b2fb', '36530d36', 'e0ad6550', 'a5078c62', '9271574b', '1b6fb363', '2c483245', 'df556fd2', 'fb9c5a33', 'f93010a8', 'e1a4575f', 'e76ad778', '82ec9747', '22375702', '85d9c915', 'ab987c75', '3d970ce4', 'ac66c144', '36c1f189', '9027c805', '11be5d2e', 'ff18b749', '5d762840', '52ce9b8b', '21eb6d47', '14568d61', 'adaf7461', 'b9b22bff', '4fd7e043', 'b120a337', '7fa7ccc4', 'ec8f8f95', '23dafdab', '48e69212', '6a2fd807', '3d3b87db', '1f5835cd', '32b8490d', '3a594acf', '3c620257', '6ac5eaaf', '8d8b8553', '0b518637', '9b328d6c', '9a2082cf', '4f059221', '4ca242ea', '81a4b826', '897da2c8', '40aae75f', '86335468', '5a313293', 'b1f064ac', 'a3b146ca', '8ba98f12', '17c1ae23', '93c72a97', '96de5f57', '3e398bf9', '467c549f', '3ab539f0', '25849c6c', '7347b54e', 'ad536dea', 'de3750cc', 'dd689eb0', '144a9a79', 'aecc7e74', 'f67908e7', 'fc41be2f', '29b37b4a', '5c186496', '101774f0', '49a1931d', 'a3858c6a', '327ef356', '4a6af685', '4cde1e34', '0d924604', 'e315fdd7', 'cd89d5f1', 'df4ab9b1', '6ebfdc95', 'c6575d38', '0b50f3fa', '278e8a51', 'cb73fed9', '89a26502', '56ef356c', '71ee31f8', '31b74cd4', '6abd21d4', '6595d479', 'fdb6b48b', '35daea65', 'e243119c', 'bb808a71', '78704d22', '6c6cd633', '9ff73d95', 'ea4619ec', '3b091b83', 'e40319d7', '4f20b188', '5d3b6ea5', 'd08806a2', '9fa68512', 'fd56e059', '9cf04c41', 'a297d1b9', 'c2e15338', '658e66ec', '4e6c7a75', '059eed01', '09b29113', '8ddb6b8d', '22536a61', '37ae1239', '93c06d4c', '93fd93c4', 'fd0d9bca', '9cba0d0e', '30d2fd47', 'a26c3e8f', '8a9e653f', 'de3ecca9', '10e46254', '954a4c2e', '9e964060', '428c37ea', '537dc410', '04cb2c30', 'c9dabad5', '4dc4ed56', '2d0bbbd3', 'd5fde276', '099e3614', '321202d4', 'ec13a1b9', 'a4481101', 'fab75c2c', '75c13e08', 'b2b56219', '83912085', '0fbb3ca5', '9ab4909f', 'cd144127', '1b2eea8f', '8c0ca955', 'ba73bc7c', 'd5a8d9b0', '31d61741', '5f099188', 'f7fc97cf', 'e7d08824', 'cd1fff5a', 'b94ec4a1', '83379672', 'b25abc27', 'a9c53cdb', '9bdd6964', 'a2994e55', '350dbeba', '57c4f2b4', '029a19c9', '1c23295e', 'a5dbb00a', '4a1440d9', 'c55187b4', '84b7d89d', '9b96b0e4', 'a8b0428d', 'f420b05a', '214f46e8', 'daf3969c', 'cfe4cf40', 'c731458f', 'adc2d620', '22b4191a', '05e94f88', '43a7386d', '2840643b', '1b329556', '62b873a2', '57de6095']\n",
      "['001f3379', '00115b9f']\n"
     ]
    }
   ],
   "source": [
    "# Get list of all ids in filepath and see how many join\n",
    "train_parquet_ids = [folder[3:] for folder in os.listdir(train_parquet_path) if os.path.isdir(os.path.join(train_parquet_path, folder))]\n",
    "print(train_parquet_ids)\n",
    "\n",
    "test_parquet_ids = [folder[3:] for folder in os.listdir(test_parquet_path) if os.path.isdir(os.path.join(test_parquet_path, folder))]\n",
    "print(test_parquet_ids)\n"
   ]
  },
  {
   "cell_type": "code",
   "execution_count": null,
   "metadata": {},
   "outputs": [
    {
     "name": "stdout",
     "output_type": "stream",
     "text": [
      "3960\n"
     ]
    }
   ],
   "source": [
    "unique_id_count = train_data.index.nunique()\n",
    "print(unique_id_count)"
   ]
  },
  {
   "cell_type": "code",
   "execution_count": null,
   "metadata": {},
   "outputs": [
    {
     "name": "stdout",
     "output_type": "stream",
     "text": [
      "996\n",
      "3960\n",
      "996\n"
     ]
    }
   ],
   "source": [
    "# All match to an id - roughly 1/3 of the data\n",
    "print(len(train_data.loc[train_parquet_ids]))\n",
    "print(len(train_data))\n",
    "print(len(train_parquet_ids))"
   ]
  },
  {
   "cell_type": "code",
   "execution_count": null,
   "metadata": {},
   "outputs": [
    {
     "data": {
      "text/plain": [
       "sii\n",
       "0.0        0.402525\n",
       "Missing    0.309091\n",
       "1.0        0.184343\n",
       "2.0        0.095455\n",
       "3.0        0.008586\n",
       "Name: count, dtype: float64"
      ]
     },
     "execution_count": 42,
     "metadata": {},
     "output_type": "execute_result"
    }
   ],
   "source": [
    "# See how many of these have sii \n",
    "train_data.sii.value_counts()/len(train_data)"
   ]
  },
  {
   "cell_type": "code",
   "execution_count": null,
   "metadata": {},
   "outputs": [
    {
     "data": {
      "text/plain": [
       "sii\n",
       "0.0    0.585341\n",
       "1.0    0.267068\n",
       "2.0    0.137550\n",
       "3.0    0.010040\n",
       "Name: count, dtype: float64"
      ]
     },
     "execution_count": 43,
     "metadata": {},
     "output_type": "execute_result"
    }
   ],
   "source": [
    "# None of the parquet data has missing data - but it could still potentially be helpful for predictions\n",
    "train_data.loc[train_parquet_ids].sii.value_counts()/len(train_data.loc[train_parquet_ids])"
   ]
  },
  {
   "cell_type": "code",
   "execution_count": null,
   "metadata": {},
   "outputs": [
    {
     "name": "stdout",
     "output_type": "stream",
     "text": [
      "2\n",
      "20\n",
      "2\n"
     ]
    }
   ],
   "source": [
    "print(len(test_data.loc[test_parquet_ids]))\n",
    "print(len(test_data))\n",
    "print(len(test_parquet_ids))"
   ]
  },
  {
   "cell_type": "code",
   "execution_count": null,
   "metadata": {},
   "outputs": [],
   "source": [
    "## Eventually we can look at the usage flags, etc. for distribution but let's start out with the model"
   ]
  },
  {
   "cell_type": "markdown",
   "metadata": {},
   "source": [
    "Step 2: Testing out the encoder-decoder architecture\n",
    "\n",
    "In this paper: https://pmc.ncbi.nlm.nih.gov/articles/PMC7490673/#sec10\n",
    " They have acceleration (we have enmo)\n",
    "\n",
    " Encoding -> they use FNN AD (fully connected neural net) and a GRU (gated recurrent unit) Seq2Seq model (used instead of RNN or LSTM because they converge faster and counter vanishing gradient issues for RNNs)\n",
    "\n",
    " They use Monte Carlo cross-validation (we can look into this)\n",
    "\n",
    " Their baseline was KNN local outlier factor\n",
    "\n",
    " They used mean filling for missing data\n",
    "\n",
    "\n",
    "\" We considered each participant’s data to be a time series of varying length L, X={x(1),…,x(L)}, where each x(i) is a multivariate data point, x(i)∈Rm. In our case, each x(i) represented a set of hourly features for a single participant. We created subsequences of data of length l starting at each i, i={i,…,L-l+1}. Note that a given data point, x(i), could be potentially included within each of the 1,…,L subsequences. For the FNN AD model, we let l=1, and for the GRU Seq2Seq model, we let l=24.\"\n",
    "\n",
    "*** We can integrate the \n",
    " "
   ]
  },
  {
   "cell_type": "markdown",
   "metadata": {},
   "source": [
    "## FNN AD model"
   ]
  },
  {
   "cell_type": "markdown",
   "metadata": {},
   "source": [
    "GRU code comes from here:\n",
    "https://towardsdatascience.com/gru-recurrent-neural-networks-a-smart-way-to-predict-sequences-in-python-80864e4fe9f6"
   ]
  },
  {
   "cell_type": "code",
   "execution_count": null,
   "metadata": {},
   "outputs": [
    {
     "ename": "ModuleNotFoundError",
     "evalue": "No module named 'tensorflow'",
     "output_type": "error",
     "traceback": [
      "\u001b[0;31m---------------------------------------------------------------------------\u001b[0m",
      "\u001b[0;31mModuleNotFoundError\u001b[0m                       Traceback (most recent call last)",
      "Cell \u001b[0;32mIn[1], line 2\u001b[0m\n\u001b[1;32m      1\u001b[0m \u001b[38;5;66;03m# Tensorflow / Keras\u001b[39;00m\n\u001b[0;32m----> 2\u001b[0m \u001b[38;5;28;01mfrom\u001b[39;00m \u001b[38;5;21;01mtensorflow\u001b[39;00m \u001b[38;5;28;01mimport\u001b[39;00m keras \u001b[38;5;66;03m# for building Neural Networks\u001b[39;00m\n\u001b[1;32m      3\u001b[0m \u001b[38;5;28mprint\u001b[39m(\u001b[38;5;124m'\u001b[39m\u001b[38;5;124mTensorflow/Keras: \u001b[39m\u001b[38;5;132;01m%s\u001b[39;00m\u001b[38;5;124m'\u001b[39m \u001b[38;5;241m%\u001b[39m keras\u001b[38;5;241m.\u001b[39m__version__) \u001b[38;5;66;03m# print version\u001b[39;00m\n\u001b[1;32m      4\u001b[0m \u001b[38;5;28;01mfrom\u001b[39;00m \u001b[38;5;21;01mkeras\u001b[39;00m\u001b[38;5;21;01m.\u001b[39;00m\u001b[38;5;21;01mmodels\u001b[39;00m \u001b[38;5;28;01mimport\u001b[39;00m Sequential \u001b[38;5;66;03m# for creating a linear stack of layers for our Neural Network\u001b[39;00m\n",
      "\u001b[0;31mModuleNotFoundError\u001b[0m: No module named 'tensorflow'"
     ]
    }
   ],
   "source": [
    "# Tensorflow / Keras\n",
    "from tensorflow import keras # for building Neural Networks\n",
    "print('Tensorflow/Keras: %s' % keras.__version__) # print version\n",
    "from keras.models import Sequential # for creating a linear stack of layers for our Neural Network\n",
    "from keras import Input # for instantiating a keras tensor\n",
    "from keras.layers import Bidirectional, GRU, RepeatVector, Dense, TimeDistributed # for creating layers inside the Neural Network\n",
    "\n",
    "# Data manipulation\n",
    "import pandas as pd # for data manipulation\n",
    "print('pandas: %s' % pd.__version__) # print version\n",
    "import numpy as np # for data manipulation\n",
    "print('numpy: %s' % np.__version__) # print version\n",
    "\n",
    "# Sklearn\n",
    "import sklearn\n",
    "print('sklearn: %s' % sklearn.__version__) # print version\n",
    "from sklearn.preprocessing import MinMaxScaler # for feature scaling\n",
    "\n",
    "# Visualization\n",
    "import plotly \n",
    "import plotly.express as px\n",
    "import plotly.graph_objects as go\n",
    "print('plotly: %s' % plotly.__version__) # print version"
   ]
  },
  {
   "cell_type": "code",
   "execution_count": null,
   "metadata": {},
   "outputs": [],
   "source": [
    "# To start - we can try training on the data that has the activity data alone\n",
    "\n",
    "# This will be an RNN model\n",
    "\n",
    "# The structure will be retained as is, with only sii and training data retained\n",
    "\n",
    "# We can see how much of the data is before the sii (after will likely not be predictive/might have fewer values)\n"
   ]
  },
  {
   "cell_type": "markdown",
   "metadata": {},
   "source": [
    "Since the underlying code is not available online, we use https://jianzhongdev.github.io/VisionTechInsights/posts/autoencoders_with_pytorch_full_code_guide/ as a reference."
   ]
  },
  {
   "cell_type": "code",
   "execution_count": null,
   "metadata": {},
   "outputs": [
    {
     "ename": "ImportError",
     "evalue": "attempted relative import with no known parent package",
     "output_type": "error",
     "traceback": [
      "\u001b[0;31m---------------------------------------------------------------------------\u001b[0m",
      "\u001b[0;31mImportError\u001b[0m                               Traceback (most recent call last)",
      "Cell \u001b[0;32mIn[4], line 1\u001b[0m\n\u001b[0;32m----> 1\u001b[0m \u001b[38;5;28;01mfrom\u001b[39;00m \u001b[38;5;21;01m.\u001b[39;00m\u001b[38;5;21;01mLayers\u001b[39;00m \u001b[38;5;28;01mimport\u001b[39;00m StackedLayers\n\u001b[1;32m      3\u001b[0m \u001b[38;5;66;03m## fully connected network with only fully connected layers \u001b[39;00m\n\u001b[1;32m      4\u001b[0m \u001b[38;5;28;01mclass\u001b[39;00m \u001b[38;5;21;01mSimpleFCNetwork\u001b[39;00m(nn\u001b[38;5;241m.\u001b[39mModule):\n",
      "\u001b[0;31mImportError\u001b[0m: attempted relative import with no known parent package"
     ]
    }
   ],
   "source": [
    "from .Layers import StackedLayers\n",
    "\n",
    "## fully connected network with only fully connected layers \n",
    "class SimpleFCNetwork(nn.Module):\n",
    "    def __init__(\n",
    "        self,\n",
    "        layer_descriptors = [],\n",
    "    ):\n",
    "        assert isinstance(layer_descriptors, list)\n",
    "        super().__init__()\n",
    "        self.network = StackedLayers.VGGStackedLinear(layer_descriptors)\n",
    "    \n",
    "    def forward(self, x):\n",
    "        y = self.network(x)\n",
    "        return y\n",
    "\n",
    "## create models using the above Module \n",
    "nof_features = 28 * 28\n",
    "code_dim = 64\n",
    "\n",
    "## create encoder model\n",
    "encoder_layer_descriptors = [\n",
    "    {\"nof_layers\": 1, \"in_features\": nof_features, \"out_features\": code_dim, \"activation\": torch.nn.LeakyReLU},\n",
    "]\n",
    "\n",
    "encoder = SimpleFCNetwork(\n",
    "    layer_descriptors = encoder_layer_descriptors\n",
    ")\n",
    "\n",
    "print(\"Encoder:\")\n",
    "print(encoder)\n",
    "\n",
    "print(\"\\n\")\n",
    "\n",
    "## create decoder model\n",
    "decoder_layer_descriptors = [\n",
    "    {\"nof_layers\": 1, \"in_features\": code_dim, \"out_features\": nof_features, \"activation\": torch.nn.LeakyReLU},\n",
    "]\n",
    "\n",
    "decoder = SimpleFCNetwork(\n",
    "    layer_descriptors = decoder_layer_descriptors\n",
    ")\n",
    "\n",
    "print(\"Decoder:\")\n",
    "print(decoder)"
   ]
  }
 ],
 "metadata": {
  "kernelspec": {
   "display_name": "ml_final_project",
   "language": "python",
   "name": "python3"
  },
  "language_info": {
   "codemirror_mode": {
    "name": "ipython",
    "version": 3
   },
   "file_extension": ".py",
   "mimetype": "text/x-python",
   "name": "python",
   "nbconvert_exporter": "python",
   "pygments_lexer": "ipython3",
   "version": "3.10.13"
  }
 },
 "nbformat": 4,
 "nbformat_minor": 2
}
