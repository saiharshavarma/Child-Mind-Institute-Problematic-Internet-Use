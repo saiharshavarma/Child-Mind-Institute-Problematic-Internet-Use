{
 "cells": [
  {
   "cell_type": "markdown",
   "id": "19bed978",
   "metadata": {
    "papermill": {
     "duration": 0.013621,
     "end_time": "2024-12-11T00:43:53.396447",
     "exception": false,
     "start_time": "2024-12-11T00:43:53.382826",
     "status": "completed"
    },
    "tags": []
   },
   "source": [
    "## Imports and Set Up"
   ]
  },
  {
   "cell_type": "code",
   "execution_count": 1,
   "id": "68320b8c",
   "metadata": {
    "execution": {
     "iopub.execute_input": "2024-12-11T00:43:53.420465Z",
     "iopub.status.busy": "2024-12-11T00:43:53.420148Z",
     "iopub.status.idle": "2024-12-11T00:44:02.823974Z",
     "shell.execute_reply": "2024-12-11T00:44:02.822896Z"
    },
    "papermill": {
     "duration": 9.418101,
     "end_time": "2024-12-11T00:44:02.826194",
     "exception": false,
     "start_time": "2024-12-11T00:43:53.408093",
     "status": "completed"
    },
    "tags": []
   },
   "outputs": [
    {
     "name": "stdout",
     "output_type": "stream",
     "text": [
      "Looking in indexes: https://download.pytorch.org/whl/cu118\r\n",
      "Requirement already satisfied: torch in /opt/conda/lib/python3.10/site-packages (2.4.0)\r\n",
      "Requirement already satisfied: torchvision in /opt/conda/lib/python3.10/site-packages (0.19.0)\r\n",
      "Requirement already satisfied: torchaudio in /opt/conda/lib/python3.10/site-packages (2.4.0)\r\n",
      "Requirement already satisfied: filelock in /opt/conda/lib/python3.10/site-packages (from torch) (3.15.1)\r\n",
      "Requirement already satisfied: typing-extensions>=4.8.0 in /opt/conda/lib/python3.10/site-packages (from torch) (4.12.2)\r\n",
      "Requirement already satisfied: sympy in /opt/conda/lib/python3.10/site-packages (from torch) (1.13.3)\r\n",
      "Requirement already satisfied: networkx in /opt/conda/lib/python3.10/site-packages (from torch) (3.3)\r\n",
      "Requirement already satisfied: jinja2 in /opt/conda/lib/python3.10/site-packages (from torch) (3.1.4)\r\n",
      "Requirement already satisfied: fsspec in /opt/conda/lib/python3.10/site-packages (from torch) (2024.6.0)\r\n",
      "Requirement already satisfied: numpy in /opt/conda/lib/python3.10/site-packages (from torchvision) (1.26.4)\r\n",
      "Requirement already satisfied: pillow!=8.3.*,>=5.3.0 in /opt/conda/lib/python3.10/site-packages (from torchvision) (10.3.0)\r\n",
      "Requirement already satisfied: MarkupSafe>=2.0 in /opt/conda/lib/python3.10/site-packages (from jinja2->torch) (2.1.5)\r\n",
      "Requirement already satisfied: mpmath<1.4,>=1.1.0 in /opt/conda/lib/python3.10/site-packages (from sympy->torch) (1.3.0)\r\n"
     ]
    }
   ],
   "source": [
    "!pip install torch torchvision torchaudio --index-url https://download.pytorch.org/whl/cu118"
   ]
  },
  {
   "cell_type": "code",
   "execution_count": 2,
   "id": "bfac5ef3",
   "metadata": {
    "execution": {
     "iopub.execute_input": "2024-12-11T00:44:02.850709Z",
     "iopub.status.busy": "2024-12-11T00:44:02.850341Z",
     "iopub.status.idle": "2024-12-11T00:44:11.350505Z",
     "shell.execute_reply": "2024-12-11T00:44:11.349650Z"
    },
    "papermill": {
     "duration": 8.514576,
     "end_time": "2024-12-11T00:44:11.352620",
     "exception": false,
     "start_time": "2024-12-11T00:44:02.838044",
     "status": "completed"
    },
    "tags": []
   },
   "outputs": [
    {
     "name": "stdout",
     "output_type": "stream",
     "text": [
      "Collecting pytorch-tabnet\r\n",
      "  Downloading pytorch_tabnet-4.1.0-py3-none-any.whl.metadata (15 kB)\r\n",
      "Requirement already satisfied: numpy>=1.17 in /opt/conda/lib/python3.10/site-packages (from pytorch-tabnet) (1.26.4)\r\n",
      "Requirement already satisfied: scikit_learn>0.21 in /opt/conda/lib/python3.10/site-packages (from pytorch-tabnet) (1.2.2)\r\n",
      "Requirement already satisfied: scipy>1.4 in /opt/conda/lib/python3.10/site-packages (from pytorch-tabnet) (1.14.1)\r\n",
      "Requirement already satisfied: torch>=1.3 in /opt/conda/lib/python3.10/site-packages (from pytorch-tabnet) (2.4.0)\r\n",
      "Requirement already satisfied: tqdm>=4.36 in /opt/conda/lib/python3.10/site-packages (from pytorch-tabnet) (4.66.4)\r\n",
      "Requirement already satisfied: joblib>=1.1.1 in /opt/conda/lib/python3.10/site-packages (from scikit_learn>0.21->pytorch-tabnet) (1.4.2)\r\n",
      "Requirement already satisfied: threadpoolctl>=2.0.0 in /opt/conda/lib/python3.10/site-packages (from scikit_learn>0.21->pytorch-tabnet) (3.5.0)\r\n",
      "Requirement already satisfied: filelock in /opt/conda/lib/python3.10/site-packages (from torch>=1.3->pytorch-tabnet) (3.15.1)\r\n",
      "Requirement already satisfied: typing-extensions>=4.8.0 in /opt/conda/lib/python3.10/site-packages (from torch>=1.3->pytorch-tabnet) (4.12.2)\r\n",
      "Requirement already satisfied: sympy in /opt/conda/lib/python3.10/site-packages (from torch>=1.3->pytorch-tabnet) (1.13.3)\r\n",
      "Requirement already satisfied: networkx in /opt/conda/lib/python3.10/site-packages (from torch>=1.3->pytorch-tabnet) (3.3)\r\n",
      "Requirement already satisfied: jinja2 in /opt/conda/lib/python3.10/site-packages (from torch>=1.3->pytorch-tabnet) (3.1.4)\r\n",
      "Requirement already satisfied: fsspec in /opt/conda/lib/python3.10/site-packages (from torch>=1.3->pytorch-tabnet) (2024.6.0)\r\n",
      "Requirement already satisfied: MarkupSafe>=2.0 in /opt/conda/lib/python3.10/site-packages (from jinja2->torch>=1.3->pytorch-tabnet) (2.1.5)\r\n",
      "Requirement already satisfied: mpmath<1.4,>=1.1.0 in /opt/conda/lib/python3.10/site-packages (from sympy->torch>=1.3->pytorch-tabnet) (1.3.0)\r\n",
      "Downloading pytorch_tabnet-4.1.0-py3-none-any.whl (44 kB)\r\n",
      "\u001b[2K   \u001b[90m━━━━━━━━━━━━━━━━━━━━━━━━━━━━━━━━━━━━━━━━\u001b[0m \u001b[32m44.5/44.5 kB\u001b[0m \u001b[31m1.8 MB/s\u001b[0m eta \u001b[36m0:00:00\u001b[0m\r\n",
      "\u001b[?25hInstalling collected packages: pytorch-tabnet\r\n",
      "Successfully installed pytorch-tabnet-4.1.0\r\n"
     ]
    }
   ],
   "source": [
    "!pip install pytorch-tabnet"
   ]
  },
  {
   "cell_type": "code",
   "execution_count": 3,
   "id": "f26037b3",
   "metadata": {
    "execution": {
     "iopub.execute_input": "2024-12-11T00:44:11.378390Z",
     "iopub.status.busy": "2024-12-11T00:44:11.377776Z",
     "iopub.status.idle": "2024-12-11T00:44:19.778417Z",
     "shell.execute_reply": "2024-12-11T00:44:19.777574Z"
    },
    "papermill": {
     "duration": 8.415417,
     "end_time": "2024-12-11T00:44:19.780488",
     "exception": false,
     "start_time": "2024-12-11T00:44:11.365071",
     "status": "completed"
    },
    "tags": []
   },
   "outputs": [],
   "source": [
    "import os\n",
    "import random\n",
    "import warnings\n",
    "from concurrent.futures import ThreadPoolExecutor\n",
    "from sklearn.model_selection import train_test_split\n",
    "from scipy.optimize import minimize\n",
    "import seaborn as sns\n",
    "import numpy as np\n",
    "import pandas as pd\n",
    "import torch\n",
    "import torch.nn as nn\n",
    "import torch.optim as optim\n",
    "from colorama import Fore, Style\n",
    "from IPython.display import clear_output\n",
    "from lightgbm import LGBMClassifier, LGBMRegressor\n",
    "from matplotlib import pyplot as plt\n",
    "from sklearn.base import clone\n",
    "from sklearn.ensemble import VotingClassifier, VotingRegressor, StackingClassifier, StackingRegressor\n",
    "from sklearn.impute import KNNImputer\n",
    "from sklearn.metrics import (accuracy_score, cohen_kappa_score,\n",
    "                             confusion_matrix, f1_score, mean_absolute_error,\n",
    "                             mean_squared_error, precision_score, recall_score,\n",
    "                             classification_report, make_scorer)\n",
    "from sklearn.model_selection import (GridSearchCV, KFold, RandomizedSearchCV,\n",
    "                                     cross_val_score, ParameterGrid)\n",
    "from sklearn.svm import SVC\n",
    "from sklearn.linear_model import LogisticRegression, Ridge, Lasso\n",
    "from sklearn.model_selection import StratifiedKFold\n",
    "from sklearn.preprocessing import StandardScaler\n",
    "from tqdm import tqdm\n",
    "from xgboost import XGBClassifier, XGBRegressor\n",
    "from catboost import CatBoostClassifier, CatBoostRegressor\n",
    "from sklearn.ensemble import RandomForestClassifier, RandomForestRegressor\n",
    "from imblearn.under_sampling import NearMiss\n",
    "from pytorch_tabnet.tab_model import TabNetClassifier, TabNetRegressor\n",
    "\n",
    "from torch.utils.data import DataLoader, TensorDataset\n",
    "\n",
    "import torch.optim.lr_scheduler as lr_scheduler\n",
    "import optuna\n",
    "from optuna import Trial"
   ]
  },
  {
   "cell_type": "code",
   "execution_count": 4,
   "id": "ce79d7d8",
   "metadata": {
    "execution": {
     "iopub.execute_input": "2024-12-11T00:44:19.806361Z",
     "iopub.status.busy": "2024-12-11T00:44:19.805578Z",
     "iopub.status.idle": "2024-12-11T00:44:19.810573Z",
     "shell.execute_reply": "2024-12-11T00:44:19.809796Z"
    },
    "papermill": {
     "duration": 0.019468,
     "end_time": "2024-12-11T00:44:19.812183",
     "exception": false,
     "start_time": "2024-12-11T00:44:19.792715",
     "status": "completed"
    },
    "tags": []
   },
   "outputs": [],
   "source": [
    "warnings.filterwarnings('ignore')\n",
    "pd.options.display.max_columns = None"
   ]
  },
  {
   "cell_type": "code",
   "execution_count": 5,
   "id": "29c81286",
   "metadata": {
    "execution": {
     "iopub.execute_input": "2024-12-11T00:44:19.836852Z",
     "iopub.status.busy": "2024-12-11T00:44:19.836515Z",
     "iopub.status.idle": "2024-12-11T00:44:19.845983Z",
     "shell.execute_reply": "2024-12-11T00:44:19.845279Z"
    },
    "papermill": {
     "duration": 0.023422,
     "end_time": "2024-12-11T00:44:19.847614",
     "exception": false,
     "start_time": "2024-12-11T00:44:19.824192",
     "status": "completed"
    },
    "tags": []
   },
   "outputs": [],
   "source": [
    "def set_seed(seed_value=2024):\n",
    "    random.seed(seed_value)\n",
    "    np.random.seed(seed_value)\n",
    "    torch.manual_seed(seed_value)\n",
    "    torch.cuda.manual_seed(seed_value)\n",
    "    torch.backends.cudnn.deterministic = True\n",
    "\n",
    "set_seed(2024)"
   ]
  },
  {
   "cell_type": "markdown",
   "id": "b5616f64",
   "metadata": {
    "papermill": {
     "duration": 0.011083,
     "end_time": "2024-12-11T00:44:19.870214",
     "exception": false,
     "start_time": "2024-12-11T00:44:19.859131",
     "status": "completed"
    },
    "tags": []
   },
   "source": [
    "## Data Processing"
   ]
  },
  {
   "cell_type": "markdown",
   "id": "f3865f91",
   "metadata": {
    "papermill": {
     "duration": 0.01109,
     "end_time": "2024-12-11T00:44:19.892690",
     "exception": false,
     "start_time": "2024-12-11T00:44:19.881600",
     "status": "completed"
    },
    "tags": []
   },
   "source": [
    "### Load in Files"
   ]
  },
  {
   "cell_type": "code",
   "execution_count": 6,
   "id": "a8304f1f",
   "metadata": {
    "execution": {
     "iopub.execute_input": "2024-12-11T00:44:19.917314Z",
     "iopub.status.busy": "2024-12-11T00:44:19.916512Z",
     "iopub.status.idle": "2024-12-11T00:44:19.920794Z",
     "shell.execute_reply": "2024-12-11T00:44:19.920033Z"
    },
    "papermill": {
     "duration": 0.018098,
     "end_time": "2024-12-11T00:44:19.922296",
     "exception": false,
     "start_time": "2024-12-11T00:44:19.904198",
     "status": "completed"
    },
    "tags": []
   },
   "outputs": [],
   "source": [
    "file_path = '/kaggle/input/child-mind-institute-problematic-internet-use'"
   ]
  },
  {
   "cell_type": "code",
   "execution_count": 7,
   "id": "31508cf6",
   "metadata": {
    "execution": {
     "iopub.execute_input": "2024-12-11T00:44:19.946553Z",
     "iopub.status.busy": "2024-12-11T00:44:19.945921Z",
     "iopub.status.idle": "2024-12-11T00:44:20.060013Z",
     "shell.execute_reply": "2024-12-11T00:44:20.059000Z"
    },
    "papermill": {
     "duration": 0.129163,
     "end_time": "2024-12-11T00:44:20.062963",
     "exception": false,
     "start_time": "2024-12-11T00:44:19.933800",
     "status": "completed"
    },
    "tags": []
   },
   "outputs": [],
   "source": [
    "TRAIN_CSV = f'{file_path}/train.csv'\n",
    "TEST_CSV = f'{file_path}/test.csv'\n",
    "SAMPLE_SUBMISSION_CSV = f'{file_path}/sample_submission.csv'\n",
    "SERIES_TRAIN_DIR = f'{file_path}/series_train.parquet'\n",
    "SERIES_TEST_DIR = f'{file_path}/series_test.parquet'\n",
    "\n",
    "\n",
    "train_df = pd.read_csv(TRAIN_CSV)\n",
    "test_df = pd.read_csv(TEST_CSV) # \n",
    "sample_submission_df = pd.read_csv(SAMPLE_SUBMISSION_CSV)\n",
    "\n",
    "# Drop all the PCIAT variables as they are not present in the test data\n",
    "for col in train_df.columns:\n",
    "    if 'PCIAT' in col:\n",
    "        train_df.drop(col, axis=1, inplace=True)"
   ]
  },
  {
   "cell_type": "code",
   "execution_count": 8,
   "id": "29d519e5",
   "metadata": {
    "execution": {
     "iopub.execute_input": "2024-12-11T00:44:20.096708Z",
     "iopub.status.busy": "2024-12-11T00:44:20.096357Z",
     "iopub.status.idle": "2024-12-11T00:44:20.102502Z",
     "shell.execute_reply": "2024-12-11T00:44:20.100909Z"
    },
    "papermill": {
     "duration": 0.020669,
     "end_time": "2024-12-11T00:44:20.104259",
     "exception": false,
     "start_time": "2024-12-11T00:44:20.083590",
     "status": "completed"
    },
    "tags": []
   },
   "outputs": [],
   "source": [
    "# Function to process individual time series files\n",
    "\n",
    "# Min length of the time series is 927 (hardcoded to speed this up)\n",
    "def process_time_series(file_name, directory, max_len=927):\n",
    "    df = pd.read_parquet(os.path.join(directory, file_name, 'part-0.parquet'))\n",
    "    df['id'] = file_name.split('=')[1]\n",
    "    # Adjusted this so we get the full parquet - just concatenate all of them\n",
    "    return df[:max_len]"
   ]
  },
  {
   "cell_type": "code",
   "execution_count": 9,
   "id": "656ab44f",
   "metadata": {
    "execution": {
     "iopub.execute_input": "2024-12-11T00:44:20.128797Z",
     "iopub.status.busy": "2024-12-11T00:44:20.128447Z",
     "iopub.status.idle": "2024-12-11T00:44:20.133413Z",
     "shell.execute_reply": "2024-12-11T00:44:20.132543Z"
    },
    "papermill": {
     "duration": 0.019682,
     "end_time": "2024-12-11T00:44:20.135631",
     "exception": false,
     "start_time": "2024-12-11T00:44:20.115949",
     "status": "completed"
    },
    "tags": []
   },
   "outputs": [],
   "source": [
    "# Function to load and aggregate time series data\n",
    "def load_time_series_data(directory):\n",
    "    file_names = os.listdir(directory)\n",
    "\n",
    "    with ThreadPoolExecutor() as executor:\n",
    "        results = list(tqdm(executor.map(lambda fname: process_time_series(fname, directory), file_names),\n",
    "                            total=len(file_names)))\n",
    "\n",
    "    return pd.concat(results, ignore_index=True) # This takes slightly longer but ok for now"
   ]
  },
  {
   "cell_type": "code",
   "execution_count": 10,
   "id": "dbc07736",
   "metadata": {
    "execution": {
     "iopub.execute_input": "2024-12-11T00:44:20.167489Z",
     "iopub.status.busy": "2024-12-11T00:44:20.167156Z",
     "iopub.status.idle": "2024-12-11T00:44:42.195644Z",
     "shell.execute_reply": "2024-12-11T00:44:42.194395Z"
    },
    "papermill": {
     "duration": 22.044054,
     "end_time": "2024-12-11T00:44:42.198388",
     "exception": false,
     "start_time": "2024-12-11T00:44:20.154334",
     "status": "completed"
    },
    "tags": []
   },
   "outputs": [
    {
     "name": "stderr",
     "output_type": "stream",
     "text": [
      "100%|██████████| 996/996 [00:21<00:00, 47.05it/s]\n"
     ]
    }
   ],
   "source": [
    "train_series_df = load_time_series_data(SERIES_TRAIN_DIR)\n",
    "# test_series_df = load_time_series_data(SERIES_TEST_DIR)"
   ]
  },
  {
   "cell_type": "code",
   "execution_count": 11,
   "id": "16fe20b0",
   "metadata": {
    "execution": {
     "iopub.execute_input": "2024-12-11T00:44:42.274139Z",
     "iopub.status.busy": "2024-12-11T00:44:42.273685Z",
     "iopub.status.idle": "2024-12-11T00:44:42.769328Z",
     "shell.execute_reply": "2024-12-11T00:44:42.768332Z"
    },
    "papermill": {
     "duration": 0.544258,
     "end_time": "2024-12-11T00:44:42.772225",
     "exception": false,
     "start_time": "2024-12-11T00:44:42.227967",
     "status": "completed"
    },
    "tags": []
   },
   "outputs": [],
   "source": [
    "# Replace with missing for the split and then reassign the values at the end\n",
    "train_df['sii'] = train_df['sii'].replace({np.nan: -1})\n",
    "train_df, test_df = train_test_split(train_df, test_size=0.2, random_state=2024, stratify=train_df['sii'])\n",
    "test_series_df = train_series_df[train_series_df.id.isin(test_df.id)]\n",
    "train_series_df = train_series_df[train_series_df.id.isin(train_df.id)]\n",
    "train_df['sii'] = train_df['sii'].replace({-1: np.nan})\n",
    "test_df['sii'] = test_df['sii'].replace({-1: np.nan})\n"
   ]
  },
  {
   "cell_type": "markdown",
   "id": "709d4736",
   "metadata": {
    "papermill": {
     "duration": 0.047491,
     "end_time": "2024-12-11T00:44:42.868640",
     "exception": false,
     "start_time": "2024-12-11T00:44:42.821149",
     "status": "completed"
    },
    "tags": []
   },
   "source": [
    "### Encoding of Time Series Data"
   ]
  },
  {
   "cell_type": "code",
   "execution_count": 12,
   "id": "ce96c04b",
   "metadata": {
    "execution": {
     "iopub.execute_input": "2024-12-11T00:44:43.046521Z",
     "iopub.status.busy": "2024-12-11T00:44:43.046033Z",
     "iopub.status.idle": "2024-12-11T00:44:43.093104Z",
     "shell.execute_reply": "2024-12-11T00:44:43.092083Z"
    },
    "papermill": {
     "duration": 0.156148,
     "end_time": "2024-12-11T00:44:43.097700",
     "exception": false,
     "start_time": "2024-12-11T00:44:42.941552",
     "status": "completed"
    },
    "tags": []
   },
   "outputs": [],
   "source": [
    "# Encoder Class\n",
    "class Encoder(nn.Module):\n",
    "    def __init__(self, input_size, hidden_size, dropout, seq_len, num_layers):\n",
    "        super(Encoder, self).__init__()\n",
    "        self.input_size = input_size\n",
    "        self.hidden_size = hidden_size\n",
    "        self.dropout = dropout\n",
    "        self.seq_len = seq_len\n",
    "        self.num_layers = num_layers\n",
    "\n",
    "        self.lstm_enc = nn.LSTM(input_size=input_size, num_layers=num_layers, hidden_size=hidden_size, dropout=dropout, batch_first=True)\n",
    "\n",
    "    def forward(self, x):\n",
    "        out, (last_h_state, last_c_state) = self.lstm_enc(x)\n",
    "        # Get the last hidden state\n",
    "        x_enc = last_h_state[-1, :, :]         \n",
    "        return x_enc, out\n",
    "\n",
    "\n",
    "# Decoder Class\n",
    "class Decoder(nn.Module):\n",
    "    def __init__(self, input_size, hidden_size, dropout, seq_len, use_act, num_layers):\n",
    "        super(Decoder, self).__init__()\n",
    "        self.input_size = input_size\n",
    "        self.hidden_size = hidden_size\n",
    "        self.dropout = dropout\n",
    "        self.seq_len = seq_len\n",
    "        self.use_act = use_act  # Parameter to control the last sigmoid activation - depends on the normalization used.\n",
    "        self.act = nn.Sigmoid()\n",
    "\n",
    "        self.lstm_dec = nn.LSTM(input_size=hidden_size, num_layers=num_layers, hidden_size=hidden_size, dropout=dropout, batch_first=True)\n",
    "        self.fc = nn.Linear(hidden_size, input_size)\n",
    "\n",
    "    def forward(self, z):\n",
    "        z = z.unsqueeze(1).repeat(1, self.seq_len, 1)\n",
    "        dec_out, (hidden_state, cell_state) = self.lstm_dec(z)\n",
    "        dec_out = self.fc(dec_out)\n",
    "        if self.use_act:\n",
    "            dec_out = self.act(dec_out)\n",
    "\n",
    "        return dec_out, hidden_state\n",
    "\n",
    "\n",
    "# LSTM Auto-Encoder Class\n",
    "class TimeSeriesAutoencoder(nn.Module):\n",
    "    def __init__(self, input_size, hidden_size, dropout_ratio, seq_len, num_layers, use_act=True):\n",
    "        super(TimeSeriesAutoencoder, self).__init__()\n",
    "        self.input_size = input_size\n",
    "        self.hidden_size = hidden_size\n",
    "        self.dropout_ratio = dropout_ratio\n",
    "        self.seq_len = seq_len\n",
    "\n",
    "        self.encoder = Encoder(input_size=input_size, num_layers=num_layers, hidden_size=hidden_size, dropout=dropout_ratio, seq_len=seq_len)\n",
    "        self.decoder = Decoder(input_size=input_size, num_layers=num_layers, hidden_size=hidden_size, dropout=dropout_ratio, seq_len=seq_len, use_act=use_act)\n",
    "\n",
    "    def forward(self, x, return_last_h=False, return_enc_out=False):\n",
    "        x_enc, enc_out = self.encoder(x)\n",
    "        x_dec, last_h = self.decoder(x_enc)\n",
    "\n",
    "        if return_last_h:\n",
    "            return x_dec, last_h\n",
    "        elif return_enc_out:\n",
    "            return x_dec, enc_out\n",
    "        return x_dec"
   ]
  },
  {
   "cell_type": "code",
   "execution_count": 13,
   "id": "318e1e83",
   "metadata": {
    "execution": {
     "iopub.execute_input": "2024-12-11T00:44:43.246373Z",
     "iopub.status.busy": "2024-12-11T00:44:43.244059Z",
     "iopub.status.idle": "2024-12-11T00:44:43.256451Z",
     "shell.execute_reply": "2024-12-11T00:44:43.255536Z"
    },
    "papermill": {
     "duration": 0.066498,
     "end_time": "2024-12-11T00:44:43.259319",
     "exception": false,
     "start_time": "2024-12-11T00:44:43.192821",
     "status": "completed"
    },
    "tags": []
   },
   "outputs": [],
   "source": [
    "def encodedDataPrep(train, test):\n",
    "    scaler = StandardScaler()\n",
    "    scaled_data_train = scaler.fit_transform(train.drop('id', axis=1))\n",
    "    scaled_data_test = scaler.transform(test.drop('id', axis=1))\n",
    "    return scaled_data_train, scaled_data_test\n",
    "\n",
    "# Sequence length is hardcoded at 927\n",
    "def prepare_data(df):\n",
    "    # Convert the dataframe to a numpy array\n",
    "    ids = df['id'].unique()\n",
    "    num_samples = len(ids)\n",
    "    num_features = len(df.columns) - 2\n",
    "\n",
    "    data = np.array(df.drop(['id', 'step'], axis = 1).values)\n",
    "    print(data.shape)\n",
    "    # Convert the numpy array to a PyTorch tensor\n",
    "    reshaped_data = data.reshape(num_samples, 927, num_features)\n",
    "\n",
    "    data_tensor = torch.tensor(reshaped_data, dtype=torch.float32)\n",
    "\n",
    "\n",
    "    return data_tensor, ids\n"
   ]
  },
  {
   "cell_type": "code",
   "execution_count": 14,
   "id": "eda299b3",
   "metadata": {
    "execution": {
     "iopub.execute_input": "2024-12-11T00:44:43.380417Z",
     "iopub.status.busy": "2024-12-11T00:44:43.379932Z",
     "iopub.status.idle": "2024-12-11T00:44:43.413377Z",
     "shell.execute_reply": "2024-12-11T00:44:43.412434Z"
    },
    "papermill": {
     "duration": 0.106204,
     "end_time": "2024-12-11T00:44:43.416462",
     "exception": false,
     "start_time": "2024-12-11T00:44:43.310258",
     "status": "completed"
    },
    "tags": []
   },
   "outputs": [],
   "source": [
    "def get_encoded_features(df, lr=0.01, hidden_size=16, num_layers=1, device = 'mps', dropout_ratio=0.1, epochs=100, batch_size=32, sequence_length = 927):\n",
    "    # Reshape to df for easier column handling and id tracking\n",
    "    scaled_df = df.drop(['id', 'step'], axis=1)\n",
    "    incl_columns = list(df.columns)\n",
    "    incl_columns.remove('id')\n",
    "    print(incl_columns)\n",
    "    scaled_data_df = pd.DataFrame(scaled_df, columns=incl_columns)\n",
    "    scaled_data_df['id'] = df['id']\n",
    "    \n",
    "    tensor_data, ids = prepare_data(scaled_data_df)\n",
    "    input_size = tensor_data.shape[2]\n",
    "\n",
    "    autoencoder = TimeSeriesAutoencoder(input_size, hidden_size, dropout_ratio, sequence_length, num_layers=num_layers)\n",
    "    criterion = nn.MSELoss()\n",
    "    optimizer = optim.Adam(autoencoder.parameters(), lr=lr)\n",
    "\n",
    "    #device = torch.device('mps')\n",
    "    #autoencoder = autoencoder.to(device)\n",
    "    device = torch.device(\"cuda\" if torch.cuda.is_available() else \"mps\" if torch.backends.mps.is_available() else \"cpu\")\n",
    "    autoencoder = autoencoder.to(device)\n",
    "\n",
    "    dataset = TensorDataset(tensor_data)\n",
    "    data_loader = DataLoader(dataset, batch_size=batch_size, shuffle=False)\n",
    "    \n",
    "    # Step 5: Training Loop\n",
    "    autoencoder.train()\n",
    "    for epoch in range(epochs):\n",
    "        epoch_loss = 0\n",
    "        for batch in data_loader:\n",
    "            batch_data = batch[0].to(device)\n",
    "            optimizer.zero_grad()\n",
    "            outputs = autoencoder(batch_data)\n",
    "            loss = criterion(outputs, batch_data)\n",
    "            loss.backward()\n",
    "            optimizer.step()\n",
    "            epoch_loss += loss.item()\n",
    "\n",
    "        avg_epoch_loss = epoch_loss / len(data_loader)\n",
    "        if (epoch + 1) % 10 == 0:\n",
    "            print(f'Epoch [{epoch + 1}/{epochs}], Avg Loss: {avg_epoch_loss:.4f}')\n",
    "\n",
    "    with torch.no_grad():\n",
    "        tensor_data = tensor_data.to(device)\n",
    "        encoded_data, vals = autoencoder.encoder(tensor_data)  # Get encoded features\n",
    "\n",
    "    encoded_data = encoded_data.cpu().numpy()\n",
    "\n",
    "    encoded_df = pd.DataFrame(encoded_data, columns=[f'Enc_{i + 1}' for i in range(encoded_data.shape[1])])\n",
    "    encoded_df['id'] = ids\n",
    "    return encoded_df, autoencoder"
   ]
  },
  {
   "cell_type": "code",
   "execution_count": 15,
   "id": "0e6a0d5d",
   "metadata": {
    "execution": {
     "iopub.execute_input": "2024-12-11T00:44:43.520165Z",
     "iopub.status.busy": "2024-12-11T00:44:43.519713Z",
     "iopub.status.idle": "2024-12-11T00:44:43.535978Z",
     "shell.execute_reply": "2024-12-11T00:44:43.534945Z"
    },
    "papermill": {
     "duration": 0.07165,
     "end_time": "2024-12-11T00:44:43.538612",
     "exception": false,
     "start_time": "2024-12-11T00:44:43.466962",
     "status": "completed"
    },
    "tags": []
   },
   "outputs": [],
   "source": [
    "# def get_encoded_features(train_df, val_df, trial: Trial, device='mps', epochs=100, sequence_length=927):\n",
    "#     # Get hyperparameters from the trial object\n",
    "#     lr = 0.01\n",
    "#     # hidden_size = trial.suggest_int('hidden_size', 16, 20)  # Hidden layer size between 32 and 128\n",
    "#     hidden_size = 16\n",
    "#     num_layers = 1\n",
    "#     batch_size = 32\n",
    "#     dropout_ratio = 0.1\n",
    "#     # Prepare the data (train and val sets)\n",
    "#     train_tensor_data, train_ids = prepare_data(train_df)\n",
    "#     val_tensor_data, val_ids = prepare_data(val_df)\n",
    "    \n",
    "#     input_size = train_tensor_data.shape[2]\n",
    "\n",
    "#     # Build the autoencoder model with the hyperparameters suggested by Optuna\n",
    "#     autoencoder = TimeSeriesAutoencoder(input_size, hidden_size, dropout_ratio, sequence_length, num_layers=num_layers)\n",
    "#     criterion = nn.MSELoss()\n",
    "    \n",
    "#     # Use AdamW optimizer\n",
    "#     optimizer = optim.AdamW(autoencoder.parameters(), lr=lr, weight_decay=1e-5)\n",
    "\n",
    "#     device = torch.device(device)\n",
    "#     autoencoder = autoencoder.to(device)\n",
    "\n",
    "#     train_dataset = TensorDataset(train_tensor_data)\n",
    "#     val_dataset = TensorDataset(val_tensor_data)\n",
    "\n",
    "#     train_data_loader = DataLoader(train_dataset, batch_size=batch_size, shuffle=False)\n",
    "#     val_data_loader = DataLoader(val_dataset, batch_size=batch_size, shuffle=False)\n",
    "    \n",
    "#     # Learning rate scheduler: Reduce the learning rate if the loss plateaus\n",
    "#     scheduler = lr_scheduler.ReduceLROnPlateau(optimizer, 'min', patience=5, factor=0.5, verbose=True)\n",
    "    \n",
    "#     # Training Loop\n",
    "#     autoencoder.train()\n",
    "#     for epoch in range(epochs):\n",
    "#         epoch_loss = 0\n",
    "#         for batch in train_data_loader:\n",
    "#             batch_data = batch[0].to(device)\n",
    "#             optimizer.zero_grad()\n",
    "#             outputs = autoencoder(batch_data)\n",
    "#             loss = criterion(outputs, batch_data)\n",
    "#             loss.backward()\n",
    "#             optimizer.step()\n",
    "#             epoch_loss += loss.item()\n",
    "\n",
    "#         avg_epoch_loss = epoch_loss / len(train_data_loader)\n",
    "        \n",
    "#         # Update the learning rate scheduler\n",
    "#         scheduler.step(avg_epoch_loss)\n",
    "        \n",
    "#         # Optionally, evaluate the model on the validation set every few epochs\n",
    "#         if (epoch + 1) % 10 == 0:\n",
    "#             val_loss = evaluate_model_on_val(val_data_loader, autoencoder, criterion, device)\n",
    "#             print(f\"Epoch [{epoch + 1}/{epochs}], Avg Train Loss: {avg_epoch_loss:.4f}, Val Loss: {val_loss:.4f}\")\n",
    "\n",
    "#     return avg_epoch_loss  # Return the final average training loss for the trial\n",
    "\n",
    "# def evaluate_model_on_val(val_data_loader, model, criterion, device):\n",
    "#     \"\"\"\n",
    "#     Evaluate the model on the validation set and return the loss.\n",
    "#     \"\"\"\n",
    "#     model.eval()  # Set the model to evaluation mode\n",
    "#     val_loss = 0\n",
    "#     with torch.no_grad():\n",
    "#         for batch in val_data_loader:\n",
    "#             batch_data = batch[0].to(device)\n",
    "#             outputs = model(batch_data)\n",
    "#             loss = criterion(outputs, batch_data)\n",
    "#             val_loss += loss.item()\n",
    "    \n",
    "#     return val_loss / len(val_data_loader)\n",
    "\n",
    "# def optimize_hyperparameters(df):\n",
    "#     # Split the dataset into training and validation sets\n",
    "#     unique_ids = df['id'].unique()\n",
    "\n",
    "#     # Split the unique ids into train and validation sets\n",
    "#     train_ids, val_ids = train_test_split(unique_ids, test_size=0.2, random_state=2024)\n",
    "\n",
    "#     # Now, use these ids to get the corresponding rows in the dataframe\n",
    "#     train_df = df[df['id'].isin(train_ids)]\n",
    "#     val_df = df[df['id'].isin(val_ids)]\n",
    "    \n",
    "#     # Define the Optuna study and objective function\n",
    "#     study = optuna.create_study(direction='minimize')  # We want to minimize the loss\n",
    "#     study.optimize(lambda trial: get_encoded_features(train_df, val_df, trial), n_trials=1)  # Number of trials\n",
    "\n",
    "#     # Print the best hyperparameters found\n",
    "#     print(f\"Best hyperparameters: {study.best_params}\")\n",
    "#     print(f\"Best loss: {study.best_value}\")\n",
    "    \n",
    "#     # Return the best model with the best hyperparameters\n",
    "#     best_model = study.best_model\n",
    "#     return best_model\n"
   ]
  },
  {
   "cell_type": "code",
   "execution_count": 16,
   "id": "b233dd9a",
   "metadata": {
    "execution": {
     "iopub.execute_input": "2024-12-11T00:44:43.645758Z",
     "iopub.status.busy": "2024-12-11T00:44:43.645298Z",
     "iopub.status.idle": "2024-12-11T00:45:04.433715Z",
     "shell.execute_reply": "2024-12-11T00:45:04.432650Z"
    },
    "papermill": {
     "duration": 20.844186,
     "end_time": "2024-12-11T00:45:04.435727",
     "exception": false,
     "start_time": "2024-12-11T00:44:43.591541",
     "status": "completed"
    },
    "tags": []
   },
   "outputs": [
    {
     "name": "stdout",
     "output_type": "stream",
     "text": [
      "['step', 'X', 'Y', 'Z', 'enmo', 'anglez', 'non-wear_flag', 'light', 'battery_voltage', 'time_of_day', 'weekday', 'quarter', 'relative_date_PCIAT']\n",
      "(735111, 12)\n",
      "Epoch [10/100], Avg Loss: 0.8337\n",
      "Epoch [20/100], Avg Loss: 0.8039\n",
      "Epoch [30/100], Avg Loss: 0.8017\n",
      "Epoch [40/100], Avg Loss: 0.7833\n",
      "Epoch [50/100], Avg Loss: 0.7819\n",
      "Epoch [60/100], Avg Loss: 0.7724\n",
      "Epoch [70/100], Avg Loss: 0.7727\n",
      "Epoch [80/100], Avg Loss: 0.7668\n",
      "Epoch [90/100], Avg Loss: 0.8024\n",
      "Epoch [100/100], Avg Loss: 0.7763\n"
     ]
    }
   ],
   "source": [
    "tensor_data_train, tensor_data_test = encodedDataPrep(train_series_df, test_series_df)\n",
    "new_cols = train_series_df.columns\n",
    "new_cols = new_cols.drop('id')\n",
    "df_train = pd.DataFrame(tensor_data_train, columns=new_cols)\n",
    "df_test = pd.DataFrame(tensor_data_test, columns=new_cols)\n",
    "train_series_df.reset_index(drop=True, inplace=True)\n",
    "test_series_df.reset_index(drop=True, inplace=True)\n",
    "df_train['id'] = train_series_df['id']\n",
    "df_test['id'] = train_series_df['id']\n",
    "\n",
    "train_encoded, best_model = get_encoded_features(df_train)"
   ]
  },
  {
   "cell_type": "code",
   "execution_count": 17,
   "id": "73291b51",
   "metadata": {
    "execution": {
     "iopub.execute_input": "2024-12-11T00:45:04.474647Z",
     "iopub.status.busy": "2024-12-11T00:45:04.473615Z",
     "iopub.status.idle": "2024-12-11T00:45:04.480138Z",
     "shell.execute_reply": "2024-12-11T00:45:04.479453Z"
    },
    "papermill": {
     "duration": 0.026974,
     "end_time": "2024-12-11T00:45:04.481706",
     "exception": false,
     "start_time": "2024-12-11T00:45:04.454732",
     "status": "completed"
    },
    "tags": []
   },
   "outputs": [],
   "source": [
    "def encode_test_data(autoencoder, test_df):\n",
    "    ids = test_df['id'].unique()\n",
    "    test_df = test_df.drop(['step', 'id'], axis=1).values.astype(np.float32)\n",
    "    test_tensor = torch.tensor(test_df, dtype=torch.float32)\n",
    "    test_tensor = test_tensor.reshape(-1, 927, test_df.shape[1])\n",
    "    #test_tensor = test_tensor.to('mps')\n",
    "    device = torch.device(\"cuda\" if torch.cuda.is_available() else \"mps\" if torch.backends.mps.is_available() else \"cpu\")\n",
    "    test_tensor = test_tensor.to(device)\n",
    "    autoencoder = autoencoder.to(device)\n",
    "    print(test_tensor.shape)\n",
    "    with torch.no_grad():\n",
    "        encoded_data, vals = autoencoder.encoder(test_tensor)\n",
    "        encoded_data = encoded_data.cpu().numpy()\n",
    "    encoded_df = pd.DataFrame(encoded_data, columns=[f'Enc_{i + 1}' for i in range(encoded_data.shape[1])])\n",
    "    encoded_df['id'] = ids\n",
    "    return encoded_df"
   ]
  },
  {
   "cell_type": "code",
   "execution_count": 18,
   "id": "0d2bdac0",
   "metadata": {
    "execution": {
     "iopub.execute_input": "2024-12-11T00:45:04.518521Z",
     "iopub.status.busy": "2024-12-11T00:45:04.518251Z",
     "iopub.status.idle": "2024-12-11T00:45:04.564578Z",
     "shell.execute_reply": "2024-12-11T00:45:04.563712Z"
    },
    "papermill": {
     "duration": 0.066992,
     "end_time": "2024-12-11T00:45:04.566514",
     "exception": false,
     "start_time": "2024-12-11T00:45:04.499522",
     "status": "completed"
    },
    "tags": []
   },
   "outputs": [
    {
     "name": "stdout",
     "output_type": "stream",
     "text": [
      "torch.Size([203, 927, 12])\n"
     ]
    }
   ],
   "source": [
    "test_encoded = encode_test_data(best_model, df_test)\n",
    "\n",
    "\n",
    "train_encoded['id'] = train_series_df['id']\n",
    "test_encoded['id'] = test_series_df['id']\n",
    "\n",
    "train_df = train_df.merge(train_encoded, on='id', how='left')\n",
    "test_df = test_df.merge(test_encoded, on='id', how='left')"
   ]
  },
  {
   "cell_type": "markdown",
   "id": "a8c0dc0b",
   "metadata": {
    "papermill": {
     "duration": 0.017768,
     "end_time": "2024-12-11T00:45:04.608480",
     "exception": false,
     "start_time": "2024-12-11T00:45:04.590712",
     "status": "completed"
    },
    "tags": []
   },
   "source": [
    "### Imputation of Missing Numerical Values"
   ]
  },
  {
   "cell_type": "code",
   "execution_count": 19,
   "id": "b9608ba9",
   "metadata": {
    "execution": {
     "iopub.execute_input": "2024-12-11T00:45:04.646395Z",
     "iopub.status.busy": "2024-12-11T00:45:04.646049Z",
     "iopub.status.idle": "2024-12-11T00:45:04.651634Z",
     "shell.execute_reply": "2024-12-11T00:45:04.650909Z"
    },
    "papermill": {
     "duration": 0.026632,
     "end_time": "2024-12-11T00:45:04.653190",
     "exception": false,
     "start_time": "2024-12-11T00:45:04.626558",
     "status": "completed"
    },
    "tags": []
   },
   "outputs": [],
   "source": [
    "# Imputing missing values using KNN imputer\n",
    "\n",
    "def impute_missing_values(train_df, test_df, n_neighbors=5):\n",
    "    # Select only numeric columns\n",
    "    numeric_columns = train_df.select_dtypes(include=['float64', 'float32', 'int64']).columns\n",
    "\n",
    "    # Initialize the KNNImputer\n",
    "    imputer = KNNImputer(n_neighbors=n_neighbors)\n",
    "\n",
    "    # Fit on the training dataset and transform both datasets\n",
    "    train_imputed_array = imputer.fit_transform(train_df[numeric_columns])\n",
    "    test_imputed_array = imputer.transform(test_df[numeric_columns])\n",
    "\n",
    "    # Create DataFrames from the imputed arrays\n",
    "    train_imputed = pd.DataFrame(train_imputed_array, columns=numeric_columns, index=train_df.index)\n",
    "    test_imputed = pd.DataFrame(test_imputed_array, columns=numeric_columns, index=test_df.index)\n",
    "\n",
    "    # Replace numeric columns with imputed data\n",
    "    train_df[numeric_columns] = train_imputed\n",
    "    test_df[numeric_columns] = test_imputed\n",
    "\n",
    "    return train_df, test_df"
   ]
  },
  {
   "cell_type": "code",
   "execution_count": 20,
   "id": "1c168565",
   "metadata": {
    "execution": {
     "iopub.execute_input": "2024-12-11T00:45:04.691365Z",
     "iopub.status.busy": "2024-12-11T00:45:04.690571Z",
     "iopub.status.idle": "2024-12-11T00:45:11.718009Z",
     "shell.execute_reply": "2024-12-11T00:45:11.716775Z"
    },
    "papermill": {
     "duration": 7.048517,
     "end_time": "2024-12-11T00:45:11.719833",
     "exception": false,
     "start_time": "2024-12-11T00:45:04.671316",
     "status": "completed"
    },
    "tags": []
   },
   "outputs": [
    {
     "name": "stdout",
     "output_type": "stream",
     "text": [
      "id                              0\n",
      "Basic_Demos-Enroll_Season       0\n",
      "Basic_Demos-Age                 0\n",
      "Basic_Demos-Sex                 0\n",
      "CGAS-Season                  1129\n",
      "                             ... \n",
      "Enc_12                          0\n",
      "Enc_13                          0\n",
      "Enc_14                          0\n",
      "Enc_15                          0\n",
      "Enc_16                          0\n",
      "Length: 76, dtype: int64\n",
      "id                             0\n",
      "Basic_Demos-Enroll_Season      0\n",
      "Basic_Demos-Age                0\n",
      "Basic_Demos-Sex                0\n",
      "CGAS-Season                  276\n",
      "                            ... \n",
      "Enc_12                         0\n",
      "Enc_13                         0\n",
      "Enc_14                         0\n",
      "Enc_15                         0\n",
      "Enc_16                         0\n",
      "Length: 76, dtype: int64\n"
     ]
    }
   ],
   "source": [
    "# train_df.replace([np.inf, -np.inf], np.nan, inplace=True) # Debug why we have inf values\n",
    "\n",
    "# Apply imputation after splitting the dataset\n",
    "train_df, test_df = impute_missing_values(train_df, test_df)\n",
    "\n",
    "# Ensure target column 'sii' remains integer after imputation\n",
    "train_df['sii'] = train_df['sii'].round().astype(int)\n",
    "test_df['sii'] = test_df['sii'].round().astype(int)\n",
    "\n",
    "# Imputation is needed in test set for some cases but not others to revisit\n",
    "\n",
    "print(train_df.isna().sum())\n",
    "print(test_df.isna().sum())"
   ]
  },
  {
   "cell_type": "markdown",
   "id": "751c5458",
   "metadata": {
    "papermill": {
     "duration": 0.017845,
     "end_time": "2024-12-11T00:45:11.756357",
     "exception": false,
     "start_time": "2024-12-11T00:45:11.738512",
     "status": "completed"
    },
    "tags": []
   },
   "source": [
    "### Categorical Processing"
   ]
  },
  {
   "cell_type": "code",
   "execution_count": 21,
   "id": "f78be52c",
   "metadata": {
    "execution": {
     "iopub.execute_input": "2024-12-11T00:45:11.794784Z",
     "iopub.status.busy": "2024-12-11T00:45:11.794082Z",
     "iopub.status.idle": "2024-12-11T00:45:11.837890Z",
     "shell.execute_reply": "2024-12-11T00:45:11.836939Z"
    },
    "papermill": {
     "duration": 0.064953,
     "end_time": "2024-12-11T00:45:11.839603",
     "exception": false,
     "start_time": "2024-12-11T00:45:11.774650",
     "status": "completed"
    },
    "tags": []
   },
   "outputs": [
    {
     "name": "stdout",
     "output_type": "stream",
     "text": [
      "['Basic_Demos-Enroll_Season', 'CGAS-Season', 'Physical-Season', 'Fitness_Endurance-Season', 'FGC-Season', 'BIA-Season', 'PAQ_A-Season', 'PAQ_C-Season', 'SDS-Season', 'PreInt_EduHx-Season']\n"
     ]
    }
   ],
   "source": [
    "categorical_cols = list(train_df.select_dtypes(include=['object']).columns) #sii (outcome var) is categorical but we are encoding that differently\n",
    "categorical_cols.remove('id')\n",
    "print(categorical_cols)\n",
    "\n",
    "def preprocess_categorical(df):\n",
    "    for col in categorical_cols:\n",
    "        df[col] = df[col].fillna('Missing').astype('category')\n",
    "    return df\n",
    "\n",
    "train_df = preprocess_categorical(train_df)\n",
    "test_df = preprocess_categorical(test_df)\n",
    "\n",
    "train_df = pd.get_dummies(train_df, columns = categorical_cols, drop_first=True, dtype='int')\n",
    "test_df = pd.get_dummies(test_df, columns = categorical_cols, drop_first=True, dtype='int')"
   ]
  },
  {
   "cell_type": "code",
   "execution_count": 22,
   "id": "d899de3d",
   "metadata": {
    "execution": {
     "iopub.execute_input": "2024-12-11T00:45:11.877476Z",
     "iopub.status.busy": "2024-12-11T00:45:11.877193Z",
     "iopub.status.idle": "2024-12-11T00:45:11.883942Z",
     "shell.execute_reply": "2024-12-11T00:45:11.883297Z"
    },
    "papermill": {
     "duration": 0.027262,
     "end_time": "2024-12-11T00:45:11.885447",
     "exception": false,
     "start_time": "2024-12-11T00:45:11.858185",
     "status": "completed"
    },
    "tags": []
   },
   "outputs": [],
   "source": [
    "train_df = train_df.drop('id', axis=1)\n",
    "test_df = test_df.drop('id', axis=1)"
   ]
  },
  {
   "cell_type": "code",
   "execution_count": 23,
   "id": "9b1eb947",
   "metadata": {
    "execution": {
     "iopub.execute_input": "2024-12-11T00:45:11.923343Z",
     "iopub.status.busy": "2024-12-11T00:45:11.922727Z",
     "iopub.status.idle": "2024-12-11T00:45:11.927185Z",
     "shell.execute_reply": "2024-12-11T00:45:11.926117Z"
    },
    "papermill": {
     "duration": 0.024978,
     "end_time": "2024-12-11T00:45:11.928870",
     "exception": false,
     "start_time": "2024-12-11T00:45:11.903892",
     "status": "completed"
    },
    "tags": []
   },
   "outputs": [],
   "source": [
    "# Define the Quadratic Weighted Kappa metric\n",
    "def quadratic_weighted_kappa(y_actual, y_predicted):\n",
    "    return cohen_kappa_score(y_actual, y_predicted, weights='quadratic')"
   ]
  },
  {
   "cell_type": "code",
   "execution_count": 24,
   "id": "1de9e054",
   "metadata": {
    "execution": {
     "iopub.execute_input": "2024-12-11T00:45:11.966075Z",
     "iopub.status.busy": "2024-12-11T00:45:11.965793Z",
     "iopub.status.idle": "2024-12-11T00:45:11.970740Z",
     "shell.execute_reply": "2024-12-11T00:45:11.969907Z"
    },
    "papermill": {
     "duration": 0.025443,
     "end_time": "2024-12-11T00:45:11.972426",
     "exception": false,
     "start_time": "2024-12-11T00:45:11.946983",
     "status": "completed"
    },
    "tags": []
   },
   "outputs": [],
   "source": [
    "def make_cm(y_true, y_pred, title):\n",
    "    cm = confusion_matrix(y_true, y_pred)\n",
    "    plt.figure(figsize=(6, 5))\n",
    "    sns.heatmap(cm, annot=True, fmt='d', cmap='Blues', xticklabels=np.unique(y_test), yticklabels=np.unique(y_test))\n",
    "    plt.xlabel('Predicted')\n",
    "    plt.ylabel('True')\n",
    "    plt.title(f'{title} Confusion Matrix')\n",
    "    plt.show()"
   ]
  },
  {
   "cell_type": "markdown",
   "id": "40189224",
   "metadata": {
    "papermill": {
     "duration": 0.018035,
     "end_time": "2024-12-11T00:45:12.008672",
     "exception": false,
     "start_time": "2024-12-11T00:45:11.990637",
     "status": "completed"
    },
    "tags": []
   },
   "source": [
    "### Resampling of Training Set"
   ]
  },
  {
   "cell_type": "code",
   "execution_count": 25,
   "id": "141042cb",
   "metadata": {
    "execution": {
     "iopub.execute_input": "2024-12-11T00:45:12.046594Z",
     "iopub.status.busy": "2024-12-11T00:45:12.046302Z",
     "iopub.status.idle": "2024-12-11T00:45:12.052310Z",
     "shell.execute_reply": "2024-12-11T00:45:12.051700Z"
    },
    "papermill": {
     "duration": 0.027403,
     "end_time": "2024-12-11T00:45:12.053907",
     "exception": false,
     "start_time": "2024-12-11T00:45:12.026504",
     "status": "completed"
    },
    "tags": []
   },
   "outputs": [],
   "source": [
    "X = train_df.drop(columns='sii', axis=1)\n",
    "y = train_df['sii'].astype(int)\n",
    "\n",
    "# # Apply NearMiss for downsampling\n",
    "# nm = NearMiss(sampling_strategy='majority')  # You can change version to 2 or 3\n",
    "# # These are global variables for now\n",
    "# X_res, y_res = nm.fit_resample(X, y)"
   ]
  },
  {
   "cell_type": "markdown",
   "id": "0d502d0c",
   "metadata": {
    "papermill": {
     "duration": 0.017668,
     "end_time": "2024-12-11T00:45:12.089955",
     "exception": false,
     "start_time": "2024-12-11T00:45:12.072287",
     "status": "completed"
    },
    "tags": []
   },
   "source": [
    "## Baseline - Random Forest Model"
   ]
  },
  {
   "cell_type": "code",
   "execution_count": 26,
   "id": "6e620389",
   "metadata": {
    "execution": {
     "iopub.execute_input": "2024-12-11T00:45:12.127459Z",
     "iopub.status.busy": "2024-12-11T00:45:12.127130Z",
     "iopub.status.idle": "2024-12-11T00:45:12.132378Z",
     "shell.execute_reply": "2024-12-11T00:45:12.131519Z"
    },
    "papermill": {
     "duration": 0.02595,
     "end_time": "2024-12-11T00:45:12.133985",
     "exception": false,
     "start_time": "2024-12-11T00:45:12.108035",
     "status": "completed"
    },
    "tags": []
   },
   "outputs": [],
   "source": [
    "def train_and_evaluate(model, param_dist, n_iter=10, eval_metric=None):\n",
    "    kf = StratifiedKFold(n_splits=3, shuffle=True, random_state=42)\n",
    "    search = RandomizedSearchCV(model, param_dist, n_iter=n_iter, cv=kf, n_jobs=-1, random_state=42, verbose=2, scoring=eval_metric)\n",
    "    search.fit(X, y) # The resampling did not help\n",
    "    best_model = search.best_estimator_\n",
    "    y_pred = best_model.predict(X)\n",
    "    print(f\"Best Parameters: {search.best_params_}\")\n",
    "    return best_model, y_pred, y"
   ]
  },
  {
   "cell_type": "code",
   "execution_count": 27,
   "id": "294302bf",
   "metadata": {
    "execution": {
     "iopub.execute_input": "2024-12-11T00:45:12.171895Z",
     "iopub.status.busy": "2024-12-11T00:45:12.171573Z",
     "iopub.status.idle": "2024-12-11T00:45:12.175802Z",
     "shell.execute_reply": "2024-12-11T00:45:12.174957Z"
    },
    "papermill": {
     "duration": 0.025325,
     "end_time": "2024-12-11T00:45:12.177413",
     "exception": false,
     "start_time": "2024-12-11T00:45:12.152088",
     "status": "completed"
    },
    "tags": []
   },
   "outputs": [],
   "source": [
    "rf_param_dist = {\n",
    "    'n_estimators': [100, 200, 300, 400],\n",
    "    'max_depth': [3, 4, 5, 6],\n",
    "    'min_samples_split': [2, 5],\n",
    "}"
   ]
  },
  {
   "cell_type": "markdown",
   "id": "ba83bc00",
   "metadata": {
    "papermill": {
     "duration": 0.018087,
     "end_time": "2024-12-11T00:45:12.213737",
     "exception": false,
     "start_time": "2024-12-11T00:45:12.195650",
     "status": "completed"
    },
    "tags": []
   },
   "source": [
    "### Classifier"
   ]
  },
  {
   "cell_type": "code",
   "execution_count": 28,
   "id": "0724c414",
   "metadata": {
    "execution": {
     "iopub.execute_input": "2024-12-11T00:45:12.252768Z",
     "iopub.status.busy": "2024-12-11T00:45:12.251936Z",
     "iopub.status.idle": "2024-12-11T00:45:12.257100Z",
     "shell.execute_reply": "2024-12-11T00:45:12.256398Z"
    },
    "papermill": {
     "duration": 0.026547,
     "end_time": "2024-12-11T00:45:12.258660",
     "exception": false,
     "start_time": "2024-12-11T00:45:12.232113",
     "status": "completed"
    },
    "tags": []
   },
   "outputs": [],
   "source": [
    "# Training and evaluation function\n",
    "def train_and_evaluate_classifier(model, param_dist, eval_metric=None, n_iter=10):\n",
    "    best_model, y_pred, y = train_and_evaluate(model, param_dist, n_iter, eval_metric)\n",
    "    train_kappa = quadratic_weighted_kappa(y, y_pred)\n",
    "    train_accuracy = accuracy_score(y, y_pred)\n",
    "    train_f1 = f1_score(y, y_pred, average='weighted')\n",
    "    print(f\"Best Train QWK: {train_kappa:.4f}\")\n",
    "    print(f\"Best Train Accuracy: {train_accuracy:.4f}\")\n",
    "    print(f\"Best Train F1: {train_f1:.4f}\")\n",
    "    return best_model"
   ]
  },
  {
   "cell_type": "code",
   "execution_count": 29,
   "id": "f6148cf8",
   "metadata": {
    "execution": {
     "iopub.execute_input": "2024-12-11T00:45:12.295869Z",
     "iopub.status.busy": "2024-12-11T00:45:12.295570Z",
     "iopub.status.idle": "2024-12-11T00:45:19.364154Z",
     "shell.execute_reply": "2024-12-11T00:45:19.362939Z"
    },
    "papermill": {
     "duration": 7.089595,
     "end_time": "2024-12-11T00:45:19.366293",
     "exception": false,
     "start_time": "2024-12-11T00:45:12.276698",
     "status": "completed"
    },
    "tags": []
   },
   "outputs": [
    {
     "name": "stdout",
     "output_type": "stream",
     "text": [
      "Fitting 3 folds for each of 3 candidates, totalling 9 fits\n",
      "Best Parameters: {'n_estimators': 100, 'min_samples_split': 2, 'max_depth': 6}\n",
      "Best Train QWK: 0.5011\n",
      "Best Train Accuracy: 0.7694\n",
      "Best Train F1: 0.7331\n"
     ]
    }
   ],
   "source": [
    "RF = RandomForestClassifier(random_state=42)\n",
    "best_model = train_and_evaluate_classifier(RF, rf_param_dist, n_iter=3)"
   ]
  },
  {
   "cell_type": "code",
   "execution_count": 30,
   "id": "300fc7f6",
   "metadata": {
    "execution": {
     "iopub.execute_input": "2024-12-11T00:45:19.443761Z",
     "iopub.status.busy": "2024-12-11T00:45:19.443385Z",
     "iopub.status.idle": "2024-12-11T00:45:19.470286Z",
     "shell.execute_reply": "2024-12-11T00:45:19.469413Z"
    },
    "papermill": {
     "duration": 0.048129,
     "end_time": "2024-12-11T00:45:19.471917",
     "exception": false,
     "start_time": "2024-12-11T00:45:19.423788",
     "status": "completed"
    },
    "tags": []
   },
   "outputs": [
    {
     "name": "stdout",
     "output_type": "stream",
     "text": [
      "Test QWK: \u001b[32m\u001b[1m0.1838\u001b[0m\n",
      "Test Accuracy: \u001b[32m\u001b[1m0.5352\u001b[0m\n",
      "Test F1: \u001b[32m\u001b[1m0.5250\u001b[0m\n"
     ]
    }
   ],
   "source": [
    "X_test = test_df.drop('sii', axis=1)\n",
    "y_test = test_df['sii'].astype(int)\n",
    "y_test_pred = best_model.predict(X_test)\n",
    "test_kappa = quadratic_weighted_kappa(y_test, y_test_pred)\n",
    "test_accuracy = accuracy_score(y_test, y_test_pred)\n",
    "test_f1 = f1_score(y_test, y_test_pred, average='weighted')\n",
    "print(f\"Test QWK: {Fore.GREEN}{Style.BRIGHT}{test_kappa:.4f}{Style.RESET_ALL}\")\n",
    "print(f\"Test Accuracy: {Fore.GREEN}{Style.BRIGHT}{test_accuracy:.4f}{Style.RESET_ALL}\")\n",
    "print(f\"Test F1: {Fore.GREEN}{Style.BRIGHT}{test_f1:.4f}{Style.RESET_ALL}\")"
   ]
  },
  {
   "cell_type": "markdown",
   "id": "7fa59e20",
   "metadata": {
    "papermill": {
     "duration": 0.018287,
     "end_time": "2024-12-11T00:45:19.508810",
     "exception": false,
     "start_time": "2024-12-11T00:45:19.490523",
     "status": "completed"
    },
    "tags": []
   },
   "source": [
    "### Regression"
   ]
  },
  {
   "cell_type": "code",
   "execution_count": 31,
   "id": "0113e09f",
   "metadata": {
    "execution": {
     "iopub.execute_input": "2024-12-11T00:45:19.546799Z",
     "iopub.status.busy": "2024-12-11T00:45:19.546459Z",
     "iopub.status.idle": "2024-12-11T00:45:19.552252Z",
     "shell.execute_reply": "2024-12-11T00:45:19.551549Z"
    },
    "papermill": {
     "duration": 0.026745,
     "end_time": "2024-12-11T00:45:19.553833",
     "exception": false,
     "start_time": "2024-12-11T00:45:19.527088",
     "status": "completed"
    },
    "tags": []
   },
   "outputs": [],
   "source": [
    "# Function to apply thresholds to continuous predictions\n",
    "def apply_thresholds(predictions, thresholds):\n",
    "    return np.digitize(predictions, bins=thresholds)\n",
    "\n",
    "# Function to optimize thresholds to maximize QWK\n",
    "def optimize_thresholds(y_true, predictions):\n",
    "    def loss_func(thresh):\n",
    "        # Ensure thresholds are sorted\n",
    "        thresh_sorted = np.sort(thresh)\n",
    "        preds = apply_thresholds(predictions, thresh_sorted)\n",
    "        return -quadratic_weighted_kappa(y_true, preds)\n",
    "    \n",
    "    initial_thresholds = [0.5, 1.5, 2.5]  # Initial guesses for thresholds\n",
    "    bounds = [(0, 3)] * 3  # Assuming classes are 0,1,2,3\n",
    "    result = minimize(loss_func, initial_thresholds, method='Nelder-Mead')\n",
    "    return result.x"
   ]
  },
  {
   "cell_type": "code",
   "execution_count": 32,
   "id": "46a94f45",
   "metadata": {
    "execution": {
     "iopub.execute_input": "2024-12-11T00:45:19.591535Z",
     "iopub.status.busy": "2024-12-11T00:45:19.591262Z",
     "iopub.status.idle": "2024-12-11T00:45:19.596349Z",
     "shell.execute_reply": "2024-12-11T00:45:19.595493Z"
    },
    "papermill": {
     "duration": 0.025546,
     "end_time": "2024-12-11T00:45:19.597856",
     "exception": false,
     "start_time": "2024-12-11T00:45:19.572310",
     "status": "completed"
    },
    "tags": []
   },
   "outputs": [],
   "source": [
    "def train_and_evaluate_regressor(model, param_dist, n_iter=10, eval_metric=None):\n",
    "    best_model, y_pred, y = train_and_evaluate(model, param_dist, n_iter, eval_metric)\n",
    "    thresholds = optimize_thresholds(y, y_pred)\n",
    "    y_pred = apply_thresholds(y_pred, thresholds)\n",
    "    train_kappa = quadratic_weighted_kappa(y, y_pred)\n",
    "    train_accuracy = accuracy_score(y, y_pred)\n",
    "    train_f1 = f1_score(y, y_pred, average='weighted')\n",
    "    print(f\"Best Train QWK: {train_kappa:.4f}\")\n",
    "    print(f\"Best Train Accuracy: {train_accuracy:.4f}\")\n",
    "    print(f\"Best Train F1: {train_f1:.4f}\")\n",
    "    return best_model, thresholds"
   ]
  },
  {
   "cell_type": "code",
   "execution_count": 33,
   "id": "270a9b08",
   "metadata": {
    "execution": {
     "iopub.execute_input": "2024-12-11T00:45:19.635960Z",
     "iopub.status.busy": "2024-12-11T00:45:19.635633Z",
     "iopub.status.idle": "2024-12-11T00:45:46.083551Z",
     "shell.execute_reply": "2024-12-11T00:45:46.082517Z"
    },
    "papermill": {
     "duration": 26.46913,
     "end_time": "2024-12-11T00:45:46.085456",
     "exception": false,
     "start_time": "2024-12-11T00:45:19.616326",
     "status": "completed"
    },
    "tags": []
   },
   "outputs": [
    {
     "name": "stdout",
     "output_type": "stream",
     "text": [
      "Fitting 3 folds for each of 3 candidates, totalling 9 fits\n",
      "Best Parameters: {'n_estimators': 100, 'min_samples_split': 2, 'max_depth': 6}\n",
      "Best Train QWK: 0.6976\n",
      "Best Train Accuracy: 0.7823\n",
      "Best Train F1: 0.7776\n"
     ]
    }
   ],
   "source": [
    "RF = RandomForestRegressor(random_state=42)\n",
    "best_model, thresholds = train_and_evaluate_regressor(RF, rf_param_dist, n_iter=3)"
   ]
  },
  {
   "cell_type": "code",
   "execution_count": 34,
   "id": "61942aa1",
   "metadata": {
    "execution": {
     "iopub.execute_input": "2024-12-11T00:45:46.124704Z",
     "iopub.status.busy": "2024-12-11T00:45:46.124366Z",
     "iopub.status.idle": "2024-12-11T00:45:46.144009Z",
     "shell.execute_reply": "2024-12-11T00:45:46.142970Z"
    },
    "papermill": {
     "duration": 0.040795,
     "end_time": "2024-12-11T00:45:46.145640",
     "exception": false,
     "start_time": "2024-12-11T00:45:46.104845",
     "status": "completed"
    },
    "tags": []
   },
   "outputs": [
    {
     "name": "stdout",
     "output_type": "stream",
     "text": [
      "Best Test QWK: 0.3289\n",
      "Best Train Accuracy: 0.5131\n",
      "Best Train F1: 0.5270\n"
     ]
    }
   ],
   "source": [
    "X_test = test_df.drop('sii', axis=1)\n",
    "y_test = test_df['sii'].astype(int)\n",
    "test_X = X_test.values.astype(np.float32)\n",
    "raw_preds = best_model.predict(test_X)\n",
    "y_test_pred = apply_thresholds(raw_preds, thresholds)\n",
    "test_kappa = quadratic_weighted_kappa(y_test, y_test_pred)\n",
    "test_accuracy = accuracy_score(y_test, y_test_pred)\n",
    "test_f1 = f1_score(y_test, y_test_pred, average='weighted')\n",
    "\n",
    "print(f\"Best Test QWK: {test_kappa:.4f}\")\n",
    "print(f\"Best Train Accuracy: {test_accuracy:.4f}\")\n",
    "print(f\"Best Train F1: {test_f1:.4f}\")"
   ]
  },
  {
   "cell_type": "markdown",
   "id": "a85625d0",
   "metadata": {
    "papermill": {
     "duration": 0.018471,
     "end_time": "2024-12-11T00:45:46.183968",
     "exception": false,
     "start_time": "2024-12-11T00:45:46.165497",
     "status": "completed"
    },
    "tags": []
   },
   "source": [
    "## Model 1 - Voting Classifier"
   ]
  },
  {
   "cell_type": "code",
   "execution_count": 35,
   "id": "32118d3f",
   "metadata": {
    "execution": {
     "iopub.execute_input": "2024-12-11T00:45:46.222076Z",
     "iopub.status.busy": "2024-12-11T00:45:46.221785Z",
     "iopub.status.idle": "2024-12-11T00:45:46.227144Z",
     "shell.execute_reply": "2024-12-11T00:45:46.226435Z"
    },
    "papermill": {
     "duration": 0.026422,
     "end_time": "2024-12-11T00:45:46.228864",
     "exception": false,
     "start_time": "2024-12-11T00:45:46.202442",
     "status": "completed"
    },
    "tags": []
   },
   "outputs": [],
   "source": [
    "# Training and evaluation function\n",
    "def train_and_evaluate_classifier(model, param_dist, eval_metric=None, n_iter=10):\n",
    "    best_model, y_pred, y = train_and_evaluate(model, param_dist, n_iter, eval_metric)\n",
    "    train_kappa = quadratic_weighted_kappa(y, y_pred)\n",
    "    train_accuracy = accuracy_score(y, y_pred)\n",
    "    train_f1 = f1_score(y, y_pred, average='weighted')\n",
    "    print(f\"Best Train QWK: {train_kappa:.4f}\")\n",
    "    print(f\"Best Train Accuracy: {train_accuracy:.4f}\")\n",
    "    print(f\"Best Train F1: {train_f1:.4f}\")\n",
    "    return best_model"
   ]
  },
  {
   "cell_type": "code",
   "execution_count": 36,
   "id": "fed343d3",
   "metadata": {
    "execution": {
     "iopub.execute_input": "2024-12-11T00:45:46.267454Z",
     "iopub.status.busy": "2024-12-11T00:45:46.267095Z",
     "iopub.status.idle": "2024-12-11T00:45:46.275238Z",
     "shell.execute_reply": "2024-12-11T00:45:46.274569Z"
    },
    "papermill": {
     "duration": 0.029597,
     "end_time": "2024-12-11T00:45:46.276914",
     "exception": false,
     "start_time": "2024-12-11T00:45:46.247317",
     "status": "completed"
    },
    "tags": []
   },
   "outputs": [],
   "source": [
    "# Define the classifiers\n",
    "rf = RandomForestClassifier(random_state=42)\n",
    "svc = SVC(probability=True, random_state=42)\n",
    "xgb_model = XGBClassifier(random_state=42, objective='multi:softprob', num_class=4, verbosity=0, learning_rate=0.05)\n",
    "lgb_model = LGBMClassifier(random_state=42, objective='multiclass', num_class=4, verbose=-1, learning_rate=0.05)\n",
    "catb_model = CatBoostClassifier(random_state=42, objective='MultiClass', verbose=False, learning_rate=0.05)"
   ]
  },
  {
   "cell_type": "code",
   "execution_count": 37,
   "id": "c4d7154a",
   "metadata": {
    "execution": {
     "iopub.execute_input": "2024-12-11T00:45:46.315348Z",
     "iopub.status.busy": "2024-12-11T00:45:46.315091Z",
     "iopub.status.idle": "2024-12-11T00:45:46.319524Z",
     "shell.execute_reply": "2024-12-11T00:45:46.318853Z"
    },
    "papermill": {
     "duration": 0.025963,
     "end_time": "2024-12-11T00:45:46.321323",
     "exception": false,
     "start_time": "2024-12-11T00:45:46.295360",
     "status": "completed"
    },
    "tags": []
   },
   "outputs": [],
   "source": [
    "param_dist = {\n",
    "            # 'rf__n_estimators': [100, 200, 300], 'rf__max_depth': [3], 'rf__min_samples_split': [2, 5, 10], 'rf__min_samples_leaf': [1], 'rf__max_features': ['auto', 'sqrt', 'log2'],\n",
    "            #   'svc__C': [0.1, 1, 10], 'svc__gamma': ['scale', 'auto'], 'svc__kernel': ['linear', 'rbf'],\n",
    "              'xgb__n_estimators': [200, 300], 'xgb__max_depth': [2, 5],\n",
    "              'lgb__n_estimators': [100, 200], 'lgb__num_leaves': [5, 10, 15],\n",
    "              'cat__iterations': [100, 200, 300], 'cat__depth': [2, 4, 5]\n",
    "              }"
   ]
  },
  {
   "cell_type": "code",
   "execution_count": 38,
   "id": "da239c9a",
   "metadata": {
    "execution": {
     "iopub.execute_input": "2024-12-11T00:45:46.361057Z",
     "iopub.status.busy": "2024-12-11T00:45:46.360793Z",
     "iopub.status.idle": "2024-12-11T00:45:46.364943Z",
     "shell.execute_reply": "2024-12-11T00:45:46.364128Z"
    },
    "papermill": {
     "duration": 0.026848,
     "end_time": "2024-12-11T00:45:46.366641",
     "exception": false,
     "start_time": "2024-12-11T00:45:46.339793",
     "status": "completed"
    },
    "tags": []
   },
   "outputs": [],
   "source": [
    "\n",
    "# Create an ensemble using VotingClassifier with soft voting\n",
    "ensemble_model = VotingClassifier(\n",
    "    estimators=[('lgb', lgb_model), \n",
    "                ('xgb', xgb_model), \n",
    "                ('cat', catb_model)\n",
    "                # ('rf', rf) \n",
    "                # ,('svc', svc)\n",
    "                ],\n",
    "    voting='soft',\n",
    "    # weights=[4.0, 4.0, 5.0],\n",
    "    n_jobs=-1\n",
    ")"
   ]
  },
  {
   "cell_type": "code",
   "execution_count": 39,
   "id": "0dd9aa1b",
   "metadata": {
    "execution": {
     "iopub.execute_input": "2024-12-11T00:45:46.405804Z",
     "iopub.status.busy": "2024-12-11T00:45:46.405495Z",
     "iopub.status.idle": "2024-12-11T00:46:22.785834Z",
     "shell.execute_reply": "2024-12-11T00:46:22.784717Z"
    },
    "papermill": {
     "duration": 36.42207,
     "end_time": "2024-12-11T00:46:22.807967",
     "exception": false,
     "start_time": "2024-12-11T00:45:46.385897",
     "status": "completed"
    },
    "tags": []
   },
   "outputs": [
    {
     "name": "stdout",
     "output_type": "stream",
     "text": [
      "Fitting 3 folds for each of 2 candidates, totalling 6 fits\n",
      "Best Parameters: {'xgb__n_estimators': 200, 'xgb__max_depth': 5, 'lgb__num_leaves': 10, 'lgb__n_estimators': 100, 'cat__iterations': 200, 'cat__depth': 4}\n",
      "Best Train QWK: 0.7673\n",
      "Best Train Accuracy: 0.8758\n",
      "Best Train F1: 0.8732\n"
     ]
    }
   ],
   "source": [
    "best_model = train_and_evaluate_classifier(ensemble_model, param_dist, n_iter=2)"
   ]
  },
  {
   "cell_type": "code",
   "execution_count": 40,
   "id": "1770f163",
   "metadata": {
    "execution": {
     "iopub.execute_input": "2024-12-11T00:46:22.847303Z",
     "iopub.status.busy": "2024-12-11T00:46:22.846969Z",
     "iopub.status.idle": "2024-12-11T00:46:22.893319Z",
     "shell.execute_reply": "2024-12-11T00:46:22.891825Z"
    },
    "papermill": {
     "duration": 0.067993,
     "end_time": "2024-12-11T00:46:22.895133",
     "exception": false,
     "start_time": "2024-12-11T00:46:22.827140",
     "status": "completed"
    },
    "tags": []
   },
   "outputs": [
    {
     "name": "stdout",
     "output_type": "stream",
     "text": [
      "Test QWK: \u001b[32m\u001b[1m0.3696\u001b[0m\n",
      "Test Accuracy: \u001b[32m\u001b[1m0.6398\u001b[0m\n",
      "Test F1: \u001b[32m\u001b[1m0.6281\u001b[0m\n"
     ]
    }
   ],
   "source": [
    "X_test = test_df.drop('sii', axis=1)\n",
    "y_test = test_df['sii'].astype(int)\n",
    "y_test_pred = best_model.predict(X_test)\n",
    "test_kappa = quadratic_weighted_kappa(y_test, y_test_pred)\n",
    "test_accuracy = accuracy_score(y_test, y_test_pred)\n",
    "test_f1 = f1_score(y_test, y_test_pred, average='weighted')\n",
    "print(f\"Test QWK: {Fore.GREEN}{Style.BRIGHT}{test_kappa:.4f}{Style.RESET_ALL}\")\n",
    "print(f\"Test Accuracy: {Fore.GREEN}{Style.BRIGHT}{test_accuracy:.4f}{Style.RESET_ALL}\")\n",
    "print(f\"Test F1: {Fore.GREEN}{Style.BRIGHT}{test_f1:.4f}{Style.RESET_ALL}\")"
   ]
  },
  {
   "cell_type": "code",
   "execution_count": 41,
   "id": "6d69f36d",
   "metadata": {
    "execution": {
     "iopub.execute_input": "2024-12-11T00:46:22.933719Z",
     "iopub.status.busy": "2024-12-11T00:46:22.933435Z",
     "iopub.status.idle": "2024-12-11T00:46:23.255500Z",
     "shell.execute_reply": "2024-12-11T00:46:23.254624Z"
    },
    "papermill": {
     "duration": 0.342962,
     "end_time": "2024-12-11T00:46:23.257287",
     "exception": false,
     "start_time": "2024-12-11T00:46:22.914325",
     "status": "completed"
    },
    "tags": []
   },
   "outputs": [
    {
     "data": {
      "image/png": "[encoded data removed]",
      "text/plain": [
       "<Figure size 600x500 with 2 Axes>"
      ]
     },
     "metadata": {},
     "output_type": "display_data"
    }
   ],
   "source": [
    "make_cm(y_test, y_test_pred, \"Voting Classifier - Test\")"
   ]
  },
  {
   "cell_type": "markdown",
   "id": "0eee950c",
   "metadata": {
    "papermill": {
     "duration": 0.018596,
     "end_time": "2024-12-11T00:46:23.295562",
     "exception": false,
     "start_time": "2024-12-11T00:46:23.276966",
     "status": "completed"
    },
    "tags": []
   },
   "source": [
    "## Model 1.5 - Stacking Classifier"
   ]
  },
  {
   "cell_type": "code",
   "execution_count": 42,
   "id": "34fdb493",
   "metadata": {
    "execution": {
     "iopub.execute_input": "2024-12-11T00:46:23.334539Z",
     "iopub.status.busy": "2024-12-11T00:46:23.334223Z",
     "iopub.status.idle": "2024-12-11T00:46:23.338760Z",
     "shell.execute_reply": "2024-12-11T00:46:23.337947Z"
    },
    "papermill": {
     "duration": 0.026054,
     "end_time": "2024-12-11T00:46:23.340395",
     "exception": false,
     "start_time": "2024-12-11T00:46:23.314341",
     "status": "completed"
    },
    "tags": []
   },
   "outputs": [],
   "source": [
    "\n",
    "# Create an ensemble using VotingClassifier with soft voting\n",
    "ensemble_model = StackingClassifier(\n",
    "    estimators=[('lgb', lgb_model), \n",
    "                ('xgb', xgb_model), \n",
    "                ('cat', catb_model)\n",
    "                # ('rf', rf) \n",
    "                # ,('svc', svc)\n",
    "                ],\n",
    "    # weights=[4.0, 4.0, 5.0],\n",
    "    n_jobs=-1\n",
    ")"
   ]
  },
  {
   "cell_type": "code",
   "execution_count": 43,
   "id": "4c9d4373",
   "metadata": {
    "execution": {
     "iopub.execute_input": "2024-12-11T00:46:23.380053Z",
     "iopub.status.busy": "2024-12-11T00:46:23.379501Z",
     "iopub.status.idle": "2024-12-11T00:49:32.720736Z",
     "shell.execute_reply": "2024-12-11T00:49:32.719744Z"
    },
    "papermill": {
     "duration": 189.393502,
     "end_time": "2024-12-11T00:49:32.753289",
     "exception": false,
     "start_time": "2024-12-11T00:46:23.359787",
     "status": "completed"
    },
    "tags": []
   },
   "outputs": [
    {
     "name": "stdout",
     "output_type": "stream",
     "text": [
      "Fitting 3 folds for each of 2 candidates, totalling 6 fits\n",
      "[CV] END .max_depth=6, min_samples_split=5, n_estimators=200; total time=   1.5s\n",
      "[CV] END .max_depth=4, min_samples_split=5, n_estimators=400; total time=   2.2s\n",
      "[CV] END .max_depth=4, min_samples_split=5, n_estimators=400; total time=  13.2s\n",
      "[CV] END .max_depth=6, min_samples_split=2, n_estimators=100; total time=   4.7s\n",
      "[CV] END cat__depth=4, cat__iterations=200, lgb__n_estimators=100, lgb__num_leaves=10, xgb__max_depth=5, xgb__n_estimators=200; total time=  15.6s\n",
      "[CV] END cat__depth=5, cat__iterations=200, lgb__n_estimators=100, lgb__num_leaves=15, xgb__max_depth=5, xgb__n_estimators=300; total time=  10.8s\n",
      "[CV] END cat__depth=4, cat__iterations=200, lgb__n_estimators=100, lgb__num_leaves=10, xgb__max_depth=5, xgb__n_estimators=200; total time= 1.5min\n",
      "[CV] END .max_depth=4, min_samples_split=5, n_estimators=400; total time=   2.4s\n",
      "[CV] END .max_depth=6, min_samples_split=2, n_estimators=100; total time=   0.8s\n",
      "[CV] END .max_depth=6, min_samples_split=5, n_estimators=200; total time=   9.4s\n",
      "[CV] END .max_depth=4, min_samples_split=5, n_estimators=400; total time=  11.6s\n",
      "[CV] END cat__depth=4, cat__iterations=200, lgb__n_estimators=100, lgb__num_leaves=10, xgb__max_depth=5, xgb__n_estimators=200; total time=  16.8s\n",
      "[CV] END cat__depth=4, cat__iterations=200, lgb__n_estimators=100, lgb__num_leaves=10, xgb__max_depth=5, xgb__n_estimators=200; total time= 1.5min\n",
      "[CV] END cat__depth=5, cat__iterations=200, lgb__n_estimators=100, lgb__num_leaves=15, xgb__max_depth=5, xgb__n_estimators=300; total time= 1.0min\n"
     ]
    },
    {
     "name": "stderr",
     "output_type": "stream",
     "text": [
      "/opt/conda/lib/python3.10/site-packages/sklearn/linear_model/_logistic.py:458: ConvergenceWarning: lbfgs failed to converge (status=1):\n",
      "STOP: TOTAL NO. of ITERATIONS REACHED LIMIT.\n",
      "\n",
      "Increase the number of iterations (max_iter) or scale the data as shown in:\n",
      "    https://scikit-learn.org/stable/modules/preprocessing.html\n",
      "Please also refer to the documentation for alternative solver options:\n",
      "    https://scikit-learn.org/stable/modules/linear_model.html#logistic-regression\n",
      "  n_iter_i = _check_optimize_result(\n"
     ]
    },
    {
     "name": "stdout",
     "output_type": "stream",
     "text": [
      "[CV] END .max_depth=6, min_samples_split=5, n_estimators=200; total time=   1.5s\n",
      "[CV] END .max_depth=4, min_samples_split=5, n_estimators=400; total time=   2.2s\n",
      "[CV] END .max_depth=6, min_samples_split=5, n_estimators=200; total time=  10.1s\n",
      "[CV] END .max_depth=6, min_samples_split=2, n_estimators=100; total time=   4.6s\n",
      "[CV] END .max_depth=6, min_samples_split=2, n_estimators=100; total time=   4.4s\n",
      "[CV] END cat__depth=4, cat__iterations=200, lgb__n_estimators=100, lgb__num_leaves=10, xgb__max_depth=5, xgb__n_estimators=200; total time=  15.7s\n",
      "[CV] END cat__depth=5, cat__iterations=200, lgb__n_estimators=100, lgb__num_leaves=15, xgb__max_depth=5, xgb__n_estimators=300; total time=  11.1s\n",
      "[CV] END cat__depth=4, cat__iterations=200, lgb__n_estimators=100, lgb__num_leaves=10, xgb__max_depth=5, xgb__n_estimators=200; total time= 1.5min\n",
      "[CV] END cat__depth=5, cat__iterations=200, lgb__n_estimators=100, lgb__num_leaves=15, xgb__max_depth=5, xgb__n_estimators=300; total time= 1.0min\n",
      "Best Parameters: {'xgb__n_estimators': 300, 'xgb__max_depth': 5, 'lgb__num_leaves': 15, 'lgb__n_estimators': 100, 'cat__iterations': 200, 'cat__depth': 5}\n",
      "Best Train QWK: 0.6744\n",
      "Best Train Accuracy: 0.8649\n",
      "Best Train F1: 0.8569\n"
     ]
    }
   ],
   "source": [
    "best_model = train_and_evaluate_classifier(ensemble_model, param_dist, n_iter=2)"
   ]
  },
  {
   "cell_type": "code",
   "execution_count": 44,
   "id": "3a9b6b6d",
   "metadata": {
    "execution": {
     "iopub.execute_input": "2024-12-11T00:49:32.795387Z",
     "iopub.status.busy": "2024-12-11T00:49:32.794569Z",
     "iopub.status.idle": "2024-12-11T00:49:32.856137Z",
     "shell.execute_reply": "2024-12-11T00:49:32.854831Z"
    },
    "papermill": {
     "duration": 0.084836,
     "end_time": "2024-12-11T00:49:32.857912",
     "exception": false,
     "start_time": "2024-12-11T00:49:32.773076",
     "status": "completed"
    },
    "tags": []
   },
   "outputs": [
    {
     "name": "stdout",
     "output_type": "stream",
     "text": [
      "Test QWK: \u001b[32m\u001b[1m0.3218\u001b[0m\n",
      "Test Accuracy: \u001b[32m\u001b[1m0.5865\u001b[0m\n",
      "Test F1: \u001b[32m\u001b[1m0.5859\u001b[0m\n"
     ]
    }
   ],
   "source": [
    "X_test = test_df.drop('sii', axis=1)\n",
    "y_test = test_df['sii'].astype(int)\n",
    "y_test_pred = best_model.predict(X_test)\n",
    "test_kappa = quadratic_weighted_kappa(y_test, y_test_pred)\n",
    "test_accuracy = accuracy_score(y_test, y_test_pred)\n",
    "test_f1 = f1_score(y_test, y_test_pred, average='weighted')\n",
    "print(f\"Test QWK: {Fore.GREEN}{Style.BRIGHT}{test_kappa:.4f}{Style.RESET_ALL}\")\n",
    "print(f\"Test Accuracy: {Fore.GREEN}{Style.BRIGHT}{test_accuracy:.4f}{Style.RESET_ALL}\")\n",
    "print(f\"Test F1: {Fore.GREEN}{Style.BRIGHT}{test_f1:.4f}{Style.RESET_ALL}\")"
   ]
  },
  {
   "cell_type": "code",
   "execution_count": 45,
   "id": "ff62e96f",
   "metadata": {
    "execution": {
     "iopub.execute_input": "2024-12-11T00:49:32.899595Z",
     "iopub.status.busy": "2024-12-11T00:49:32.899290Z",
     "iopub.status.idle": "2024-12-11T00:49:33.409781Z",
     "shell.execute_reply": "2024-12-11T00:49:33.408919Z"
    },
    "papermill": {
     "duration": 0.532858,
     "end_time": "2024-12-11T00:49:33.411751",
     "exception": false,
     "start_time": "2024-12-11T00:49:32.878893",
     "status": "completed"
    },
    "tags": []
   },
   "outputs": [
    {
     "data": {
      "image/png": "[encoded data removed]",
      "text/plain": [
       "<Figure size 600x500 with 2 Axes>"
      ]
     },
     "metadata": {},
     "output_type": "display_data"
    }
   ],
   "source": [
    "make_cm(y_test, y_test_pred, \"Stacking Classifier - Test\")"
   ]
  },
  {
   "cell_type": "markdown",
   "id": "da9b76e4",
   "metadata": {
    "papermill": {
     "duration": 0.019505,
     "end_time": "2024-12-11T00:49:33.451512",
     "exception": false,
     "start_time": "2024-12-11T00:49:33.432007",
     "status": "completed"
    },
    "tags": []
   },
   "source": [
    "## Model 2 - Voting Regressor"
   ]
  },
  {
   "cell_type": "code",
   "execution_count": 46,
   "id": "30d2b593",
   "metadata": {
    "execution": {
     "iopub.execute_input": "2024-12-11T00:49:33.492650Z",
     "iopub.status.busy": "2024-12-11T00:49:33.492332Z",
     "iopub.status.idle": "2024-12-11T00:49:33.497972Z",
     "shell.execute_reply": "2024-12-11T00:49:33.497155Z"
    },
    "papermill": {
     "duration": 0.028453,
     "end_time": "2024-12-11T00:49:33.499620",
     "exception": false,
     "start_time": "2024-12-11T00:49:33.471167",
     "status": "completed"
    },
    "tags": []
   },
   "outputs": [],
   "source": [
    "# Function to apply thresholds to continuous predictions\n",
    "def apply_thresholds(predictions, thresholds):\n",
    "    return np.digitize(predictions, bins=thresholds)\n",
    "\n",
    "# Function to optimize thresholds to maximize QWK\n",
    "def optimize_thresholds(y_true, predictions):\n",
    "    def loss_func(thresh):\n",
    "        # Ensure thresholds are sorted\n",
    "        thresh_sorted = np.sort(thresh)\n",
    "        preds = apply_thresholds(predictions, thresh_sorted)\n",
    "        return -quadratic_weighted_kappa(y_true, preds)\n",
    "    \n",
    "    initial_thresholds = [0.5, 1.5, 2.5]  # Initial guesses for thresholds\n",
    "    bounds = [(0, 3)] * 3  # Assuming classes are 0,1,2,3\n",
    "    result = minimize(loss_func, initial_thresholds, method='Nelder-Mead')\n",
    "    return result.x"
   ]
  },
  {
   "cell_type": "code",
   "execution_count": 47,
   "id": "c29dc4ed",
   "metadata": {
    "execution": {
     "iopub.execute_input": "2024-12-11T00:49:33.539701Z",
     "iopub.status.busy": "2024-12-11T00:49:33.539408Z",
     "iopub.status.idle": "2024-12-11T00:49:33.544470Z",
     "shell.execute_reply": "2024-12-11T00:49:33.543736Z"
    },
    "papermill": {
     "duration": 0.026853,
     "end_time": "2024-12-11T00:49:33.546037",
     "exception": false,
     "start_time": "2024-12-11T00:49:33.519184",
     "status": "completed"
    },
    "tags": []
   },
   "outputs": [],
   "source": [
    "def train_and_evaluate_regressor(model, param_dist, n_iter=10, eval_metric=None):\n",
    "    best_model, y_pred, y = train_and_evaluate(model, param_dist, n_iter, eval_metric)\n",
    "    thresholds = optimize_thresholds(y, y_pred)\n",
    "    y_pred = apply_thresholds(y_pred, thresholds)\n",
    "    train_kappa = quadratic_weighted_kappa(y, y_pred)\n",
    "    train_accuracy = accuracy_score(y, y_pred)\n",
    "    train_f1 = f1_score(y, y_pred, average='weighted')\n",
    "    print(f\"Best Train QWK: {train_kappa:.4f}\")\n",
    "    print(f\"Best Train Accuracy: {train_accuracy:.4f}\")\n",
    "    print(f\"Best Train F1: {train_f1:.4f}\")\n",
    "    return best_model, thresholds"
   ]
  },
  {
   "cell_type": "code",
   "execution_count": 48,
   "id": "9d08fe3d",
   "metadata": {
    "execution": {
     "iopub.execute_input": "2024-12-11T00:49:33.586641Z",
     "iopub.status.busy": "2024-12-11T00:49:33.586372Z",
     "iopub.status.idle": "2024-12-11T00:49:33.591092Z",
     "shell.execute_reply": "2024-12-11T00:49:33.590241Z"
    },
    "papermill": {
     "duration": 0.026899,
     "end_time": "2024-12-11T00:49:33.592621",
     "exception": false,
     "start_time": "2024-12-11T00:49:33.565722",
     "status": "completed"
    },
    "tags": []
   },
   "outputs": [],
   "source": [
    "svm = SVC(random_state=42)\n",
    "xgb_model = XGBRegressor(random_state=42, verbosity=0, learning_rate=0.05)\n",
    "lgb_model = LGBMRegressor(random_state=42, verbose=-1, learning_rate=0.05)\n",
    "catb_model = CatBoostRegressor(random_state=42, verbose=False, learning_rate=0.05)"
   ]
  },
  {
   "cell_type": "code",
   "execution_count": 49,
   "id": "128775e3",
   "metadata": {
    "execution": {
     "iopub.execute_input": "2024-12-11T00:49:33.632942Z",
     "iopub.status.busy": "2024-12-11T00:49:33.632384Z",
     "iopub.status.idle": "2024-12-11T00:49:33.635989Z",
     "shell.execute_reply": "2024-12-11T00:49:33.635228Z"
    },
    "papermill": {
     "duration": 0.025373,
     "end_time": "2024-12-11T00:49:33.637527",
     "exception": false,
     "start_time": "2024-12-11T00:49:33.612154",
     "status": "completed"
    },
    "tags": []
   },
   "outputs": [],
   "source": [
    "# Use the same ones as above for consistency\n",
    "# param_dist = {\n",
    "#             # 'rf__n_estimators': [100, 200, 300], 'rf__max_depth': [3], 'rf__min_samples_split': [2, 5, 10], 'rf__min_samples_leaf': [1], 'rf__max_features': ['auto', 'sqrt', 'log2'],\n",
    "#             #   'svc__C': [0.1, 1, 10], 'svc__gamma': ['scale', 'auto'], 'svc__kernel': ['linear', 'rbf'],\n",
    "#               'xgb__n_estimators': [200, 300], 'xgb__max_depth': [2, 3],\n",
    "#               'lgb__n_estimators': [100, 200], 'lgb__num_leaves': [5, 10],\n",
    "#               'cat__iterations': [100, 200], 'cat__depth': [2, 4]\n",
    "#               }"
   ]
  },
  {
   "cell_type": "code",
   "execution_count": 50,
   "id": "956e6c37",
   "metadata": {
    "execution": {
     "iopub.execute_input": "2024-12-11T00:49:33.678163Z",
     "iopub.status.busy": "2024-12-11T00:49:33.677479Z",
     "iopub.status.idle": "2024-12-11T00:49:33.681798Z",
     "shell.execute_reply": "2024-12-11T00:49:33.680997Z"
    },
    "papermill": {
     "duration": 0.026075,
     "end_time": "2024-12-11T00:49:33.683257",
     "exception": false,
     "start_time": "2024-12-11T00:49:33.657182",
     "status": "completed"
    },
    "tags": []
   },
   "outputs": [],
   "source": [
    "# Create an ensemble using VotingClassifier with soft voting\n",
    "ensemble_model = VotingRegressor(\n",
    "    estimators=[('lgb', lgb_model), \n",
    "                ('xgb', xgb_model), \n",
    "                ('cat', catb_model)\n",
    "                # ('rf', rf) \n",
    "                # ,('svc', svc)\n",
    "                ],\n",
    "    # weights=[4.0, 4.0, 5.0],\n",
    "    n_jobs=-1\n",
    ")"
   ]
  },
  {
   "cell_type": "code",
   "execution_count": 51,
   "id": "66878e0f",
   "metadata": {
    "execution": {
     "iopub.execute_input": "2024-12-11T00:49:33.723727Z",
     "iopub.status.busy": "2024-12-11T00:49:33.723434Z",
     "iopub.status.idle": "2024-12-11T00:49:47.984955Z",
     "shell.execute_reply": "2024-12-11T00:49:47.983373Z"
    },
    "papermill": {
     "duration": 14.283996,
     "end_time": "2024-12-11T00:49:47.986961",
     "exception": false,
     "start_time": "2024-12-11T00:49:33.702965",
     "status": "completed"
    },
    "tags": []
   },
   "outputs": [
    {
     "name": "stdout",
     "output_type": "stream",
     "text": [
      "Fitting 3 folds for each of 2 candidates, totalling 6 fits\n",
      "Best Parameters: {'xgb__n_estimators': 200, 'xgb__max_depth': 5, 'lgb__num_leaves': 10, 'lgb__n_estimators': 100, 'cat__iterations': 200, 'cat__depth': 4}\n",
      "Best Train QWK: 0.7540\n",
      "Best Train Accuracy: 0.8146\n",
      "Best Train F1: 0.8107\n"
     ]
    }
   ],
   "source": [
    "best_model, thresholds = train_and_evaluate_regressor(ensemble_model, param_dist, n_iter=2)"
   ]
  },
  {
   "cell_type": "code",
   "execution_count": 52,
   "id": "ee183a13",
   "metadata": {
    "execution": {
     "iopub.execute_input": "2024-12-11T00:49:48.045652Z",
     "iopub.status.busy": "2024-12-11T00:49:48.044852Z",
     "iopub.status.idle": "2024-12-11T00:49:48.084086Z",
     "shell.execute_reply": "2024-12-11T00:49:48.083116Z"
    },
    "papermill": {
     "duration": 0.07945,
     "end_time": "2024-12-11T00:49:48.086816",
     "exception": false,
     "start_time": "2024-12-11T00:49:48.007366",
     "status": "completed"
    },
    "tags": []
   },
   "outputs": [
    {
     "name": "stdout",
     "output_type": "stream",
     "text": [
      "Test QWK: \u001b[32m\u001b[1m0.3292\u001b[0m\n",
      "Test Accuracy: \u001b[32m\u001b[1m0.5191\u001b[0m\n",
      "Test F1: \u001b[32m\u001b[1m0.5335\u001b[0m\n"
     ]
    }
   ],
   "source": [
    "X_test = test_df.drop('sii', axis=1)\n",
    "y_test = test_df['sii'].astype(int)\n",
    "y_test_pred = best_model.predict(X_test)\n",
    "y_test_pred = apply_thresholds(y_test_pred, thresholds)\n",
    "test_kappa = quadratic_weighted_kappa(y_test, y_test_pred)\n",
    "test_accuracy = accuracy_score(y_test, y_test_pred)\n",
    "test_f1 = f1_score(y_test, y_test_pred, average='weighted')\n",
    "print(f\"Test QWK: {Fore.GREEN}{Style.BRIGHT}{test_kappa:.4f}{Style.RESET_ALL}\")\n",
    "print(f\"Test Accuracy: {Fore.GREEN}{Style.BRIGHT}{test_accuracy:.4f}{Style.RESET_ALL}\")\n",
    "print(f\"Test F1: {Fore.GREEN}{Style.BRIGHT}{test_f1:.4f}{Style.RESET_ALL}\")"
   ]
  },
  {
   "cell_type": "code",
   "execution_count": 53,
   "id": "9c028dfa",
   "metadata": {
    "execution": {
     "iopub.execute_input": "2024-12-11T00:49:48.139123Z",
     "iopub.status.busy": "2024-12-11T00:49:48.138532Z",
     "iopub.status.idle": "2024-12-11T00:49:48.469427Z",
     "shell.execute_reply": "2024-12-11T00:49:48.468511Z"
    },
    "papermill": {
     "duration": 0.353722,
     "end_time": "2024-12-11T00:49:48.471309",
     "exception": false,
     "start_time": "2024-12-11T00:49:48.117587",
     "status": "completed"
    },
    "tags": []
   },
   "outputs": [
    {
     "data": {
      "image/png": "[encoded data removed]",
      "text/plain": [
       "<Figure size 600x500 with 2 Axes>"
      ]
     },
     "metadata": {},
     "output_type": "display_data"
    }
   ],
   "source": [
    "make_cm(y_test, y_test_pred, \"Voting Regressor - Test\")"
   ]
  },
  {
   "cell_type": "code",
   "execution_count": 54,
   "id": "9b8c1cdd",
   "metadata": {
    "execution": {
     "iopub.execute_input": "2024-12-11T00:49:48.513609Z",
     "iopub.status.busy": "2024-12-11T00:49:48.513007Z",
     "iopub.status.idle": "2024-12-11T00:49:48.835529Z",
     "shell.execute_reply": "2024-12-11T00:49:48.834607Z"
    },
    "papermill": {
     "duration": 0.345086,
     "end_time": "2024-12-11T00:49:48.837238",
     "exception": false,
     "start_time": "2024-12-11T00:49:48.492152",
     "status": "completed"
    },
    "tags": []
   },
   "outputs": [
    {
     "data": {
      "image/png": "[encoded data removed]",
      "text/plain": [
       "<Figure size 600x500 with 2 Axes>"
      ]
     },
     "metadata": {},
     "output_type": "display_data"
    }
   ],
   "source": [
    "X_train = train_df.drop('sii', axis=1)\n",
    "y_train = train_df['sii'].astype(int)\n",
    "y_train_pred = best_model.predict(X_train)\n",
    "y_train_pred = apply_thresholds(y_train_pred, thresholds)\n",
    "make_cm(y_train, y_train_pred, \"Voting Regressor - Train\")"
   ]
  },
  {
   "cell_type": "markdown",
   "id": "9d8b68be",
   "metadata": {
    "papermill": {
     "duration": 0.020613,
     "end_time": "2024-12-11T00:49:48.879312",
     "exception": false,
     "start_time": "2024-12-11T00:49:48.858699",
     "status": "completed"
    },
    "tags": []
   },
   "source": [
    "## Model 2.5 - Stacking Regressor"
   ]
  },
  {
   "cell_type": "code",
   "execution_count": 55,
   "id": "f5624de1",
   "metadata": {
    "execution": {
     "iopub.execute_input": "2024-12-11T00:49:48.922003Z",
     "iopub.status.busy": "2024-12-11T00:49:48.921693Z",
     "iopub.status.idle": "2024-12-11T00:49:48.926225Z",
     "shell.execute_reply": "2024-12-11T00:49:48.925358Z"
    },
    "papermill": {
     "duration": 0.027742,
     "end_time": "2024-12-11T00:49:48.927806",
     "exception": false,
     "start_time": "2024-12-11T00:49:48.900064",
     "status": "completed"
    },
    "tags": []
   },
   "outputs": [],
   "source": [
    "# Create an ensemble using VotingClassifier with soft voting\n",
    "ensemble_model = StackingRegressor(\n",
    "    estimators=[('lgb', lgb_model), \n",
    "                ('xgb', xgb_model), \n",
    "                ('cat', catb_model)\n",
    "                # ('rf', rf) \n",
    "                # ,('svc', svc)\n",
    "                ],\n",
    "    # weights=[4.0, 4.0, 5.0],\n",
    "    n_jobs=-1\n",
    ")"
   ]
  },
  {
   "cell_type": "code",
   "execution_count": 56,
   "id": "af0ec8e7",
   "metadata": {
    "execution": {
     "iopub.execute_input": "2024-12-11T00:49:48.970482Z",
     "iopub.status.busy": "2024-12-11T00:49:48.970235Z",
     "iopub.status.idle": "2024-12-11T00:50:55.239064Z",
     "shell.execute_reply": "2024-12-11T00:50:55.237960Z"
    },
    "papermill": {
     "duration": 66.294193,
     "end_time": "2024-12-11T00:50:55.242795",
     "exception": false,
     "start_time": "2024-12-11T00:49:48.948602",
     "status": "completed"
    },
    "tags": []
   },
   "outputs": [
    {
     "name": "stdout",
     "output_type": "stream",
     "text": [
      "Fitting 3 folds for each of 2 candidates, totalling 6 fits\n",
      "[CV] END .max_depth=6, min_samples_split=5, n_estimators=200; total time=   1.5s\n",
      "[CV] END .max_depth=6, min_samples_split=2, n_estimators=100; total time=   0.8s\n",
      "[CV] END .max_depth=6, min_samples_split=2, n_estimators=100; total time=   0.7s\n",
      "[CV] END .max_depth=6, min_samples_split=5, n_estimators=200; total time=   9.9s\n",
      "[CV] END .max_depth=4, min_samples_split=5, n_estimators=400; total time=  11.6s\n",
      "[CV] END cat__depth=5, cat__iterations=200, lgb__n_estimators=100, lgb__num_leaves=15, xgb__max_depth=5, xgb__n_estimators=300; total time=  21.5s\n",
      "[CV] END cat__depth=5, cat__iterations=200, lgb__n_estimators=100, lgb__num_leaves=15, xgb__max_depth=5, xgb__n_estimators=300; total time= 1.9min\n",
      "[CV] END cat__depth=5, cat__iterations=200, lgb__n_estimators=100, lgb__num_leaves=15, xgb__max_depth=5, xgb__n_estimators=300; total time=   4.7s\n",
      "[CV] END cat__depth=5, cat__iterations=200, lgb__n_estimators=100, lgb__num_leaves=15, xgb__max_depth=5, xgb__n_estimators=300; total time=   6.7s\n",
      "[CV] END cat__depth=4, cat__iterations=200, lgb__n_estimators=100, lgb__num_leaves=10, xgb__max_depth=5, xgb__n_estimators=200; total time=  33.0s\n",
      "Best Parameters: {'xgb__n_estimators': 200, 'xgb__max_depth': 5, 'lgb__num_leaves': 10, 'lgb__n_estimators': 100, 'cat__iterations': 200, 'cat__depth': 4}\n",
      "Best Train QWK: 0.7098\n",
      "Best Train Accuracy: 0.7813\n",
      "Best Train F1: 0.7790\n"
     ]
    }
   ],
   "source": [
    "best_model, thresholds = train_and_evaluate_regressor(ensemble_model, param_dist, n_iter=2)"
   ]
  },
  {
   "cell_type": "code",
   "execution_count": 57,
   "id": "6cae3a95",
   "metadata": {
    "execution": {
     "iopub.execute_input": "2024-12-11T00:50:55.286521Z",
     "iopub.status.busy": "2024-12-11T00:50:55.286210Z",
     "iopub.status.idle": "2024-12-11T00:50:55.321497Z",
     "shell.execute_reply": "2024-12-11T00:50:55.320344Z"
    },
    "papermill": {
     "duration": 0.059524,
     "end_time": "2024-12-11T00:50:55.323331",
     "exception": false,
     "start_time": "2024-12-11T00:50:55.263807",
     "status": "completed"
    },
    "tags": []
   },
   "outputs": [
    {
     "name": "stdout",
     "output_type": "stream",
     "text": [
      "Test QWK: \u001b[32m\u001b[1m0.3454\u001b[0m\n",
      "Test Accuracy: \u001b[32m\u001b[1m0.5221\u001b[0m\n",
      "Test F1: \u001b[32m\u001b[1m0.5389\u001b[0m\n"
     ]
    }
   ],
   "source": [
    "X_test = test_df.drop('sii', axis=1)\n",
    "y_test = test_df['sii'].astype(int)\n",
    "y_test_pred = best_model.predict(X_test)\n",
    "y_test_pred = apply_thresholds(y_test_pred, thresholds)\n",
    "test_kappa = quadratic_weighted_kappa(y_test, y_test_pred)\n",
    "test_accuracy = accuracy_score(y_test, y_test_pred)\n",
    "test_f1 = f1_score(y_test, y_test_pred, average='weighted')\n",
    "print(f\"Test QWK: {Fore.GREEN}{Style.BRIGHT}{test_kappa:.4f}{Style.RESET_ALL}\")\n",
    "print(f\"Test Accuracy: {Fore.GREEN}{Style.BRIGHT}{test_accuracy:.4f}{Style.RESET_ALL}\")\n",
    "print(f\"Test F1: {Fore.GREEN}{Style.BRIGHT}{test_f1:.4f}{Style.RESET_ALL}\")"
   ]
  },
  {
   "cell_type": "markdown",
   "id": "1549f956",
   "metadata": {
    "papermill": {
     "duration": 0.021022,
     "end_time": "2024-12-11T00:50:55.367493",
     "exception": false,
     "start_time": "2024-12-11T00:50:55.346471",
     "status": "completed"
    },
    "tags": []
   },
   "source": [
    "## Model 3 - TabNet"
   ]
  },
  {
   "cell_type": "code",
   "execution_count": 58,
   "id": "bb0fba2d",
   "metadata": {
    "execution": {
     "iopub.execute_input": "2024-12-11T00:50:55.414401Z",
     "iopub.status.busy": "2024-12-11T00:50:55.414047Z",
     "iopub.status.idle": "2024-12-11T00:50:55.431435Z",
     "shell.execute_reply": "2024-12-11T00:50:55.430531Z"
    },
    "papermill": {
     "duration": 0.044546,
     "end_time": "2024-12-11T00:50:55.434055",
     "exception": false,
     "start_time": "2024-12-11T00:50:55.389509",
     "status": "completed"
    },
    "tags": []
   },
   "outputs": [],
   "source": [
    "\n",
    "# Function that instantiates a tabnet model.\n",
    "def create_tabnet(n_d=32, n_steps=5, lr=0.02, gamma=1.5, \n",
    "                  n_independent=2, n_shared=2, lambda_sparse=1e-4, \n",
    "                  momentum=0.3, is_classifier=True):\n",
    "    if is_classifier:\n",
    "        tabnet_model = TabNetClassifier(\n",
    "            n_d=n_d,\n",
    "            n_a=n_d,\n",
    "            n_steps=n_steps,\n",
    "            gamma=gamma,\n",
    "            lambda_sparse=lambda_sparse,\n",
    "            seed=2024,\n",
    "            verbose=1,\n",
    "            device_name='cuda',\n",
    "            optimizer_fn=torch.optim.Adam,\n",
    "            scheduler_params = {\"gamma\": 0.95,\n",
    "                            \"step_size\": 20},\n",
    "            scheduler_fn=torch.optim.lr_scheduler.StepLR, epsilon=1e-15\n",
    "        )\n",
    "    else:\n",
    "        tabnet_model = TabNetRegressor(\n",
    "            n_d=n_d,\n",
    "            n_a=n_d,\n",
    "            n_steps=n_steps,\n",
    "            gamma=gamma,\n",
    "            lambda_sparse=lambda_sparse,\n",
    "            seed=2024,\n",
    "            verbose=1,\n",
    "            device_name='cuda',\n",
    "            optimizer_fn=torch.optim.Adam,\n",
    "            scheduler_params = {\"gamma\": 0.95,\n",
    "                            \"step_size\": 20},\n",
    "            scheduler_fn=torch.optim.lr_scheduler.StepLR, epsilon=1e-15\n",
    "        )\n",
    "    return tabnet_model\n",
    "                  \n",
    "def getBestTabNetModel(is_classifier):\n",
    "    # Generate the parameter grid.\n",
    "    param_grid = dict(n_d = [64],\n",
    "                    n_a = [64],\n",
    "                    n_steps = [3],\n",
    "                    gamma = [1.3],\n",
    "                    lambda_sparse = [1e-2, 1e-3, 1e-4],\n",
    "                    momentum = [0.2],\n",
    "                    n_shared = [2],\n",
    "                    n_independent = [2],\n",
    "    )\n",
    "\n",
    "    grid = ParameterGrid(param_grid)\n",
    "\n",
    "    search_results = pd.DataFrame() \n",
    "    best_score = -np.inf\n",
    "    best_model = None\n",
    "    for params in tqdm(grid, desc=\"Hyperparameter Search\", ncols=100):\n",
    "        X_train, X_val, y_train, y_val = train_test_split(X.values.astype(np.float32), y.values.astype(np.int8), test_size=0.2, stratify=y)\n",
    "        if is_classifier == False:\n",
    "            y_train = y_train.reshape(-1, 1)\n",
    "            y_val = y_val.reshape(-1, 1)\n",
    "            eval_metric = ['rmse']\n",
    "        else:\n",
    "            eval_metric = ['logloss']\n",
    "        tqdm.write(f\"Before training - y_train shape: {str(y_train.shape)}, y_val shape: {str(y_val.shape)}\")\n",
    "        params['n_a'] = params['n_d'] # n_a=n_d always per the paper\n",
    "        tabnet = create_tabnet(is_classifier=is_classifier)\n",
    "        tabnet.set_params(**params)\n",
    "        tabnet.fit(X_train=X_train, y_train=y_train, eval_set=[(X_val, y_val)], eval_name=['validation'], eval_metric=eval_metric, max_epochs=200, patience=20,\n",
    "                batch_size=1024, virtual_batch_size=128)\n",
    "        if is_classifier:\n",
    "            y_pred = np.argmax(tabnet.predict_proba(X_val), axis=1)\n",
    "            score = quadratic_weighted_kappa(y_val, y_pred)  # Convert probabilities to class labels and calculate accuracy\n",
    "        else:\n",
    "            y_pred = tabnet.predict(X_val)\n",
    "            score = np.sqrt(mean_squared_error(y_val.astype(np.float32), y_pred))\n",
    "        if score > best_score:\n",
    "            best_model = tabnet\n",
    "            best_score = score\n",
    "    return best_model"
   ]
  },
  {
   "cell_type": "markdown",
   "id": "2869cda3",
   "metadata": {
    "papermill": {
     "duration": 0.021585,
     "end_time": "2024-12-11T00:50:55.487135",
     "exception": false,
     "start_time": "2024-12-11T00:50:55.465550",
     "status": "completed"
    },
    "tags": []
   },
   "source": [
    "### Classifier"
   ]
  },
  {
   "cell_type": "code",
   "execution_count": 59,
   "id": "4d49d4e5",
   "metadata": {
    "execution": {
     "iopub.execute_input": "2024-12-11T00:50:55.530410Z",
     "iopub.status.busy": "2024-12-11T00:50:55.530092Z",
     "iopub.status.idle": "2024-12-11T00:51:27.014492Z",
     "shell.execute_reply": "2024-12-11T00:51:27.013439Z"
    },
    "papermill": {
     "duration": 31.510906,
     "end_time": "2024-12-11T00:51:27.019204",
     "exception": false,
     "start_time": "2024-12-11T00:50:55.508298",
     "status": "completed"
    },
    "tags": []
   },
   "outputs": [
    {
     "name": "stderr",
     "output_type": "stream",
     "text": [
      "Hyperparameter Search:   0%|                                                  | 0/3 [00:00<?, ?it/s]"
     ]
    },
    {
     "name": "stdout",
     "output_type": "stream",
     "text": [
      "Before training - y_train shape: (3168,), y_val shape: (792,)\n",
      "epoch 0  | loss: 1.52097 | validation_logloss: 6.24402 |  0:00:00s\n",
      "epoch 1  | loss: 1.03592 | validation_logloss: 4.08199 |  0:00:00s\n",
      "epoch 2  | loss: 0.89744 | validation_logloss: 2.17063 |  0:00:00s\n",
      "epoch 3  | loss: 0.89538 | validation_logloss: 2.7993  |  0:00:01s\n",
      "epoch 4  | loss: 0.79217 | validation_logloss: 3.00972 |  0:00:01s\n",
      "epoch 5  | loss: 0.77497 | validation_logloss: 4.26276 |  0:00:01s\n",
      "epoch 6  | loss: 0.74357 | validation_logloss: 3.48745 |  0:00:01s\n",
      "epoch 7  | loss: 0.71596 | validation_logloss: 2.77937 |  0:00:01s\n",
      "epoch 8  | loss: 0.70605 | validation_logloss: 7.35169 |  0:00:01s\n",
      "epoch 9  | loss: 0.6911  | validation_logloss: 4.19602 |  0:00:01s\n",
      "epoch 10 | loss: 0.68144 | validation_logloss: 2.32537 |  0:00:02s\n",
      "epoch 11 | loss: 0.67486 | validation_logloss: 4.06167 |  0:00:02s\n",
      "epoch 12 | loss: 0.66487 | validation_logloss: 3.48551 |  0:00:02s\n",
      "epoch 13 | loss: 0.64111 | validation_logloss: 2.87447 |  0:00:02s\n",
      "epoch 14 | loss: 0.63557 | validation_logloss: 2.55521 |  0:00:02s\n",
      "epoch 15 | loss: 0.63183 | validation_logloss: 2.8204  |  0:00:02s\n",
      "epoch 16 | loss: 0.60171 | validation_logloss: 1.66899 |  0:00:02s\n",
      "epoch 17 | loss: 0.60608 | validation_logloss: 1.67432 |  0:00:03s\n",
      "epoch 18 | loss: 0.59141 | validation_logloss: 1.65162 |  0:00:03s\n",
      "epoch 19 | loss: 0.5807  | validation_logloss: 1.94071 |  0:00:03s\n",
      "epoch 20 | loss: 0.57747 | validation_logloss: 1.78724 |  0:00:03s\n",
      "epoch 21 | loss: 0.56741 | validation_logloss: 2.24904 |  0:00:03s\n",
      "epoch 22 | loss: 0.57047 | validation_logloss: 2.02653 |  0:00:03s\n",
      "epoch 23 | loss: 0.56008 | validation_logloss: 1.47179 |  0:00:03s\n",
      "epoch 24 | loss: 0.55156 | validation_logloss: 1.71875 |  0:00:04s\n",
      "epoch 25 | loss: 0.55207 | validation_logloss: 1.55788 |  0:00:04s\n",
      "epoch 26 | loss: 0.55308 | validation_logloss: 1.61154 |  0:00:04s\n",
      "epoch 27 | loss: 0.55422 | validation_logloss: 1.42227 |  0:00:04s\n",
      "epoch 28 | loss: 0.54185 | validation_logloss: 1.217   |  0:00:04s\n",
      "epoch 29 | loss: 0.54396 | validation_logloss: 1.19444 |  0:00:04s\n",
      "epoch 30 | loss: 0.53482 | validation_logloss: 1.14057 |  0:00:04s\n",
      "epoch 31 | loss: 0.5284  | validation_logloss: 1.37342 |  0:00:05s\n",
      "epoch 32 | loss: 0.52428 | validation_logloss: 1.26122 |  0:00:05s\n",
      "epoch 33 | loss: 0.5058  | validation_logloss: 1.19781 |  0:00:05s\n",
      "epoch 34 | loss: 0.5025  | validation_logloss: 1.35488 |  0:00:05s\n",
      "epoch 35 | loss: 0.48921 | validation_logloss: 1.22764 |  0:00:05s\n",
      "epoch 36 | loss: 0.47727 | validation_logloss: 1.14598 |  0:00:05s\n",
      "epoch 37 | loss: 0.49318 | validation_logloss: 1.11419 |  0:00:06s\n",
      "epoch 38 | loss: 0.48621 | validation_logloss: 1.0201  |  0:00:06s\n",
      "epoch 39 | loss: 0.48214 | validation_logloss: 1.01695 |  0:00:06s\n",
      "epoch 40 | loss: 0.48007 | validation_logloss: 1.05285 |  0:00:06s\n",
      "epoch 41 | loss: 0.48144 | validation_logloss: 1.06241 |  0:00:06s\n",
      "epoch 42 | loss: 0.46919 | validation_logloss: 1.02648 |  0:00:07s\n",
      "epoch 43 | loss: 0.45952 | validation_logloss: 1.13622 |  0:00:07s\n",
      "epoch 44 | loss: 0.44575 | validation_logloss: 1.08017 |  0:00:07s\n",
      "epoch 45 | loss: 0.44955 | validation_logloss: 1.09373 |  0:00:07s\n",
      "epoch 46 | loss: 0.43981 | validation_logloss: 1.10808 |  0:00:07s\n",
      "epoch 47 | loss: 0.43285 | validation_logloss: 1.12061 |  0:00:08s\n",
      "epoch 48 | loss: 0.4248  | validation_logloss: 1.14906 |  0:00:08s\n",
      "epoch 49 | loss: 0.43301 | validation_logloss: 1.17108 |  0:00:08s\n",
      "epoch 50 | loss: 0.4253  | validation_logloss: 1.09377 |  0:00:08s\n",
      "epoch 51 | loss: 0.42115 | validation_logloss: 1.04043 |  0:00:08s\n",
      "epoch 52 | loss: 0.41393 | validation_logloss: 1.03389 |  0:00:09s\n",
      "epoch 53 | loss: 0.40524 | validation_logloss: 1.01108 |  0:00:09s\n",
      "epoch 54 | loss: 0.39982 | validation_logloss: 1.02203 |  0:00:09s\n",
      "epoch 55 | loss: 0.37987 | validation_logloss: 1.06042 |  0:00:09s\n",
      "epoch 56 | loss: 0.37385 | validation_logloss: 1.09217 |  0:00:09s\n",
      "epoch 57 | loss: 0.37381 | validation_logloss: 1.07891 |  0:00:10s\n",
      "epoch 58 | loss: 0.36397 | validation_logloss: 1.06805 |  0:00:10s\n",
      "epoch 59 | loss: 0.34845 | validation_logloss: 1.06048 |  0:00:10s\n",
      "epoch 60 | loss: 0.35516 | validation_logloss: 1.0794  |  0:00:10s\n",
      "epoch 61 | loss: 0.3472  | validation_logloss: 1.14498 |  0:00:10s\n",
      "epoch 62 | loss: 0.36665 | validation_logloss: 1.18066 |  0:00:10s\n",
      "epoch 63 | loss: 0.34481 | validation_logloss: 1.0681  |  0:00:11s\n",
      "epoch 64 | loss: 0.35682 | validation_logloss: 1.03821 |  0:00:11s\n",
      "epoch 65 | loss: 0.34816 | validation_logloss: 1.01448 |  0:00:11s\n",
      "epoch 66 | loss: 0.34376 | validation_logloss: 1.01709 |  0:00:11s\n",
      "epoch 67 | loss: 0.34028 | validation_logloss: 1.03485 |  0:00:11s\n",
      "epoch 68 | loss: 0.33254 | validation_logloss: 1.01356 |  0:00:12s\n",
      "epoch 69 | loss: 0.31527 | validation_logloss: 1.01383 |  0:00:12s\n",
      "epoch 70 | loss: 0.3135  | validation_logloss: 0.93117 |  0:00:12s\n",
      "epoch 71 | loss: 0.32422 | validation_logloss: 0.99795 |  0:00:12s\n",
      "epoch 72 | loss: 0.30474 | validation_logloss: 0.98073 |  0:00:12s\n",
      "epoch 73 | loss: 0.30076 | validation_logloss: 0.94819 |  0:00:13s\n",
      "epoch 74 | loss: 0.29399 | validation_logloss: 0.95991 |  0:00:13s\n",
      "epoch 75 | loss: 0.28252 | validation_logloss: 0.95666 |  0:00:13s\n",
      "epoch 76 | loss: 0.29277 | validation_logloss: 0.99492 |  0:00:13s\n",
      "epoch 77 | loss: 0.27679 | validation_logloss: 1.03649 |  0:00:13s\n",
      "epoch 78 | loss: 0.26983 | validation_logloss: 1.01807 |  0:00:14s\n",
      "epoch 79 | loss: 0.26834 | validation_logloss: 1.03589 |  0:00:14s\n",
      "epoch 80 | loss: 0.26513 | validation_logloss: 1.03628 |  0:00:14s\n",
      "epoch 81 | loss: 0.2507  | validation_logloss: 1.01727 |  0:00:14s\n",
      "epoch 82 | loss: 0.24098 | validation_logloss: 1.08543 |  0:00:14s\n",
      "epoch 83 | loss: 0.24198 | validation_logloss: 1.10764 |  0:00:14s\n",
      "epoch 84 | loss: 0.23283 | validation_logloss: 1.10226 |  0:00:14s\n",
      "epoch 85 | loss: 0.23055 | validation_logloss: 1.13565 |  0:00:15s\n",
      "epoch 86 | loss: 0.21824 | validation_logloss: 1.15768 |  0:00:15s\n",
      "epoch 87 | loss: 0.22072 | validation_logloss: 1.22786 |  0:00:15s\n",
      "epoch 88 | loss: 0.23612 | validation_logloss: 1.23386 |  0:00:15s\n",
      "epoch 89 | loss: 0.23498 | validation_logloss: 1.18628 |  0:00:15s\n",
      "epoch 90 | loss: 0.20683 | validation_logloss: 1.21328 |  0:00:15s\n",
      "\n",
      "Early stopping occurred at epoch 90 with best_epoch = 70 and best_validation_logloss = 0.93117\n"
     ]
    },
    {
     "name": "stderr",
     "output_type": "stream",
     "text": [
      "Hyperparameter Search:  33%|██████████████                            | 1/3 [00:15<00:31, 15.94s/it]"
     ]
    },
    {
     "name": "stdout",
     "output_type": "stream",
     "text": [
      "Before training - y_train shape: (3168,), y_val shape: (792,)\n",
      "epoch 0  | loss: 1.51249 | validation_logloss: 8.71248 |  0:00:00s\n",
      "epoch 1  | loss: 1.02732 | validation_logloss: 3.65046 |  0:00:00s\n",
      "epoch 2  | loss: 0.95455 | validation_logloss: 3.49633 |  0:00:00s\n",
      "epoch 3  | loss: 0.84383 | validation_logloss: 5.08956 |  0:00:00s\n",
      "epoch 4  | loss: 0.7932  | validation_logloss: 3.42987 |  0:00:00s\n",
      "epoch 5  | loss: 0.75513 | validation_logloss: 2.66579 |  0:00:00s\n",
      "epoch 6  | loss: 0.7133  | validation_logloss: 2.42403 |  0:00:00s\n",
      "epoch 7  | loss: 0.68957 | validation_logloss: 2.1367  |  0:00:01s\n",
      "epoch 8  | loss: 0.68022 | validation_logloss: 2.07505 |  0:00:01s\n",
      "epoch 9  | loss: 0.65987 | validation_logloss: 1.65289 |  0:00:01s\n",
      "epoch 10 | loss: 0.65509 | validation_logloss: 1.829   |  0:00:01s\n",
      "epoch 11 | loss: 0.6337  | validation_logloss: 2.02141 |  0:00:01s\n",
      "epoch 12 | loss: 0.6196  | validation_logloss: 1.68369 |  0:00:01s\n",
      "epoch 13 | loss: 0.61425 | validation_logloss: 1.63002 |  0:00:01s\n",
      "epoch 14 | loss: 0.60642 | validation_logloss: 1.47598 |  0:00:02s\n",
      "epoch 15 | loss: 0.60527 | validation_logloss: 1.36363 |  0:00:02s\n",
      "epoch 16 | loss: 0.59695 | validation_logloss: 1.30634 |  0:00:02s\n",
      "epoch 17 | loss: 0.59247 | validation_logloss: 1.29725 |  0:00:02s\n",
      "epoch 18 | loss: 0.56934 | validation_logloss: 1.30198 |  0:00:02s\n",
      "epoch 19 | loss: 0.57018 | validation_logloss: 1.34219 |  0:00:02s\n",
      "epoch 20 | loss: 0.56969 | validation_logloss: 1.68973 |  0:00:02s\n",
      "epoch 21 | loss: 0.57432 | validation_logloss: 1.53858 |  0:00:03s\n",
      "epoch 22 | loss: 0.563   | validation_logloss: 1.54075 |  0:00:03s\n",
      "epoch 23 | loss: 0.54463 | validation_logloss: 1.31495 |  0:00:03s\n",
      "epoch 24 | loss: 0.53566 | validation_logloss: 1.16665 |  0:00:03s\n",
      "epoch 25 | loss: 0.5266  | validation_logloss: 1.17492 |  0:00:03s\n",
      "epoch 26 | loss: 0.52412 | validation_logloss: 1.23259 |  0:00:03s\n",
      "epoch 27 | loss: 0.5253  | validation_logloss: 1.38974 |  0:00:03s\n",
      "epoch 28 | loss: 0.51221 | validation_logloss: 1.22583 |  0:00:04s\n",
      "epoch 29 | loss: 0.50887 | validation_logloss: 1.29292 |  0:00:04s\n",
      "epoch 30 | loss: 0.50626 | validation_logloss: 1.28589 |  0:00:04s\n",
      "epoch 31 | loss: 0.49962 | validation_logloss: 1.32675 |  0:00:04s\n",
      "epoch 32 | loss: 0.4823  | validation_logloss: 1.34421 |  0:00:04s\n",
      "epoch 33 | loss: 0.47373 | validation_logloss: 1.18717 |  0:00:04s\n",
      "epoch 34 | loss: 0.46942 | validation_logloss: 1.18904 |  0:00:04s\n",
      "epoch 35 | loss: 0.4623  | validation_logloss: 1.23387 |  0:00:05s\n",
      "epoch 36 | loss: 0.462   | validation_logloss: 1.26806 |  0:00:05s\n",
      "epoch 37 | loss: 0.44375 | validation_logloss: 1.16566 |  0:00:05s\n",
      "epoch 38 | loss: 0.45161 | validation_logloss: 1.18407 |  0:00:05s\n",
      "epoch 39 | loss: 0.43324 | validation_logloss: 1.18632 |  0:00:05s\n",
      "epoch 40 | loss: 0.42904 | validation_logloss: 1.1761  |  0:00:05s\n",
      "epoch 41 | loss: 0.41796 | validation_logloss: 1.21468 |  0:00:05s\n",
      "epoch 42 | loss: 0.41049 | validation_logloss: 1.14402 |  0:00:06s\n",
      "epoch 43 | loss: 0.3951  | validation_logloss: 1.18156 |  0:00:06s\n",
      "epoch 44 | loss: 0.39677 | validation_logloss: 1.14984 |  0:00:06s\n",
      "epoch 45 | loss: 0.38987 | validation_logloss: 1.13665 |  0:00:06s\n",
      "epoch 46 | loss: 0.38689 | validation_logloss: 1.13085 |  0:00:07s\n",
      "epoch 47 | loss: 0.37428 | validation_logloss: 1.00912 |  0:00:07s\n",
      "epoch 48 | loss: 0.38937 | validation_logloss: 1.02526 |  0:00:07s\n",
      "epoch 49 | loss: 0.36378 | validation_logloss: 1.11974 |  0:00:07s\n",
      "epoch 50 | loss: 0.36516 | validation_logloss: 1.1396  |  0:00:07s\n",
      "epoch 51 | loss: 0.35113 | validation_logloss: 1.06319 |  0:00:07s\n",
      "epoch 52 | loss: 0.34745 | validation_logloss: 1.06891 |  0:00:08s\n",
      "epoch 53 | loss: 0.34029 | validation_logloss: 1.04098 |  0:00:08s\n",
      "epoch 54 | loss: 0.32583 | validation_logloss: 0.99897 |  0:00:08s\n",
      "epoch 55 | loss: 0.33373 | validation_logloss: 1.0646  |  0:00:08s\n",
      "epoch 56 | loss: 0.3194  | validation_logloss: 1.01356 |  0:00:08s\n",
      "epoch 57 | loss: 0.30183 | validation_logloss: 1.04381 |  0:00:08s\n",
      "epoch 58 | loss: 0.29288 | validation_logloss: 1.07886 |  0:00:08s\n",
      "epoch 59 | loss: 0.28905 | validation_logloss: 1.05947 |  0:00:09s\n",
      "epoch 60 | loss: 0.28703 | validation_logloss: 1.08698 |  0:00:09s\n",
      "epoch 61 | loss: 0.29244 | validation_logloss: 1.04728 |  0:00:09s\n",
      "epoch 62 | loss: 0.28568 | validation_logloss: 1.05282 |  0:00:09s\n",
      "epoch 63 | loss: 0.28047 | validation_logloss: 1.07793 |  0:00:09s\n",
      "epoch 64 | loss: 0.28146 | validation_logloss: 1.14001 |  0:00:10s\n",
      "epoch 65 | loss: 0.27282 | validation_logloss: 1.13453 |  0:00:10s\n",
      "epoch 66 | loss: 0.28411 | validation_logloss: 1.08741 |  0:00:10s\n",
      "epoch 67 | loss: 0.27492 | validation_logloss: 1.06792 |  0:00:10s\n",
      "epoch 68 | loss: 0.26177 | validation_logloss: 1.0644  |  0:00:10s\n",
      "epoch 69 | loss: 0.27115 | validation_logloss: 1.08713 |  0:00:10s\n",
      "epoch 70 | loss: 0.26401 | validation_logloss: 1.08148 |  0:00:10s\n",
      "epoch 71 | loss: 0.25041 | validation_logloss: 1.10825 |  0:00:10s\n",
      "epoch 72 | loss: 0.23345 | validation_logloss: 1.08156 |  0:00:11s\n",
      "epoch 73 | loss: 0.25333 | validation_logloss: 1.14935 |  0:00:11s\n",
      "epoch 74 | loss: 0.25104 | validation_logloss: 1.16666 |  0:00:11s\n",
      "\n",
      "Early stopping occurred at epoch 74 with best_epoch = 54 and best_validation_logloss = 0.99897\n"
     ]
    },
    {
     "name": "stderr",
     "output_type": "stream",
     "text": [
      "Hyperparameter Search:  67%|████████████████████████████              | 2/3 [00:27<00:13, 13.34s/it]"
     ]
    },
    {
     "name": "stdout",
     "output_type": "stream",
     "text": [
      "Before training - y_train shape: (3168,), y_val shape: (792,)\n",
      "epoch 0  | loss: 1.52241 | validation_logloss: 7.60384 |  0:00:00s\n",
      "epoch 1  | loss: 1.03847 | validation_logloss: 2.21003 |  0:00:00s\n",
      "epoch 2  | loss: 0.9039  | validation_logloss: 3.62123 |  0:00:00s\n",
      "epoch 3  | loss: 0.83174 | validation_logloss: 5.28705 |  0:00:00s\n",
      "epoch 4  | loss: 0.80001 | validation_logloss: 3.37835 |  0:00:00s\n",
      "epoch 5  | loss: 0.76065 | validation_logloss: 4.34097 |  0:00:00s\n",
      "epoch 6  | loss: 0.72126 | validation_logloss: 3.44033 |  0:00:00s\n",
      "epoch 7  | loss: 0.71285 | validation_logloss: 1.35778 |  0:00:01s\n",
      "epoch 8  | loss: 0.69205 | validation_logloss: 1.37743 |  0:00:01s\n",
      "epoch 9  | loss: 0.66364 | validation_logloss: 1.56861 |  0:00:01s\n",
      "epoch 10 | loss: 0.66102 | validation_logloss: 1.78694 |  0:00:01s\n",
      "epoch 11 | loss: 0.6389  | validation_logloss: 1.98642 |  0:00:01s\n",
      "epoch 12 | loss: 0.60911 | validation_logloss: 2.70633 |  0:00:01s\n",
      "epoch 13 | loss: 0.61169 | validation_logloss: 2.15398 |  0:00:01s\n",
      "epoch 14 | loss: 0.6009  | validation_logloss: 1.52666 |  0:00:02s\n",
      "epoch 15 | loss: 0.5912  | validation_logloss: 2.20891 |  0:00:02s\n",
      "epoch 16 | loss: 0.59416 | validation_logloss: 2.55747 |  0:00:02s\n",
      "epoch 17 | loss: 0.57479 | validation_logloss: 2.57372 |  0:00:02s\n",
      "epoch 18 | loss: 0.5713  | validation_logloss: 2.10636 |  0:00:02s\n",
      "epoch 19 | loss: 0.56471 | validation_logloss: 1.74168 |  0:00:02s\n",
      "epoch 20 | loss: 0.55679 | validation_logloss: 1.77647 |  0:00:02s\n",
      "epoch 21 | loss: 0.549   | validation_logloss: 2.14195 |  0:00:03s\n",
      "epoch 22 | loss: 0.55425 | validation_logloss: 1.81388 |  0:00:03s\n",
      "epoch 23 | loss: 0.53012 | validation_logloss: 1.61804 |  0:00:03s\n",
      "epoch 24 | loss: 0.53075 | validation_logloss: 1.57068 |  0:00:03s\n",
      "epoch 25 | loss: 0.52959 | validation_logloss: 1.52132 |  0:00:03s\n",
      "epoch 26 | loss: 0.53059 | validation_logloss: 1.72191 |  0:00:03s\n"
     ]
    },
    {
     "name": "stderr",
     "output_type": "stream",
     "text": [
      "Hyperparameter Search: 100%|██████████████████████████████████████████| 3/3 [00:31<00:00, 10.49s/it]"
     ]
    },
    {
     "name": "stdout",
     "output_type": "stream",
     "text": [
      "epoch 27 | loss: 0.51612 | validation_logloss: 1.69033 |  0:00:03s\n",
      "\n",
      "Early stopping occurred at epoch 27 with best_epoch = 7 and best_validation_logloss = 1.35778\n"
     ]
    },
    {
     "name": "stderr",
     "output_type": "stream",
     "text": [
      "\n"
     ]
    }
   ],
   "source": [
    "best_model = getBestTabNetModel(is_classifier=True)"
   ]
  },
  {
   "cell_type": "code",
   "execution_count": 60,
   "id": "1b401df8",
   "metadata": {
    "execution": {
     "iopub.execute_input": "2024-12-11T00:51:27.084515Z",
     "iopub.status.busy": "2024-12-11T00:51:27.084135Z",
     "iopub.status.idle": "2024-12-11T00:51:27.192397Z",
     "shell.execute_reply": "2024-12-11T00:51:27.190746Z"
    },
    "papermill": {
     "duration": 0.142189,
     "end_time": "2024-12-11T00:51:27.194748",
     "exception": false,
     "start_time": "2024-12-11T00:51:27.052559",
     "status": "completed"
    },
    "tags": []
   },
   "outputs": [
    {
     "name": "stdout",
     "output_type": "stream",
     "text": [
      "Best Train QWK: 0.5198\n",
      "Best Train Accuracy: 0.7409\n",
      "Best Train F1: 0.7325\n"
     ]
    }
   ],
   "source": [
    "train_X = X.values.astype(np.float32)\n",
    "train_pred = np.argmax(best_model.predict_proba(train_X), axis=1)\n",
    "\n",
    "train_kappa = quadratic_weighted_kappa(y, train_pred)\n",
    "train_accuracy = accuracy_score(y, train_pred)\n",
    "train_f1 = f1_score(y, train_pred, average='weighted')\n",
    "\n",
    "print(f\"Best Train QWK: {train_kappa:.4f}\")\n",
    "print(f\"Best Train Accuracy: {train_accuracy:.4f}\")\n",
    "print(f\"Best Train F1: {train_f1:.4f}\")"
   ]
  },
  {
   "cell_type": "code",
   "execution_count": 61,
   "id": "e5d65405",
   "metadata": {
    "execution": {
     "iopub.execute_input": "2024-12-11T00:51:27.262398Z",
     "iopub.status.busy": "2024-12-11T00:51:27.261431Z",
     "iopub.status.idle": "2024-12-11T00:51:27.304259Z",
     "shell.execute_reply": "2024-12-11T00:51:27.302853Z"
    },
    "papermill": {
     "duration": 0.077089,
     "end_time": "2024-12-11T00:51:27.306173",
     "exception": false,
     "start_time": "2024-12-11T00:51:27.229084",
     "status": "completed"
    },
    "tags": []
   },
   "outputs": [
    {
     "name": "stdout",
     "output_type": "stream",
     "text": [
      "Best Test QWK: 0.0841\n",
      "Best Train Accuracy: 0.4648\n",
      "Best Train F1: 0.4762\n"
     ]
    }
   ],
   "source": [
    "X_test = test_df.drop('sii', axis=1)\n",
    "y_test = test_df['sii'].astype(int)\n",
    "test_X = X_test.values.astype(np.float32)\n",
    "y_test_pred = np.argmax(best_model.predict_proba(test_X), axis=1)\n",
    "test_kappa = quadratic_weighted_kappa(y_test, y_test_pred)\n",
    "test_accuracy = accuracy_score(y_test, y_test_pred)\n",
    "test_f1 = f1_score(y_test, y_test_pred, average='weighted')\n",
    "\n",
    "print(f\"Best Test QWK: {test_kappa:.4f}\")\n",
    "print(f\"Best Train Accuracy: {test_accuracy:.4f}\")\n",
    "print(f\"Best Train F1: {test_f1:.4f}\")\n"
   ]
  },
  {
   "cell_type": "code",
   "execution_count": 62,
   "id": "8a932882",
   "metadata": {
    "execution": {
     "iopub.execute_input": "2024-12-11T00:51:27.364602Z",
     "iopub.status.busy": "2024-12-11T00:51:27.364235Z",
     "iopub.status.idle": "2024-12-11T00:51:27.371466Z",
     "shell.execute_reply": "2024-12-11T00:51:27.370611Z"
    },
    "papermill": {
     "duration": 0.04033,
     "end_time": "2024-12-11T00:51:27.374269",
     "exception": false,
     "start_time": "2024-12-11T00:51:27.333939",
     "status": "completed"
    },
    "tags": []
   },
   "outputs": [
    {
     "data": {
      "text/html": [
       "<style>#sk-container-id-1 {color: black;background-color: white;}#sk-container-id-1 pre{padding: 0;}#sk-container-id-1 div.sk-toggleable {background-color: white;}#sk-container-id-1 label.sk-toggleable__label {cursor: pointer;display: block;width: 100%;margin-bottom: 0;padding: 0.3em;box-sizing: border-box;text-align: center;}#sk-container-id-1 label.sk-toggleable__label-arrow:before {content: \"▸\";float: left;margin-right: 0.25em;color: #696969;}#sk-container-id-1 label.sk-toggleable__label-arrow:hover:before {color: black;}#sk-container-id-1 div.sk-estimator:hover label.sk-toggleable__label-arrow:before {color: black;}#sk-container-id-1 div.sk-toggleable__content {max-height: 0;max-width: 0;overflow: hidden;text-align: left;background-color: #f0f8ff;}#sk-container-id-1 div.sk-toggleable__content pre {margin: 0.2em;color: black;border-radius: 0.25em;background-color: #f0f8ff;}#sk-container-id-1 input.sk-toggleable__control:checked~div.sk-toggleable__content {max-height: 200px;max-width: 100%;overflow: auto;}#sk-container-id-1 input.sk-toggleable__control:checked~label.sk-toggleable__label-arrow:before {content: \"▾\";}#sk-container-id-1 div.sk-estimator input.sk-toggleable__control:checked~label.sk-toggleable__label {background-color: #d4ebff;}#sk-container-id-1 div.sk-label input.sk-toggleable__control:checked~label.sk-toggleable__label {background-color: #d4ebff;}#sk-container-id-1 input.sk-hidden--visually {border: 0;clip: rect(1px 1px 1px 1px);clip: rect(1px, 1px, 1px, 1px);height: 1px;margin: -1px;overflow: hidden;padding: 0;position: absolute;width: 1px;}#sk-container-id-1 div.sk-estimator {font-family: monospace;background-color: #f0f8ff;border: 1px dotted black;border-radius: 0.25em;box-sizing: border-box;margin-bottom: 0.5em;}#sk-container-id-1 div.sk-estimator:hover {background-color: #d4ebff;}#sk-container-id-1 div.sk-parallel-item::after {content: \"\";width: 100%;border-bottom: 1px solid gray;flex-grow: 1;}#sk-container-id-1 div.sk-label:hover label.sk-toggleable__label {background-color: #d4ebff;}#sk-container-id-1 div.sk-serial::before {content: \"\";position: absolute;border-left: 1px solid gray;box-sizing: border-box;top: 0;bottom: 0;left: 50%;z-index: 0;}#sk-container-id-1 div.sk-serial {display: flex;flex-direction: column;align-items: center;background-color: white;padding-right: 0.2em;padding-left: 0.2em;position: relative;}#sk-container-id-1 div.sk-item {position: relative;z-index: 1;}#sk-container-id-1 div.sk-parallel {display: flex;align-items: stretch;justify-content: center;background-color: white;position: relative;}#sk-container-id-1 div.sk-item::before, #sk-container-id-1 div.sk-parallel-item::before {content: \"\";position: absolute;border-left: 1px solid gray;box-sizing: border-box;top: 0;bottom: 0;left: 50%;z-index: -1;}#sk-container-id-1 div.sk-parallel-item {display: flex;flex-direction: column;z-index: 1;position: relative;background-color: white;}#sk-container-id-1 div.sk-parallel-item:first-child::after {align-self: flex-end;width: 50%;}#sk-container-id-1 div.sk-parallel-item:last-child::after {align-self: flex-start;width: 50%;}#sk-container-id-1 div.sk-parallel-item:only-child::after {width: 0;}#sk-container-id-1 div.sk-dashed-wrapped {border: 1px dashed gray;margin: 0 0.4em 0.5em 0.4em;box-sizing: border-box;padding-bottom: 0.4em;background-color: white;}#sk-container-id-1 div.sk-label label {font-family: monospace;font-weight: bold;display: inline-block;line-height: 1.2em;}#sk-container-id-1 div.sk-label-container {text-align: center;}#sk-container-id-1 div.sk-container {/* jupyter's `normalize.less` sets `[hidden] { display: none; }` but bootstrap.min.css set `[hidden] { display: none !important; }` so we also need the `!important` here to be able to override the default hidden behavior on the sphinx rendered scikit-learn.org. See: https://github.com/scikit-learn/scikit-learn/issues/21755 */display: inline-block !important;position: relative;}#sk-container-id-1 div.sk-text-repr-fallback {display: none;}</style><div id=\"sk-container-id-1\" class=\"sk-top-container\"><div class=\"sk-text-repr-fallback\"><pre>TabNetClassifier(n_d=64, n_a=64, n_steps=3, gamma=1.3, cat_idxs=[], cat_dims=[], cat_emb_dim=[], n_independent=2, n_shared=2, epsilon=1e-15, momentum=0.2, lambda_sparse=0.01, seed=2024, clip_value=1, verbose=1, optimizer_fn=&lt;class &#x27;torch.optim.adam.Adam&#x27;&gt;, optimizer_params={&#x27;lr&#x27;: 0.02}, scheduler_fn=&lt;class &#x27;torch.optim.lr_scheduler.StepLR&#x27;&gt;, scheduler_params={&#x27;gamma&#x27;: 0.95, &#x27;step_size&#x27;: 20}, mask_type=&#x27;sparsemax&#x27;, input_dim=103, output_dim=4, device_name=&#x27;cuda&#x27;, n_shared_decoder=1, n_indep_decoder=1, grouped_features=[])</pre><b>In a Jupyter environment, please rerun this cell to show the HTML representation or trust the notebook. <br />On GitHub, the HTML representation is unable to render, please try loading this page with nbviewer.org.</b></div><div class=\"sk-container\" hidden><div class=\"sk-item\"><div class=\"sk-estimator sk-toggleable\"><input class=\"sk-toggleable__control sk-hidden--visually\" id=\"sk-estimator-id-1\" type=\"checkbox\" checked><label for=\"sk-estimator-id-1\" class=\"sk-toggleable__label sk-toggleable__label-arrow\">TabNetClassifier</label><div class=\"sk-toggleable__content\"><pre>TabNetClassifier(n_d=64, n_a=64, n_steps=3, gamma=1.3, cat_idxs=[], cat_dims=[], cat_emb_dim=[], n_independent=2, n_shared=2, epsilon=1e-15, momentum=0.2, lambda_sparse=0.01, seed=2024, clip_value=1, verbose=1, optimizer_fn=&lt;class &#x27;torch.optim.adam.Adam&#x27;&gt;, optimizer_params={&#x27;lr&#x27;: 0.02}, scheduler_fn=&lt;class &#x27;torch.optim.lr_scheduler.StepLR&#x27;&gt;, scheduler_params={&#x27;gamma&#x27;: 0.95, &#x27;step_size&#x27;: 20}, mask_type=&#x27;sparsemax&#x27;, input_dim=103, output_dim=4, device_name=&#x27;cuda&#x27;, n_shared_decoder=1, n_indep_decoder=1, grouped_features=[])</pre></div></div></div></div></div>"
      ],
      "text/plain": [
       "TabNetClassifier(n_d=64, n_a=64, n_steps=3, gamma=1.3, cat_idxs=[], cat_dims=[], cat_emb_dim=[], n_independent=2, n_shared=2, epsilon=1e-15, momentum=0.2, lambda_sparse=0.01, seed=2024, clip_value=1, verbose=1, optimizer_fn=<class 'torch.optim.adam.Adam'>, optimizer_params={'lr': 0.02}, scheduler_fn=<class 'torch.optim.lr_scheduler.StepLR'>, scheduler_params={'gamma': 0.95, 'step_size': 20}, mask_type='sparsemax', input_dim=103, output_dim=4, device_name='cuda', n_shared_decoder=1, n_indep_decoder=1, grouped_features=[])"
      ]
     },
     "execution_count": 62,
     "metadata": {},
     "output_type": "execute_result"
    }
   ],
   "source": [
    "best_model"
   ]
  },
  {
   "cell_type": "markdown",
   "id": "4f4fd683",
   "metadata": {
    "papermill": {
     "duration": 0.026498,
     "end_time": "2024-12-11T00:51:27.436458",
     "exception": false,
     "start_time": "2024-12-11T00:51:27.409960",
     "status": "completed"
    },
    "tags": []
   },
   "source": [
    "### Regressor"
   ]
  },
  {
   "cell_type": "code",
   "execution_count": 63,
   "id": "75939e90",
   "metadata": {
    "execution": {
     "iopub.execute_input": "2024-12-11T00:51:27.492262Z",
     "iopub.status.busy": "2024-12-11T00:51:27.491575Z",
     "iopub.status.idle": "2024-12-11T00:51:27.497495Z",
     "shell.execute_reply": "2024-12-11T00:51:27.496722Z"
    },
    "papermill": {
     "duration": 0.036179,
     "end_time": "2024-12-11T00:51:27.499161",
     "exception": false,
     "start_time": "2024-12-11T00:51:27.462982",
     "status": "completed"
    },
    "tags": []
   },
   "outputs": [
    {
     "data": {
      "text/plain": [
       "(3960, 1)"
      ]
     },
     "execution_count": 63,
     "metadata": {},
     "output_type": "execute_result"
    }
   ],
   "source": [
    "y.values.astype(np.int8).reshape(-1, 1).shape"
   ]
  },
  {
   "cell_type": "code",
   "execution_count": 64,
   "id": "121f98f8",
   "metadata": {
    "execution": {
     "iopub.execute_input": "2024-12-11T00:51:27.561898Z",
     "iopub.status.busy": "2024-12-11T00:51:27.561149Z",
     "iopub.status.idle": "2024-12-11T00:51:52.979145Z",
     "shell.execute_reply": "2024-12-11T00:51:52.977641Z"
    },
    "papermill": {
     "duration": 25.450686,
     "end_time": "2024-12-11T00:51:52.980919",
     "exception": false,
     "start_time": "2024-12-11T00:51:27.530233",
     "status": "completed"
    },
    "tags": []
   },
   "outputs": [
    {
     "name": "stderr",
     "output_type": "stream",
     "text": [
      "Hyperparameter Search:   0%|                                                  | 0/3 [00:00<?, ?it/s]"
     ]
    },
    {
     "name": "stdout",
     "output_type": "stream",
     "text": [
      "Before training - y_train shape: (3168, 1), y_val shape: (792, 1)\n",
      "epoch 0  | loss: 4.46933 | validation_rmse: 27.56464958190918|  0:00:00s\n",
      "epoch 1  | loss: 1.61257 | validation_rmse: 27.22150993347168|  0:00:00s\n",
      "epoch 2  | loss: 1.00435 | validation_rmse: 12.296310424804688|  0:00:00s\n",
      "epoch 3  | loss: 0.83153 | validation_rmse: 4.299849987030029|  0:00:00s\n",
      "epoch 4  | loss: 0.61276 | validation_rmse: 6.445459842681885|  0:00:00s\n",
      "epoch 5  | loss: 0.5551  | validation_rmse: 4.436669826507568|  0:00:01s\n",
      "epoch 6  | loss: 0.50638 | validation_rmse: 6.835790157318115|  0:00:01s\n",
      "epoch 7  | loss: 0.50093 | validation_rmse: 3.029550075531006|  0:00:01s\n",
      "epoch 8  | loss: 0.48379 | validation_rmse: 1.3972599506378174|  0:00:01s\n",
      "epoch 9  | loss: 0.41659 | validation_rmse: 1.3805899620056152|  0:00:01s\n",
      "epoch 10 | loss: 0.37433 | validation_rmse: 1.1987899541854858|  0:00:01s\n",
      "epoch 11 | loss: 0.37103 | validation_rmse: 1.1002700328826904|  0:00:01s\n",
      "epoch 12 | loss: 0.35922 | validation_rmse: 1.0131100416183472|  0:00:02s\n",
      "epoch 13 | loss: 0.3353  | validation_rmse: 1.0007799863815308|  0:00:02s\n",
      "epoch 14 | loss: 0.33634 | validation_rmse: 1.2158900499343872|  0:00:02s\n",
      "epoch 15 | loss: 0.32558 | validation_rmse: 0.9668899774551392|  0:00:02s\n",
      "epoch 16 | loss: 0.31721 | validation_rmse: 1.113010048866272|  0:00:02s\n",
      "epoch 17 | loss: 0.30804 | validation_rmse: 1.104740023612976|  0:00:02s\n",
      "epoch 18 | loss: 0.31069 | validation_rmse: 0.7781699895858765|  0:00:03s\n",
      "epoch 19 | loss: 0.30085 | validation_rmse: 0.7886499762535095|  0:00:03s\n",
      "epoch 20 | loss: 0.29874 | validation_rmse: 0.9332000017166138|  0:00:03s\n",
      "epoch 21 | loss: 0.29423 | validation_rmse: 0.7883399724960327|  0:00:03s\n",
      "epoch 22 | loss: 0.28482 | validation_rmse: 0.8944100141525269|  0:00:03s\n",
      "epoch 23 | loss: 0.28011 | validation_rmse: 0.7978799939155579|  0:00:03s\n",
      "epoch 24 | loss: 0.28726 | validation_rmse: 0.9076300263404846|  0:00:03s\n",
      "epoch 25 | loss: 0.28116 | validation_rmse: 0.8681399822235107|  0:00:04s\n",
      "epoch 26 | loss: 0.27959 | validation_rmse: 0.9536200165748596|  0:00:04s\n",
      "epoch 27 | loss: 0.2744  | validation_rmse: 0.9895700216293335|  0:00:04s\n",
      "epoch 28 | loss: 0.27097 | validation_rmse: 0.8489199876785278|  0:00:04s\n",
      "epoch 29 | loss: 0.27235 | validation_rmse: 0.8619599938392639|  0:00:04s\n",
      "epoch 30 | loss: 0.26407 | validation_rmse: 0.8395199775695801|  0:00:04s\n",
      "epoch 31 | loss: 0.2643  | validation_rmse: 0.8904399871826172|  0:00:04s\n",
      "epoch 32 | loss: 0.26643 | validation_rmse: 0.8070300221443176|  0:00:05s\n",
      "epoch 33 | loss: 0.26006 | validation_rmse: 0.8529599905014038|  0:00:05s\n",
      "epoch 34 | loss: 0.25873 | validation_rmse: 0.7880499958992004|  0:00:05s\n",
      "epoch 35 | loss: 0.25848 | validation_rmse: 0.8575999736785889|  0:00:05s\n",
      "epoch 36 | loss: 0.25619 | validation_rmse: 0.9407699704170227|  0:00:05s\n",
      "epoch 37 | loss: 0.25613 | validation_rmse: 0.7627900242805481|  0:00:05s\n",
      "epoch 38 | loss: 0.25719 | validation_rmse: 0.7920200228691101|  0:00:05s\n",
      "epoch 39 | loss: 0.2475  | validation_rmse: 0.7700499892234802|  0:00:06s\n",
      "epoch 40 | loss: 0.2485  | validation_rmse: 0.689300000667572|  0:00:06s\n",
      "epoch 41 | loss: 0.24917 | validation_rmse: 0.7913699746131897|  0:00:06s\n",
      "epoch 42 | loss: 0.23475 | validation_rmse: 0.7836099863052368|  0:00:06s\n",
      "epoch 43 | loss: 0.23737 | validation_rmse: 0.69896000623703|  0:00:06s\n",
      "epoch 44 | loss: 0.24016 | validation_rmse: 0.6974700093269348|  0:00:06s\n",
      "epoch 45 | loss: 0.2316  | validation_rmse: 0.654229998588562|  0:00:06s\n",
      "epoch 46 | loss: 0.22755 | validation_rmse: 0.6621000170707703|  0:00:07s\n",
      "epoch 47 | loss: 0.22835 | validation_rmse: 0.6713799834251404|  0:00:07s\n",
      "epoch 48 | loss: 0.21857 | validation_rmse: 0.6525899767875671|  0:00:07s\n",
      "epoch 49 | loss: 0.21936 | validation_rmse: 0.6512699723243713|  0:00:07s\n",
      "epoch 50 | loss: 0.22392 | validation_rmse: 0.6946499943733215|  0:00:07s\n",
      "epoch 51 | loss: 0.22417 | validation_rmse: 0.665340006351471|  0:00:07s\n",
      "epoch 52 | loss: 0.2107  | validation_rmse: 0.6913800239562988|  0:00:08s\n",
      "epoch 53 | loss: 0.21081 | validation_rmse: 0.6692399978637695|  0:00:08s\n",
      "epoch 54 | loss: 0.21032 | validation_rmse: 0.6454200148582458|  0:00:08s\n",
      "epoch 55 | loss: 0.20606 | validation_rmse: 0.889710009098053|  0:00:08s\n",
      "epoch 56 | loss: 0.20907 | validation_rmse: 0.6958900094032288|  0:00:08s\n",
      "epoch 57 | loss: 0.20564 | validation_rmse: 0.6752899885177612|  0:00:08s\n",
      "epoch 58 | loss: 0.21311 | validation_rmse: 0.7098900079727173|  0:00:08s\n",
      "epoch 59 | loss: 0.20607 | validation_rmse: 0.6371200084686279|  0:00:09s\n",
      "epoch 60 | loss: 0.20708 | validation_rmse: 0.9462100267410278|  0:00:09s\n",
      "epoch 61 | loss: 0.2067  | validation_rmse: 1.0644899606704712|  0:00:09s\n",
      "epoch 62 | loss: 0.20013 | validation_rmse: 0.6230700016021729|  0:00:09s\n",
      "epoch 63 | loss: 0.20063 | validation_rmse: 0.6276100277900696|  0:00:09s\n",
      "epoch 64 | loss: 0.20145 | validation_rmse: 0.6408900022506714|  0:00:09s\n",
      "epoch 65 | loss: 0.18397 | validation_rmse: 0.6824600100517273|  0:00:09s\n",
      "epoch 66 | loss: 0.18212 | validation_rmse: 0.6575400233268738|  0:00:10s\n",
      "epoch 67 | loss: 0.18512 | validation_rmse: 0.6462000012397766|  0:00:10s\n",
      "epoch 68 | loss: 0.1831  | validation_rmse: 0.6758000254631042|  0:00:10s\n",
      "epoch 69 | loss: 0.18141 | validation_rmse: 0.8011199831962585|  0:00:10s\n",
      "epoch 70 | loss: 0.18022 | validation_rmse: 0.734000027179718|  0:00:10s\n",
      "epoch 71 | loss: 0.1763  | validation_rmse: 0.7411999702453613|  0:00:10s\n",
      "epoch 72 | loss: 0.17357 | validation_rmse: 0.6313599944114685|  0:00:11s\n",
      "epoch 73 | loss: 0.18177 | validation_rmse: 0.7575399875640869|  0:00:11s\n",
      "epoch 74 | loss: 0.17849 | validation_rmse: 0.6802600026130676|  0:00:11s\n",
      "epoch 75 | loss: 0.17309 | validation_rmse: 0.7631400227546692|  0:00:11s\n",
      "epoch 76 | loss: 0.17146 | validation_rmse: 0.6191400289535522|  0:00:11s\n",
      "epoch 77 | loss: 0.16702 | validation_rmse: 0.6136599779129028|  0:00:11s\n",
      "epoch 78 | loss: 0.16794 | validation_rmse: 0.6255199909210205|  0:00:11s\n",
      "epoch 79 | loss: 0.16788 | validation_rmse: 0.6271799802780151|  0:00:12s\n",
      "epoch 80 | loss: 0.16849 | validation_rmse: 0.6159300208091736|  0:00:12s\n",
      "epoch 81 | loss: 0.16368 | validation_rmse: 0.6218699812889099|  0:00:12s\n",
      "epoch 82 | loss: 0.15959 | validation_rmse: 0.6322000026702881|  0:00:12s\n",
      "epoch 83 | loss: 0.15742 | validation_rmse: 0.625   |  0:00:12s\n",
      "epoch 84 | loss: 0.15202 | validation_rmse: 0.6324499845504761|  0:00:12s\n",
      "epoch 85 | loss: 0.15075 | validation_rmse: 0.6298699975013733|  0:00:12s\n",
      "epoch 86 | loss: 0.15279 | validation_rmse: 0.6444500088691711|  0:00:13s\n",
      "epoch 87 | loss: 0.15753 | validation_rmse: 0.6394199728965759|  0:00:13s\n",
      "epoch 88 | loss: 0.15566 | validation_rmse: 0.6301900148391724|  0:00:13s\n",
      "epoch 89 | loss: 0.16356 | validation_rmse: 0.6330999732017517|  0:00:13s\n",
      "epoch 90 | loss: 0.16257 | validation_rmse: 0.6327499747276306|  0:00:13s\n",
      "epoch 91 | loss: 0.16482 | validation_rmse: 0.6340199708938599|  0:00:13s\n",
      "epoch 92 | loss: 0.15666 | validation_rmse: 0.6264100074768066|  0:00:14s\n",
      "epoch 93 | loss: 0.15701 | validation_rmse: 0.6247000098228455|  0:00:14s\n",
      "epoch 94 | loss: 0.15608 | validation_rmse: 0.6227099895477295|  0:00:14s\n",
      "epoch 95 | loss: 0.14958 | validation_rmse: 0.6219499707221985|  0:00:14s\n",
      "epoch 96 | loss: 0.15322 | validation_rmse: 0.6185299754142761|  0:00:14s\n"
     ]
    },
    {
     "name": "stderr",
     "output_type": "stream",
     "text": [
      "Hyperparameter Search:  33%|██████████████                            | 1/3 [00:14<00:29, 14.87s/it]"
     ]
    },
    {
     "name": "stdout",
     "output_type": "stream",
     "text": [
      "epoch 97 | loss: 0.15014 | validation_rmse: 0.6262400150299072|  0:00:14s\n",
      "\n",
      "Early stopping occurred at epoch 97 with best_epoch = 77 and best_validation_rmse = 0.6136599779129028\n",
      "Before training - y_train shape: (3168, 1), y_val shape: (792, 1)\n",
      "epoch 0  | loss: 4.60862 | validation_rmse: 28.2367000579834|  0:00:00s\n",
      "epoch 1  | loss: 1.56319 | validation_rmse: 11.183770179748535|  0:00:00s\n",
      "epoch 2  | loss: 0.91949 | validation_rmse: 6.820720195770264|  0:00:00s\n",
      "epoch 3  | loss: 0.73939 | validation_rmse: 8.52908992767334|  0:00:00s\n",
      "epoch 4  | loss: 0.69112 | validation_rmse: 1.24058997631073|  0:00:00s\n",
      "epoch 5  | loss: 0.5267  | validation_rmse: 0.8463299870491028|  0:00:00s\n",
      "epoch 6  | loss: 0.47522 | validation_rmse: 0.8309900164604187|  0:00:01s\n",
      "epoch 7  | loss: 0.41653 | validation_rmse: 0.7147700190544128|  0:00:01s\n",
      "epoch 8  | loss: 0.38948 | validation_rmse: 0.7497400045394897|  0:00:01s\n",
      "epoch 9  | loss: 0.37639 | validation_rmse: 0.891480028629303|  0:00:01s\n",
      "epoch 10 | loss: 0.34801 | validation_rmse: 0.8508099913597107|  0:00:01s\n",
      "epoch 11 | loss: 0.34731 | validation_rmse: 0.7889699935913086|  0:00:01s\n",
      "epoch 12 | loss: 0.35048 | validation_rmse: 0.9331899881362915|  0:00:02s\n",
      "epoch 13 | loss: 0.33876 | validation_rmse: 1.0631400346755981|  0:00:02s\n",
      "epoch 14 | loss: 0.3291  | validation_rmse: 1.1347999572753906|  0:00:02s\n",
      "epoch 15 | loss: 0.32391 | validation_rmse: 1.151859998703003|  0:00:02s\n",
      "epoch 16 | loss: 0.318   | validation_rmse: 1.184000015258789|  0:00:02s\n",
      "epoch 17 | loss: 0.3134  | validation_rmse: 1.1770100593566895|  0:00:02s\n",
      "epoch 18 | loss: 0.30998 | validation_rmse: 1.0041899681091309|  0:00:03s\n",
      "epoch 19 | loss: 0.29343 | validation_rmse: 0.8211100101470947|  0:00:03s\n",
      "epoch 20 | loss: 0.29658 | validation_rmse: 0.754800021648407|  0:00:03s\n",
      "epoch 21 | loss: 0.2927  | validation_rmse: 0.7738400101661682|  0:00:03s\n",
      "epoch 22 | loss: 0.28954 | validation_rmse: 0.8080999851226807|  0:00:03s\n",
      "epoch 23 | loss: 0.28225 | validation_rmse: 0.7923499941825867|  0:00:03s\n",
      "epoch 24 | loss: 0.27641 | validation_rmse: 0.9006100296974182|  0:00:03s\n",
      "epoch 25 | loss: 0.27235 | validation_rmse: 0.9822400212287903|  0:00:04s\n",
      "epoch 26 | loss: 0.28254 | validation_rmse: 0.9727399945259094|  0:00:04s\n",
      "epoch 27 | loss: 0.27822 | validation_rmse: 0.9476500153541565|  0:00:04s\n",
      "\n",
      "Early stopping occurred at epoch 27 with best_epoch = 7 and best_validation_rmse = 0.7147700190544128\n"
     ]
    },
    {
     "name": "stderr",
     "output_type": "stream",
     "text": [
      "Hyperparameter Search:  67%|████████████████████████████              | 2/3 [00:19<00:08,  8.76s/it]"
     ]
    },
    {
     "name": "stdout",
     "output_type": "stream",
     "text": [
      "Before training - y_train shape: (3168, 1), y_val shape: (792, 1)\n",
      "epoch 0  | loss: 4.92137 | validation_rmse: 17.54269027709961|  0:00:00s\n",
      "epoch 1  | loss: 1.45306 | validation_rmse: 18.79380989074707|  0:00:00s\n",
      "epoch 2  | loss: 0.99615 | validation_rmse: 5.8201398849487305|  0:00:00s\n",
      "epoch 3  | loss: 0.75197 | validation_rmse: 3.631659984588623|  0:00:00s\n",
      "epoch 4  | loss: 0.57861 | validation_rmse: 5.8150200843811035|  0:00:00s\n",
      "epoch 5  | loss: 0.52159 | validation_rmse: 3.507930040359497|  0:00:00s\n",
      "epoch 6  | loss: 0.53841 | validation_rmse: 1.9781099557876587|  0:00:01s\n",
      "epoch 7  | loss: 0.46349 | validation_rmse: 1.7652000188827515|  0:00:01s\n",
      "epoch 8  | loss: 0.43057 | validation_rmse: 2.0100901126861572|  0:00:01s\n",
      "epoch 9  | loss: 0.40429 | validation_rmse: 1.1165200471878052|  0:00:01s\n",
      "epoch 10 | loss: 0.38123 | validation_rmse: 0.9399399757385254|  0:00:01s\n",
      "epoch 11 | loss: 0.35943 | validation_rmse: 1.591599941253662|  0:00:01s\n",
      "epoch 12 | loss: 0.37284 | validation_rmse: 1.203320026397705|  0:00:02s\n",
      "epoch 13 | loss: 0.3428  | validation_rmse: 0.7132700085639954|  0:00:02s\n",
      "epoch 14 | loss: 0.34356 | validation_rmse: 0.7296199798583984|  0:00:02s\n",
      "epoch 15 | loss: 0.33385 | validation_rmse: 0.794219970703125|  0:00:02s\n",
      "epoch 16 | loss: 0.32664 | validation_rmse: 0.7870399951934814|  0:00:03s\n",
      "epoch 17 | loss: 0.32553 | validation_rmse: 0.8810399770736694|  0:00:03s\n",
      "epoch 18 | loss: 0.31807 | validation_rmse: 0.8421900272369385|  0:00:03s\n",
      "epoch 19 | loss: 0.31189 | validation_rmse: 0.9587799906730652|  0:00:03s\n",
      "epoch 20 | loss: 0.31113 | validation_rmse: 0.9319300055503845|  0:00:04s\n",
      "epoch 21 | loss: 0.30456 | validation_rmse: 1.099810004234314|  0:00:04s\n",
      "epoch 22 | loss: 0.29779 | validation_rmse: 1.0388200283050537|  0:00:04s\n",
      "epoch 23 | loss: 0.29035 | validation_rmse: 1.121899962425232|  0:00:04s\n",
      "epoch 24 | loss: 0.28461 | validation_rmse: 1.021780014038086|  0:00:04s\n",
      "epoch 25 | loss: 0.27866 | validation_rmse: 0.9809600114822388|  0:00:04s\n",
      "epoch 26 | loss: 0.27727 | validation_rmse: 0.921999990940094|  0:00:04s\n",
      "epoch 27 | loss: 0.27095 | validation_rmse: 1.0259100198745728|  0:00:05s\n",
      "epoch 28 | loss: 0.27132 | validation_rmse: 1.054319977760315|  0:00:05s\n",
      "epoch 29 | loss: 0.26942 | validation_rmse: 1.1958800554275513|  0:00:05s\n",
      "epoch 30 | loss: 0.26896 | validation_rmse: 1.0271799564361572|  0:00:05s\n",
      "epoch 31 | loss: 0.25567 | validation_rmse: 1.1380599737167358|  0:00:05s\n",
      "epoch 32 | loss: 0.25366 | validation_rmse: 1.0806599855422974|  0:00:05s\n",
      "epoch 33 | loss: 0.25579 | validation_rmse: 1.012719988822937|  0:00:05s\n",
      "\n",
      "Early stopping occurred at epoch 33 with best_epoch = 13 and best_validation_rmse = 0.7132700085639954\n"
     ]
    },
    {
     "name": "stderr",
     "output_type": "stream",
     "text": [
      "Hyperparameter Search: 100%|██████████████████████████████████████████| 3/3 [00:25<00:00,  8.47s/it]\n"
     ]
    }
   ],
   "source": [
    "best_model = getBestTabNetModel(is_classifier=False)"
   ]
  },
  {
   "cell_type": "code",
   "execution_count": 65,
   "id": "d903dfe2",
   "metadata": {
    "execution": {
     "iopub.execute_input": "2024-12-11T00:51:53.045652Z",
     "iopub.status.busy": "2024-12-11T00:51:53.045293Z",
     "iopub.status.idle": "2024-12-11T00:51:53.812409Z",
     "shell.execute_reply": "2024-12-11T00:51:53.811395Z"
    },
    "papermill": {
     "duration": 0.801141,
     "end_time": "2024-12-11T00:51:53.814138",
     "exception": false,
     "start_time": "2024-12-11T00:51:53.012997",
     "status": "completed"
    },
    "tags": []
   },
   "outputs": [
    {
     "name": "stdout",
     "output_type": "stream",
     "text": [
      "Best Train QWK: -0.0383\n",
      "Best Train Accuracy: 0.3755\n",
      "Best Train F1: 0.3416\n"
     ]
    }
   ],
   "source": [
    "raw_preds = best_model.predict(X.values.astype(np.float32))\n",
    "thresholds = optimize_thresholds(y.values.astype(np.float32), raw_preds)\n",
    "train_pred = apply_thresholds(raw_preds, thresholds)\n",
    "\n",
    "train_kappa = quadratic_weighted_kappa(y, train_pred)\n",
    "train_accuracy = accuracy_score(y, train_pred)\n",
    "train_f1 = f1_score(y, train_pred, average='weighted')\n",
    "\n",
    "print(f\"Best Train QWK: {train_kappa:.4f}\")\n",
    "print(f\"Best Train Accuracy: {train_accuracy:.4f}\")\n",
    "print(f\"Best Train F1: {train_f1:.4f}\")"
   ]
  },
  {
   "cell_type": "code",
   "execution_count": 66,
   "id": "3a2fbaf1",
   "metadata": {
    "execution": {
     "iopub.execute_input": "2024-12-11T00:51:53.877828Z",
     "iopub.status.busy": "2024-12-11T00:51:53.877448Z",
     "iopub.status.idle": "2024-12-11T00:51:53.912501Z",
     "shell.execute_reply": "2024-12-11T00:51:53.911596Z"
    },
    "papermill": {
     "duration": 0.069978,
     "end_time": "2024-12-11T00:51:53.915355",
     "exception": false,
     "start_time": "2024-12-11T00:51:53.845377",
     "status": "completed"
    },
    "tags": []
   },
   "outputs": [
    {
     "name": "stdout",
     "output_type": "stream",
     "text": [
      "Best Test QWK: -0.0339\n",
      "Best Train Accuracy: 0.4195\n",
      "Best Train F1: 0.4180\n"
     ]
    }
   ],
   "source": [
    "X_test = test_df.drop('sii', axis=1)\n",
    "y_test = test_df['sii'].astype(int)\n",
    "test_X = X_test.values.astype(np.float32)\n",
    "raw_preds = best_model.predict(test_X)\n",
    "y_test_pred = apply_thresholds(raw_preds, thresholds)\n",
    "test_kappa = quadratic_weighted_kappa(y_test, y_test_pred)\n",
    "test_accuracy = accuracy_score(y_test, y_test_pred)\n",
    "test_f1 = f1_score(y_test, y_test_pred, average='weighted')\n",
    "\n",
    "print(f\"Best Test QWK: {test_kappa:.4f}\")\n",
    "print(f\"Best Train Accuracy: {test_accuracy:.4f}\")\n",
    "print(f\"Best Train F1: {test_f1:.4f}\")"
   ]
  }
 ],
 "metadata": {
  "kaggle": {
   "accelerator": "gpu",
   "dataSources": [
    {
     "databundleVersionId": 9643020,
     "sourceId": 81933,
     "sourceType": "competition"
    }
   ],
   "dockerImageVersionId": 30804,
   "isGpuEnabled": true,
   "isInternetEnabled": true,
   "language": "python",
   "sourceType": "notebook"
  },
  "kernelspec": {
   "display_name": "Python 3",
   "language": "python",
   "name": "python3"
  },
  "language_info": {
   "codemirror_mode": {
    "name": "ipython",
    "version": 3
   },
   "file_extension": ".py",
   "mimetype": "text/x-python",
   "name": "python",
   "nbconvert_exporter": "python",
   "pygments_lexer": "ipython3",
   "version": "3.10.14"
  },
  "papermill": {
   "default_parameters": {},
   "duration": 485.86694,
   "end_time": "2024-12-11T00:51:56.774647",
   "environment_variables": {},
   "exception": null,
   "input_path": "__notebook__.ipynb",
   "output_path": "__notebook__.ipynb",
   "parameters": {},
   "start_time": "2024-12-11T00:43:50.907707",
   "version": "2.6.0"
  }
 },
 "nbformat": 4,
 "nbformat_minor": 5
}
